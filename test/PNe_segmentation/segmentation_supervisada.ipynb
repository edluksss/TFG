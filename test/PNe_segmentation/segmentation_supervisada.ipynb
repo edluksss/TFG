{
 "cells": [
  {
   "cell_type": "markdown",
   "metadata": {},
   "source": [
    "# Pruebas de segmentación con el Catálogo Morfológico de Nebulosas Planetarias del IAC (SUPERVISADO)\n",
    "En este documento vamos a probar las técnicas comentadas por Diego Cantorna en el documento de astrogestem (disponible en la carpeta astrosegstem de este mismo repositorio). Todas las técnicas testeadas en este Jupyter Notebook son de aprendizaje supervisado."
   ]
  },
  {
   "cell_type": "markdown",
   "metadata": {},
   "source": [
    "## 1. Carga del Dataset\n",
    "Vamos a definir una clase, que tome como base la clase Sequence de Tensorflow, para poder cargar todo nuestro conjunto de imágenes de 2 canales con su máscara correspondiente."
   ]
  },
  {
   "cell_type": "code",
   "execution_count": 16,
   "metadata": {},
   "outputs": [
    {
     "name": "stdout",
     "output_type": "stream",
     "text": [
      "Vamos a cambiar el directorio de trabajo\n",
      "\n",
      "El directorio actual es: /mnt/netapp2/Home_FT2/home/ulc/cursos/cursob82/TFG/PNe_segmentation\n",
      "\n",
      "Contenido del directorio actual:\n",
      "\t data\n",
      "\t images\n",
      "\t masks\n",
      "\t data_files.csv\n",
      "\t data_files_1c.csv\n",
      "\t commands.txt\n",
      "\t tf_fits\n",
      "\t skfuzzy\n",
      "\t segmentation_supervisada.ipynb\n",
      "\t launch_jupyter.sh\n",
      "\t commands_AIDA.txt\n",
      "\t slurm-7135622.out\n",
      "\t segmentation_no_supervisada.ipynb\n",
      "\t segmentation_no_supervisada_2c.ipynb\n",
      "\t telegram_bot.py\n",
      "\t train_py\n",
      "\t slurm-7135879.out\n",
      "\t train_sh\n",
      "\t slurm-7157588.out\n",
      "\t slurm-7168732.out\n"
     ]
    }
   ],
   "source": [
    "import os\n",
    "\n",
    "print(\"Vamos a cambiar el directorio de trabajo\")\n",
    "\n",
    "# Indicamos la ruta del directorio de trabajo\n",
    "route = \"C:\\\\Users\\\\Lucan\\\\OneDrive - Universidade da Coruña\\\\Escritorio\\\\4_GCEID\\\\TFG\\\\test\\\\PNe_segmentation\"\n",
    "route = os.getcwd()#+ \"/TFG/PNe_segmentation\"\n",
    "os.chdir(route)\n",
    "\n",
    "current_directory = os.getcwd()\n",
    "print(\"\\nEl directorio actual es:\", current_directory)\n",
    "\n",
    "# Listamos el contenido del directorio\n",
    "files = os.listdir(current_directory)\n",
    "print(\"\\nContenido del directorio actual:\")\n",
    "for file in files:\n",
    "    print(\"\\t\",file)\n",
    "    \n",
    "# Listamos el contenido del directorio de las máscaras\n",
    "# masks_directory = route+\"TFG\\\\test\\\\PNe_segmentation\\\\masks\"\n",
    "# data_directory = route+\"TFG\\\\test\\\\PNe_segmentation\\\\data\"\n",
    "## Ejecución en el CESGA Finisterrae III\n",
    "masks_directory = route+\"/masks\"\n",
    "data_directory = route+\"/data\"\n"
   ]
  },
  {
   "cell_type": "code",
   "execution_count": 17,
   "metadata": {},
   "outputs": [],
   "source": [
    "import glob\n",
    "from torch.utils.data import Dataset\n",
    "import matplotlib.pyplot as plt\n",
    "import torch\n",
    "from torchvision import transforms\n",
    "from torchvision.transforms.functional import InterpolationMode\n",
    "import random as rd\n",
    "import numpy as np\n",
    "from astropy.io import fits\n",
    "\n",
    "MinMaxNorm = lambda x: (x - np.min(x)) / (np.max(x) - np.min(x))\n",
    "\n",
    "class NebulaeDataset(Dataset):\n",
    "    \n",
    "    def __init__(self, image_path, mask_path, dataframe, rsize = None, transform = None):\n",
    "        super().__init__()\n",
    "        \n",
    "        self.image_path = image_path  # Ruta a las imágenes\n",
    "        self.mask_path = mask_path  # Ruta a las máscaras\n",
    "        \n",
    "        # Cargar los nombres de las imágenes y máscaras desde el dataframe\n",
    "        self.data_dict = dataframe.set_index('name').to_dict(orient='index')\n",
    "\n",
    "        # Filtrar las rutas de archivo según los nombres en el dataframe\n",
    "        self.img_files = [os.path.join(self.image_path, files['h']) for files in self.data_dict.values()]\n",
    "        self.mask_files = [os.path.join(self.mask_path, files['mask']) for files in self.data_dict.values()]\n",
    "        self.names = list(self.data_dict.keys())  # Nombres de las imágenes y máscaras\n",
    "                \n",
    "        self.rsize = rsize  # Size to use in default Resize transform\n",
    "        self.transform = transform\n",
    "\n",
    "    # Returns both the image and the mask\n",
    "    def __getitem__(self, index):\n",
    "        img_path = self.img_files[index]\n",
    "        mask_path = self.mask_files[index]\n",
    "        \n",
    "        image = np.flip(fits.getdata(img_path, memmap=False).astype(np.float32), axis=0)\n",
    "        mask = plt.imread(mask_path)\n",
    "        \n",
    "        # Take only the first channel. CHANGE THIS IF WE ARE GOING TO WORK WITH NUMEROUS CHANNELS\n",
    "        if len(mask.shape) > 2:\n",
    "            mask = mask[:,:,0]\n",
    "        if len(image.shape) > 2:\n",
    "            image = image[:,:,0]\n",
    "        \n",
    "        # Apply the defined transformations to both image and mask\n",
    "        if self.transform is not None:\n",
    "            seed = np.random.randint(2147483647) # make a seed with numpy generator \n",
    "            rd.seed(seed) # apply this seed to image transforms\n",
    "            torch.manual_seed(seed)\n",
    "            if type(self.transform) == tuple:\n",
    "                image = self.transform[0](image)\n",
    "            else:\n",
    "                image = self.transform(image)\n",
    "            rd.seed(seed) # apply the same seed to mask transforms\n",
    "            torch.manual_seed(seed) \n",
    "            if type(self.transform) == tuple:\n",
    "                mask = self.transform[1](mask)\n",
    "            else:\n",
    "                mask = self.transform(mask)\n",
    "        else:\n",
    "            if self.rsize is not None:\n",
    "                t = transforms.Compose([\n",
    "                    MinMaxNorm,\n",
    "                    transforms.ToTensor(),\n",
    "                    transforms.Resize(self.rsize, interpolation= InterpolationMode.NEAREST)\n",
    "                    ])\n",
    "            else:\n",
    "                t = transforms.Compose([\n",
    "                    MinMaxNorm,\n",
    "                    transforms.ToTensor()\n",
    "                    ])\n",
    "\n",
    "            image = t(image)\n",
    "            mask = t(mask)\n",
    "        \n",
    "        return image, mask\n",
    "\n",
    "    def __len__(self):\n",
    "        return len(self.img_files)\n",
    "    \n",
    "    def different_shapes(self):\n",
    "        shapes = set([tuple(self[i][0].permute(2,1,0).shape) for i in range(len(self))])\n",
    "        return list(shapes)\n",
    "    \n",
    "    def plot(self, index, plot_image = True, plot_mask = False):\n",
    "        \"\"\"\n",
    "        Muestra una imagen y/o máscara aleatoria del lote.\n",
    "        \n",
    "        Parámetros:\n",
    "        index (int): Índice del lote.\n",
    "        plot_image (bool, opcional): Si es True, muestra la imagen. Por defecto es True.\n",
    "        plot_mask (bool, opcional): Si es True, muestra la máscara. Por defecto es False.\n",
    "        \"\"\"\n",
    "        image, mask = self[index]\n",
    "        print(image.shape, mask.shape)\n",
    "        image = image.permute(1,2,0)\n",
    "        mask = mask.permute(1,2,0)\n",
    "        name = self.names[index]\n",
    "        \n",
    "        if plot_image:\n",
    "            fig, ax = plt.subplots(1, 1, figsize=(5, 5))\n",
    "            fig.suptitle(f\"Canales de la nebulosa {name}\", fontweight = 'bold', fontsize = 14)\n",
    "            ax.imshow(image, cmap = \"gray\")\n",
    "            ax.set_title(f\"Canal H\")\n",
    "            fig.show()\n",
    "        if plot_mask:\n",
    "            fig, ax = plt.subplots(1, 1, figsize=(5, 5))\n",
    "            fig.suptitle(f\"Máscara de la nebulosa {name}\", fontweight = 'bold', fontsize = 14)\n",
    "            ax.imshow(mask, cmap = \"gray\")\n",
    "            fig.show()\n",
    "            \n",
    "    def different_shapes(self):\n",
    "        shapes = set([tuple(self[i][0].permute(2,1,0).shape) for i in range(len(self))])\n",
    "        return list(shapes)\n"
   ]
  },
  {
   "cell_type": "markdown",
   "metadata": {},
   "source": [
    "Ahora deberíamos de ser capaces de poder cargar todas las imágenes, como tensores de PyTorch, de nuestro csv como un Dataset"
   ]
  },
  {
   "cell_type": "code",
   "execution_count": 18,
   "metadata": {},
   "outputs": [],
   "source": [
    "import pandas as pd\n",
    "df = pd.read_csv(\"data_files_1c.csv\")\n",
    "dataset = NebulaeDataset(data_directory, masks_directory, df)"
   ]
  },
  {
   "cell_type": "code",
   "execution_count": 19,
   "metadata": {},
   "outputs": [
    {
     "name": "stdout",
     "output_type": "stream",
     "text": [
      "torch.Size([1, 492, 492]) torch.Size([1, 492, 492])\n"
     ]
    },
    {
     "data": {
      "image/png": "[encoded data removed]",
      "text/plain": [
       "<Figure size 500x500 with 1 Axes>"
      ]
     },
     "metadata": {},
     "output_type": "display_data"
    },
    {
     "data": {
      "image/png": "[encoded data removed]",
      "text/plain": [
       "<Figure size 500x500 with 1 Axes>"
      ]
     },
     "metadata": {},
     "output_type": "display_data"
    }
   ],
   "source": [
    "dataset.plot(40, plot_image = True, plot_mask = True)"
   ]
  },
  {
   "cell_type": "markdown",
   "metadata": {},
   "source": [
    "## 2. Segmentación de las imágenes\n",
    "Para la segmentación de las imágenes, vamos a probar diferentes algoritmos/técnicas propuestas por Diego Cantorna en el notebook de 'astrosegstem', pero para un mayor conjunto de datos para poder evaluarlas y verificar sus resultados."
   ]
  },
  {
   "cell_type": "markdown",
   "metadata": {},
   "source": [
    "### 2.0. Evaluación de resultados\n",
    "Para evaluar el resultado de las técnicas de segmentación se pueden emplear distintas métricas.\n",
    "\n",
    "Algunas de las métricas más utilizadas son la precisión, accuracy y recall, que junto al análisis de la matriz de confusión son las más utilizadas para cualquier problema de procesamiento de imágenes. A estas también se unen:\n",
    "- **Coeficiente de Dice** (Dice Similarity Coefficient): Mide la similitud entre la segmentación predicha y la segmentación de referencia. Valores más cercanos a 1 indican una mejor superposición.\n",
    "- **Índice de Jaccard** (Jaccard Index o Intersection over Union, IoU): Calcula la intersección entre la segmentación predicha y la segmentación de referencia dividida por su unión. También mide la superposición.\n",
    "las cuales son métricas básicas y esenciales en los problemas de segmentación.\n",
    "\n",
    "Vamos a utilizar todas estas métricas para evaluar nuestras técnicas de segmentación."
   ]
  },
  {
   "cell_type": "code",
   "execution_count": 20,
   "metadata": {},
   "outputs": [],
   "source": [
    "# from sklearn import metrics\n",
    "# def dice_coef(y_true, y_pred, smooth=1):\n",
    "#     intersection = np.sum(y_true * y_pred)\n",
    "#     union = np.sum(y_true) + np.sum(y_pred)\n",
    "#     dice = (2. * intersection + smooth) / (union + smooth)\n",
    "#     return dice\n",
    "\n",
    "# def evaluate_segmentation(mask, segmentation, confusion_matrix=False, verbose=False):\n",
    "#     mask = tf.reshape(mask, -1)\n",
    "#     segmentation = segmentation.ravel()\n",
    "#     # Calcular el índice de Jaccard\n",
    "#     jaccard = metrics.jaccard_score(mask, segmentation)\n",
    "#     # Calcular el índice de DICE\n",
    "#     dice = dice_coef(mask, segmentation)\n",
    "#     # Calcular el índice de precisión\n",
    "#     precision = metrics.precision_score(mask, segmentation)\n",
    "#     # Calcular el índice de sensibilidad\n",
    "#     recall = metrics.recall_score(mask, segmentation)\n",
    "#     # Calcular el accuracy\n",
    "#     accuracy = metrics.accuracy_score(mask, segmentation)\n",
    "\n",
    "#     conf_matrix = None\n",
    "    \n",
    "#     if verbose:\n",
    "#         # Imprimir los resultados\t\n",
    "#         print(f\"Jaccard: {jaccard:.4f}\\tDICE: {dice:.4f}\\tPrecisión: {precision:.4f}\\tSensibilidad: {recall:.4f}\\n\")\n",
    "    \n",
    "#     if confusion_matrix:\n",
    "#         # Calcular la matriz de confusión\n",
    "#         conf_matrix = metrics.confusion_matrix(mask, segmentation)\n",
    "#         if verbose:\n",
    "#             print(' Verdaderos negativos (TN):', conf_matrix[0, 0])\n",
    "\n",
    "#             print(' Falsos positivos (FP):', conf_matrix[0, 1])\n",
    "\n",
    "#             print(' Falsos negativos (FN):', conf_matrix[1, 0])\n",
    "\n",
    "#             print(' Verdaderos positivos (TP):', conf_matrix[1, 1])\n",
    "#             print('\\n')\n",
    "\n",
    "#         return jaccard, dice, accuracy, precision, recall, conf_matrix\n",
    "    \n",
    "#     return jaccard, dice, accuracy, precision, recall, conf_matrix"
   ]
  },
  {
   "cell_type": "markdown",
   "metadata": {},
   "source": [
    "### 2.1. Técnicas de agrupamiento de datos\n",
    "Las técnicas de agrupamiento (clustering) tratan de encontrar una partición de un\n",
    "conjunto de datos de forma que los elementos de un mismo grupo sean más similares\n",
    "que los elementos de grupos distintos. Esto permite resumir un conjunto de datos,\n",
    "y puede facilitar algunos procesos de visualización o análisis posteriores con otras\n",
    "técnicas."
   ]
  },
  {
   "cell_type": "markdown",
   "metadata": {},
   "source": [
    "### 2.1. K-Means\n",
    "Vamos a comenzar por la técnica más básica (y en la que se basan la mayoría), K-Means.\n",
    "\n",
    "Para aplicar el algoritmo se selecciona el número de grupos a utilizar y un prototipo (elemento representativo) de cada grupo. A continuación se realiza un proceso iterativo en el que se van asignando datos al grupo más próximo, se recalcula el prototipo de cada grupo, y se repite el proceso hasta que se estabiliza. \n",
    "\n",
    "En este caso aplicaremos el algoritmo a los píxeles de imágenes de niveles de gris, por lo que el prototipo de cada grupo será el valor de un píxel. El número de grupos podemos establecerlo manualmente, realizando pruebas con distintos valores. Existen algoritmos más complejos que tratan de automatizar el proceso, pero es interesante familiarizarse inicialmente con las versiones más simples de los algoritmos, para centrar el estudio en los aspectos fundamentales.\n"
   ]
  },
  {
   "cell_type": "markdown",
   "metadata": {},
   "source": [
    "Las pruebas con el K-Means van a ser realizadas con un modelo K-Means para cada imagen (para ambos canales) normalizando los datos entre 0 y 1 y dejandolos con sus valores reales."
   ]
  },
  {
   "cell_type": "code",
   "execution_count": 21,
   "metadata": {},
   "outputs": [
    {
     "name": "stdout",
     "output_type": "stream",
     "text": [
      "torch.Size([1, 246, 246]) torch.Size([1, 246, 246])\n"
     ]
    },
    {
     "data": {
      "image/png": "[encoded data removed]",
      "text/plain": [
       "<Figure size 500x500 with 1 Axes>"
      ]
     },
     "metadata": {},
     "output_type": "display_data"
    },
    {
     "data": {
      "image/png": "[encoded data removed]",
      "text/plain": [
       "<Figure size 500x500 with 1 Axes>"
      ]
     },
     "metadata": {},
     "output_type": "display_data"
    }
   ],
   "source": [
    "from typing import Any\n",
    "from sklearn.cluster import KMeans\n",
    "\n",
    "class ApplyKMeans:\n",
    "    def __init__(self, concat = False, **kwargs):\n",
    "        self.concat = concat\n",
    "        self.kwargs = kwargs\n",
    "    \n",
    "    def __call__(self, im):\n",
    "        im_array = im.reshape(-1, 1)\n",
    "        # im_array = torch.reshape(im, (-1, 1))  # Redimensionar la imagen para el algoritmo K-Means\n",
    "    \n",
    "        kmeans = KMeans(**self.kwargs).fit(im_array)  # Entrenar el modelo K-Means\n",
    "        \n",
    "        # Obtener la imagen segmentada aplicando el algoritmo a cada píxel de la imagen\n",
    "        im_segm_array = kmeans.predict(im_array)\n",
    "\n",
    "        # Reemplazar los índices de los clústeres por los centroides de los clústeres\n",
    "        im_segm_array = np.array([kmeans.cluster_centers_[i] for i in im_segm_array])\n",
    "\n",
    "        # Cambiar las dimensiones de los datos segmentados para que se correspondan con la imagen inicial\n",
    "        im_segm = im_segm_array.reshape(im.shape[0], im.shape[1], 1)\n",
    "        \n",
    "        if self.concat:\n",
    "            im = np.expand_dims(im, axis=2)\n",
    "            return np.concatenate((im, im_segm), axis=2)\n",
    "        else:\n",
    "            return im_segm\n",
    "\n",
    "class CustomPad():\n",
    "    def __init__(self, target_size = (1056, 1536), fill = 0):\n",
    "        self.target_size = target_size\n",
    "        self.fill = fill\n",
    "        \n",
    "    def __call__(self, image):\n",
    "        # Get the size of the input image\n",
    "        width, height = image.shape[2], image.shape[1]\n",
    "\n",
    "        # Compute the size of the padding\n",
    "        pad_width = self.target_size[1] - width\n",
    "        pad_height = self.target_size[0] - height\n",
    "\n",
    "        # Compute the padding\n",
    "        pad_left = pad_width // 2\n",
    "        pad_right = pad_width - pad_left\n",
    "        pad_top = pad_height // 2\n",
    "        pad_bottom = pad_height - pad_top\n",
    "\n",
    "        # Apply the padding\n",
    "        return transforms.functional.pad(image, (pad_left, pad_top, pad_right, pad_bottom), fill = self.fill)\n",
    "    \n",
    "transform_x = transforms.Compose([\n",
    "                    MinMaxNorm,\n",
    "                    ApplyKMeans(concat=False, n_clusters=7, max_iter=10, n_init=10, random_state=42),\n",
    "                    transforms.ToTensor(),\n",
    "                    # CustomPad(target_size = (980, 980), fill = -1)\n",
    "                    ])\n",
    "\n",
    "transform_y = transforms.Compose([\n",
    "                    transforms.ToTensor(),\n",
    "                    # CustomPad(target_size = (980, 980), fill = 0)\n",
    "                    ])\n",
    "\n",
    "# Prueba normalizando los datos entre 0 y 1\n",
    "dataset = NebulaeDataset(data_directory, masks_directory, df, transform = (transform_x, transform_y))\n",
    "\n",
    "dataset.plot(55, plot_image = True, plot_mask = True)"
   ]
  },
  {
   "cell_type": "code",
   "execution_count": 22,
   "metadata": {},
   "outputs": [],
   "source": [
    "import torch\n",
    "import torch.nn as nn\n",
    "import torch.nn.functional as F\n",
    "from torch.optim import Adam\n",
    "import segmentation_models_pytorch as smp\n",
    "import lightning as L\n",
    "import torchmetrics as tm\n",
    "\n",
    "class MLPClassifier(torch.nn.Module):\n",
    "        \n",
    "    def __init__(self, input_dim, hidden_dims, output_dim):\n",
    "        super().__init__()\n",
    "        \n",
    "        self.layer1_linear = nn.Linear(input_dim, hidden_dims[0])\n",
    "        \n",
    "        self.hidden_layers = nn.ModuleList([nn.Linear(hidden_dims[i], hidden_dims[i+1]) for i in range(len(hidden_dims)-1)])\n",
    "        \n",
    "        self.output_layer = nn.Linear(hidden_dims[-1], output_dim)\n",
    "        \n",
    "    def forward(self, x):\n",
    "        x = F.relu(self.layer1_linear(x))\n",
    "        \n",
    "        for layer in self.hidden_layers:\n",
    "            x = F.relu(layer(x))\n",
    "            \n",
    "        return self.output_layer(x)\n",
    "    \n",
    "def get_segmentation_masks(outputs, threshold=0.5):\n",
    "    probs = torch.sigmoid(outputs)\n",
    "    masks = (probs > threshold)*1.0\n",
    "    return masks\n",
    "\n",
    "metrics_fncs = {\n",
    "    \"accuracy\": tm.Accuracy, \n",
    "    \"precision\": tm.Precision, \n",
    "    \"recall\": tm.Recall, \n",
    "    \"f1\": tm.F1Score\n",
    "    }\n",
    "\n",
    "class MLPModel(L.LightningModule):\n",
    "    def __init__(self, model, learning_rate = 0.0001, loss_fn = nn.BCEWithLogitsLoss, optimizer = Adam, threshold = 0.5, current_fold = 0):\n",
    "        super().__init__()\n",
    "        self.model = model\n",
    "        \n",
    "        self.learning_rate = learning_rate\n",
    "        self.loss_fn = loss_fn()\n",
    "        self.optimizer = optimizer\n",
    "        self.threshold = threshold\n",
    "        \n",
    "        self.current_fold = current_fold\n",
    "        \n",
    "        self.metrics_train = nn.ModuleDict({'train_accuracy': tm.Accuracy(task=\"binary\", threshold=self.threshold), 'train_iou': tm.JaccardIndex(task=\"binary\", threshold=self.threshold)})#, 'train_dice': tm.Dice(task=\"binary\", threshold=self.threshold)})\n",
    "        self.metrics_val = nn.ModuleDict({f\"val_{metric_name}\": metric_fnc(task=\"binary\", threshold=self.threshold) for metric_name, metric_fnc in metrics_fncs.items()})\n",
    "        self.metrics_test = nn.ModuleDict({f\"test_{metric_name}\": metric_fnc(task=\"binary\", threshold=self.threshold) for metric_name, metric_fnc in metrics_fncs.items()})\n",
    "        \n",
    "        self.metrics_dict = nn.ModuleDict({\n",
    "            \"train_metrics\": nn.ModuleDict({f\"train_{metric_name}\": metric_fnc(task=\"binary\", threshold=self.threshold) for metric_name, metric_fnc in metrics_fncs.items()}),\n",
    "            \"val_metrics\": nn.ModuleDict({f\"val_{metric_name}\": metric_fnc(task=\"binary\", threshold=self.threshold) for metric_name, metric_fnc in metrics_fncs.items()}),\n",
    "            \"test_metrics\": nn.ModuleDict({f\"test_{metric_name}\": metric_fnc(task=\"binary\", threshold=self.threshold) for metric_name, metric_fnc in metrics_fncs.items()})\n",
    "        })\n",
    "        \n",
    "        self.stage_step_outputs = {'train': [], 'val': [], 'test': []}\n",
    "        \n",
    "        self.save_hyperparameters()\n",
    "        \n",
    "    def forward(self, x):\n",
    "        return self.model(x)\n",
    "    \n",
    "    def shared_step(self, batch, stage):\n",
    "        x, y = batch\n",
    "        y_logits = self(x)\n",
    "        \n",
    "        loss = self.loss_fn(y_logits, y)\n",
    "        # self.log(f\"{stage}_loss\", loss)\n",
    "        \n",
    "        y_hat = torch.sigmoid(y_logits)\n",
    "        \n",
    "        for metric_name, metric_fnc in self.metrics_dict[stage+\"_metrics\"].items():\n",
    "            metric_fnc(y_hat, y)\n",
    "            self.log(f\"{metric_name}\", metric_fnc, sync_dist=True)\n",
    "        \n",
    "        self.stage_step_outputs[stage].append({\"loss\": loss})\n",
    "        \n",
    "        return {\"loss\": loss}\n",
    "        \n",
    "    def shared_epoch_end(self, outputs, stage):\n",
    "        total_loss = 0\n",
    "        iter_count = len(outputs)\n",
    "        \n",
    "        for idx in range(iter_count):\n",
    "            total_loss += outputs[idx]['loss'].item()\n",
    "        \n",
    "        metrics = {\n",
    "            f\"{stage}_fold\": self.current_fold,\n",
    "            f\"{stage}_loss\": total_loss/iter_count,\n",
    "        }\n",
    "        \n",
    "        self.log_dict(metrics, sync_dist = True)\n",
    "        \n",
    "        self.stage_step_outputs[stage].clear()\n",
    "        \n",
    "    def training_step(self, batch, batch_idx):\n",
    "        return self.shared_step(batch, \"train\")            \n",
    "\n",
    "    def on_train_epoch_end(self):\n",
    "        outputs = self.stage_step_outputs['train']\n",
    "        return self.shared_epoch_end(outputs, \"train\")\n",
    "\n",
    "    def validation_step(self, batch, batch_idx):\n",
    "        return self.shared_step(batch, \"val\")\n",
    "\n",
    "    def on_validation_epoch_end(self):\n",
    "        outputs = self.stage_step_outputs['val']\n",
    "        return self.shared_epoch_end(outputs, \"val\")\n",
    "\n",
    "    def test_step(self, batch, batch_idx):\n",
    "        return self.shared_step(batch, \"test\")  \n",
    "\n",
    "    def on_test_epoch_end(self):\n",
    "        outputs = self.stage_step_outputs['test']\n",
    "        return self.shared_epoch_end(outputs, \"test\")\n",
    "\n",
    "    def configure_optimizers(self):\n",
    "        return self.optimizer(self.parameters(), lr=self.learning_rate)"
   ]
  },
  {
   "cell_type": "code",
   "execution_count": 23,
   "metadata": {},
   "outputs": [],
   "source": [
    "def classBalancing(subset, size = None):\n",
    "    x_trainBal = torch.empty((1, 0))\n",
    "    y_trainBal = torch.empty((1, 0))\n",
    "    \n",
    "    for x, y in subset:\n",
    "        xFlat = x.view(1, -1)#x.reshape(-1, X_train.shape[-1])\n",
    "        yFlat = y.reshape(1, -1)\n",
    "    \n",
    "        idxObject = np.where(yFlat == 1)[0]\n",
    "        idxBackground = np.where(yFlat == 0)[0]\n",
    "        \n",
    "        np.random.shuffle(idxBackground)\n",
    "        if size == None:\n",
    "            idxs = np.concatenate((idxObject, idxBackground[:len(idxObject)]))\n",
    "        else:\n",
    "            np.random.shuffle(idxObject)\n",
    "            idxs = np.concatenate((idxObject[:size], idxBackground[:size]))\n",
    "\n",
    "        np.random.shuffle(idxs)\n",
    "        \n",
    "        x_trainBal = torch.concatenate((x_trainBal, xFlat[:,idxs]), dim=1)\n",
    "        y_trainBal = torch.concatenate((y_trainBal, yFlat[:,idxs]), dim=1)\n",
    "        \n",
    "    return x_trainBal, y_trainBal\n",
    "\n",
    "def testFlatten(subset):\n",
    "    x_testFlat = torch.empty((1, 0))\n",
    "    y_testFlat = torch.empty((1, 0))\n",
    "    for x, y in subset:\n",
    "        xFlat = x.view(1,-1)#x.reshape(-1, X_train.shape[-1])\n",
    "        yFlat = y.reshape(1, -1)\n",
    "        \n",
    "        x_testFlat = torch.concatenate((x_testFlat, xFlat), dim = 1)\n",
    "        y_testFlat = torch.concatenate((y_testFlat, yFlat), dim = 1)\n",
    "        \n",
    "    return x_testFlat, y_testFlat\n",
    "\n",
    "\n",
    "class FlattenSubset(Dataset):\n",
    "    \"\"\"\n",
    "    Dataset wrapper personalizado que aplica la transformación (si se le introduce) a un Subset dado.\n",
    "\n",
    "    Args:\n",
    "        subset (torch.utils.data.Dataset): Subset del dataset original.\n",
    "        transform (callable, optional): Función de transformación para aplicar a los datos introducidos. Default is None.\n",
    "    \"\"\"\n",
    "    def __init__(self, subset, train = False):\n",
    "        self.subset = subset\n",
    "        self.train = train\n",
    "        \n",
    "        if train:\n",
    "            self.x_flatten, self.y_flatten = classBalancing(subset)\n",
    "        else:\n",
    "            self.x_flatten, self.y_flatten = testFlatten(subset)\n",
    "            \n",
    "    def __getitem__(self, index):\n",
    "        x = self.x_flatten[0][index]\n",
    "        y = self.y_flatten[0][index]\n",
    "        return x, y\n",
    "\n",
    "    def __len__(self):\n",
    "        return len(self.x_flatten)\n",
    "    \n",
    "# f_subset = FlattenSubset(test_subset, train = False)"
   ]
  },
  {
   "cell_type": "code",
   "execution_count": 23,
   "metadata": {},
   "outputs": [
    {
     "name": "stderr",
     "output_type": "stream",
     "text": [
      "/mnt/netapp2/Store_uni/home/ulc/cursos/cursob82/conda/envs/TFG_env/lib/python3.10/site-packages/lightning/pytorch/utilities/parsing.py:199: Attribute 'model' is an instance of `nn.Module` and is already saved during checkpointing. It is recommended to ignore them using `self.save_hyperparameters(ignore=['model'])`.\n",
      "/mnt/netapp2/Store_uni/home/ulc/cursos/cursob82/conda/envs/TFG_env/lib/python3.10/site-packages/lightning/pytorch/loggers/wandb.py:391: There is a wandb run already in progress and newly created instances of `WandbLogger` will reuse this run. If this is not desired, call `wandb.finish()` before instantiating `WandbLogger`.\n",
      "\u001b[34m\u001b[1mwandb\u001b[0m: logging graph, to disable use `wandb.watch(log_graph=False)`\n",
      "GPU available: True (cuda), used: True\n",
      "TPU available: False, using: 0 TPU cores\n",
      "IPU available: False, using: 0 IPUs\n",
      "HPU available: False, using: 0 HPUs\n"
     ]
    },
    {
     "name": "stdout",
     "output_type": "stream",
     "text": [
      "--------------------------------\n",
      "--------------------------------\n",
      "Model info:\n",
      "\t- Batch Size: 256\n",
      "\t- GPUs on use: 1\n"
     ]
    },
    {
     "name": "stderr",
     "output_type": "stream",
     "text": [
      "/mnt/netapp2/Store_uni/home/ulc/cursos/cursob82/conda/envs/TFG_env/lib/python3.10/site-packages/lightning/fabric/plugins/environments/slurm.py:204: The `srun` command is available on your system but is not used. HINT: If your intention is to run Lightning on SLURM, prepend your python command with `srun` like so: srun python /mnt/netapp2/Store_uni/home/ulc/cursos/cursob82/cond ...\n",
      "/mnt/netapp2/Store_uni/home/ulc/cursos/cursob82/conda/envs/TFG_env/lib/python3.10/site-packages/lightning/pytorch/utilities/parsing.py:44: attribute 'model' removed from hparams because it cannot be pickled\n",
      "/mnt/netapp2/Store_uni/home/ulc/cursos/cursob82/conda/envs/TFG_env/lib/python3.10/site-packages/lightning/pytorch/trainer/configuration_validator.py:74: You defined a `validation_step` but have no `val_dataloader`. Skipping val loop.\n",
      "LOCAL_RANK: 0 - CUDA_VISIBLE_DEVICES: [0]\n",
      "\n",
      "  | Name          | Type              | Params\n",
      "----------------------------------------------------\n",
      "0 | model         | MLPClassifier     | 81    \n",
      "1 | loss_fn       | BCEWithLogitsLoss | 0     \n",
      "2 | metrics_train | ModuleDict        | 0     \n",
      "3 | metrics_val   | ModuleDict        | 0     \n",
      "4 | metrics_test  | ModuleDict        | 0     \n",
      "5 | metrics_dict  | ModuleDict        | 0     \n",
      "----------------------------------------------------\n",
      "81        Trainable params\n",
      "0         Non-trainable params\n",
      "81        Total params\n",
      "0.000     Total estimated model params size (MB)\n"
     ]
    },
    {
     "data": {
      "application/vnd.jupyter.widget-view+json": {
       "model_id": "a9a9f3742d21479e860f3b45a2d49992",
       "version_major": 2,
       "version_minor": 0
      },
      "text/plain": [
       "Training: |                                                                                                   …"
      ]
     },
     "metadata": {},
     "output_type": "display_data"
    },
    {
     "name": "stderr",
     "output_type": "stream",
     "text": [
      "`Trainer.fit` stopped: `max_epochs=10000` reached.\n",
      "GPU available: True (cuda), used: True\n",
      "TPU available: False, using: 0 TPU cores\n",
      "IPU available: False, using: 0 IPUs\n",
      "HPU available: False, using: 0 HPUs\n",
      "LOCAL_RANK: 0 - CUDA_VISIBLE_DEVICES: [0]\n"
     ]
    },
    {
     "data": {
      "application/vnd.jupyter.widget-view+json": {
       "model_id": "e2e298f20f3c4c3c91f7bc524c800f71",
       "version_major": 2,
       "version_minor": 0
      },
      "text/plain": [
       "Testing: |                                                                                                    …"
      ]
     },
     "metadata": {},
     "output_type": "display_data"
    },
    {
     "name": "stdout",
     "output_type": "stream",
     "text": [
      "────────────────────────────────────────────────────────────────────────────────────────────────────────────────────────\n",
      "       Test metric             DataLoader 0\n",
      "────────────────────────────────────────────────────────────────────────────────────────────────────────────────────────\n",
      "      test_accuracy                 1.0\n",
      "         test_f1                    0.0\n",
      "        test_fold                   0.0\n",
      "        test_loss          0.0013717536348849535\n",
      "     test_precision                 0.0\n",
      "       test_recall                  0.0\n",
      "────────────────────────────────────────────────────────────────────────────────────────────────────────────────────────\n"
     ]
    },
    {
     "data": {
      "application/vnd.jupyter.widget-view+json": {
       "model_id": "45f5812744534317bd45c043f308f4de",
       "version_major": 2,
       "version_minor": 0
      },
      "text/plain": [
       "VBox(children=(Label(value='0.007 MB of 0.007 MB uploaded\\r'), FloatProgress(value=1.0, max=1.0)))"
      ]
     },
     "metadata": {},
     "output_type": "display_data"
    },
    {
     "data": {
      "text/html": [
       "<style>\n",
       "    table.wandb td:nth-child(1) { padding: 0 10px; text-align: left ; width: auto;} td:nth-child(2) {text-align: left ; width: 100%}\n",
       "    .wandb-row { display: flex; flex-direction: row; flex-wrap: wrap; justify-content: flex-start; width: 100% }\n",
       "    .wandb-col { display: flex; flex-direction: column; flex-basis: 100%; flex: 1; padding: 10px; }\n",
       "    </style>\n",
       "<div class=\"wandb-row\"><div class=\"wandb-col\"><h3>Run history:</h3><br/><table class=\"wandb\"><tr><td>epoch</td><td>▁▁▁▁▂▂▂▂▂▃▃▃▃▃▃▄▄▄▄▄▅▅▅▅▅▅▆▆▆▆▆▇▇▇▇▇▇███</td></tr><tr><td>test_accuracy</td><td>▁</td></tr><tr><td>test_f1</td><td>▁</td></tr><tr><td>test_fold</td><td>▁</td></tr><tr><td>test_loss</td><td>▁</td></tr><tr><td>test_precision</td><td>▁</td></tr><tr><td>test_recall</td><td>▁</td></tr><tr><td>train_accuracy</td><td>▁▁▁█████████████████████████████████████</td></tr><tr><td>train_f1</td><td>▁▁▁▁▁▁▁▁▁▁▁▁▁▁▁▁▁▁▁▁▁▁▁▁▁▁▁▁▁▁▁▁▁▁▁▁▁▁▁▁</td></tr><tr><td>train_fold</td><td>▁▁▁▁▁▁▁▁▁▁▁▁▁▁▁▁▁▁▁▁▁▁▁▁▁▁▁▁▁▁▁▁▁▁▁▁▁▁▁▁</td></tr><tr><td>train_loss</td><td>██▇▆▆▅▅▅▄▄▃▃▂▂▂▂▂▂▁▁▁▁▁▁▁▁▁▁▁▁▁▁▁▁▁▁▁▁▁▁</td></tr><tr><td>train_precision</td><td>▁▁▁▁▁▁▁▁▁▁▁▁▁▁▁▁▁▁▁▁▁▁▁▁▁▁▁▁▁▁▁▁▁▁▁▁▁▁▁▁</td></tr><tr><td>train_recall</td><td>▁▁▁▁▁▁▁▁▁▁▁▁▁▁▁▁▁▁▁▁▁▁▁▁▁▁▁▁▁▁▁▁▁▁▁▁▁▁▁▁</td></tr><tr><td>trainer/global_step</td><td>▁▁▁▁▂▂▂▂▂▃▃▃▃▃▃▄▄▄▄▄▅▅▅▅▅▅▆▆▆▆▆▇▇▇▇▇▇███</td></tr></table><br/></div><div class=\"wandb-col\"><h3>Run summary:</h3><br/><table class=\"wandb\"><tr><td>epoch</td><td>0</td></tr><tr><td>test_accuracy</td><td>1.0</td></tr><tr><td>test_f1</td><td>0.0</td></tr><tr><td>test_fold</td><td>0.0</td></tr><tr><td>test_loss</td><td>0.00137</td></tr><tr><td>test_precision</td><td>0.0</td></tr><tr><td>test_recall</td><td>0.0</td></tr><tr><td>train_accuracy</td><td>1.0</td></tr><tr><td>train_f1</td><td>0.0</td></tr><tr><td>train_fold</td><td>0.0</td></tr><tr><td>train_loss</td><td>0.00137</td></tr><tr><td>train_precision</td><td>0.0</td></tr><tr><td>train_recall</td><td>0.0</td></tr><tr><td>trainer/global_step</td><td>0</td></tr></table><br/></div></div>"
      ],
      "text/plain": [
       "<IPython.core.display.HTML object>"
      ]
     },
     "metadata": {},
     "output_type": "display_data"
    },
    {
     "data": {
      "text/html": [
       " View run <strong style=\"color:#cdcd00\">KNN_MLP</strong> at: <a href='https://wandb.ai/edluksss_org/segmentation_TFG/runs/tzbqw80j' target=\"_blank\">https://wandb.ai/edluksss_org/segmentation_TFG/runs/tzbqw80j</a><br/> View project at: <a href='https://wandb.ai/edluksss_org/segmentation_TFG' target=\"_blank\">https://wandb.ai/edluksss_org/segmentation_TFG</a><br/>Synced 6 W&B file(s), 0 media file(s), 0 artifact file(s) and 0 other file(s)"
      ],
      "text/plain": [
       "<IPython.core.display.HTML object>"
      ]
     },
     "metadata": {},
     "output_type": "display_data"
    },
    {
     "data": {
      "text/html": [
       "Find logs at: <code>/mnt/netapp2/Store_uni//home/ulc/cursos/cursob82/AIDA/p2/logs_wandb/wandb/run-20240510_145748-tzbqw80j/logs</code>"
      ],
      "text/plain": [
       "<IPython.core.display.HTML object>"
      ]
     },
     "metadata": {},
     "output_type": "display_data"
    }
   ],
   "source": [
    "from lightning.pytorch.loggers import WandbLogger\n",
    "from sklearn.model_selection import KFold\n",
    "import wandb\n",
    "\n",
    "BATCH_SIZE = 256\n",
    "num_epochs = 10000\n",
    "\n",
    "os.environ[\"WANDB_API_KEY\"] = \"21924e6e134841c5c16842c4ac42fcbe5a66feb2\"\n",
    "        \n",
    "transform_x = transforms.Compose([\n",
    "                    MinMaxNorm,\n",
    "                    ApplyKMeans(concat=False, n_clusters=5, max_iter=10, n_init=10, random_state=42),\n",
    "                    transforms.ToTensor(),\n",
    "                    CustomPad(target_size = (980, 980), fill = -1)\n",
    "                    ])\n",
    "\n",
    "transform_y = transforms.Compose([\n",
    "                    transforms.ToTensor(),\n",
    "                    CustomPad(target_size = (980, 980), fill = -1)\n",
    "                    ])\n",
    "\n",
    "# Definimos el K-fold Cross Validator\n",
    "kfold = KFold(n_splits=10, shuffle=True, random_state = 42)\n",
    "\n",
    "# Comenzamos a imprimir los resultados\n",
    "print('--------------------------------')\n",
    "\n",
    "# Comenzamos a evaluar el modelo gracias al K-Fold Cross Validation\n",
    "for fold, (train_ids, test_ids) in enumerate(kfold.split(dataset)):\n",
    "    model = MLPClassifier(1, [10, 5], 1)\n",
    "                \n",
    "    # Definimos el modelo con los pesos inicializados aleatoriamente (sin preentrenar)\n",
    "    model = MLPModel(model = model)\n",
    "\n",
    "    ruta_logs_wandb = os.environ[\"STORE\"] + \"/AIDA/p2/logs_wandb/\"\n",
    "    logger_wandb = WandbLogger(project=\"segmentation_TFG\", log_model = False, name=\"KNN_MLP\", save_dir=ruta_logs_wandb)\n",
    "    logger_wandb.experiment.config.update({\"model_name\": \"KNN_MLP\"})\n",
    "\n",
    "    # log gradients, parameter histogram and model topology\n",
    "    logger_wandb.watch(model, log=\"all\")\n",
    "\n",
    "    trainer = L.Trainer(strategy='auto', max_epochs=num_epochs, accelerator='cuda', log_every_n_steps=1, logger= logger_wandb)\n",
    "\n",
    "    # Imprimimos el fold del que van a mostrarse los resultados\n",
    "    print('--------------------------------')\n",
    "    print(f\"Model info:\\n\\t- Batch Size: {BATCH_SIZE}\\n\\t- GPUs on use: {torch.cuda.device_count()}\")\n",
    "\n",
    "    # Creamos nuestros propios Subsets de PyTorch aplicando a cada conjunto la transformacion deseada\n",
    "    train_subset = FlattenSubset(torch.utils.data.Subset(dataset, train_ids), train = True)\n",
    "    test_subset = FlattenSubset(torch.utils.data.Subset(dataset, test_ids), train = False)\n",
    "\n",
    "    # Definimos un data loader por cada conjunto de datos que vamos a utilizar.\n",
    "    trainloader = torch.utils.data.DataLoader(\n",
    "                            train_subset,\n",
    "                            batch_size=BATCH_SIZE, num_workers=8, shuffle=True, persistent_workers=True)\n",
    "\n",
    "    testloader = torch.utils.data.DataLoader(\n",
    "                            test_subset,\n",
    "                            batch_size=BATCH_SIZE, num_workers=8, shuffle=False, persistent_workers=True)\n",
    "\n",
    "    # Entrenamos el modelo, extrayendo los resultados y guardandolos en la variable result, y evaluamos en el conjunto de test.\n",
    "    trainer.fit(model, trainloader) \n",
    "\n",
    "    logger_wandb.experiment.unwatch(model)\n",
    "\n",
    "    # trainer.test(model, testloader) \n",
    "    # Creamos un nuevo entrenador con una sola GPU para la fase de prueba\n",
    "    trainer_test = L.Trainer(devices = 1, strategy='auto', max_epochs=num_epochs, accelerator='cuda', log_every_n_steps=1, logger=logger_wandb)\n",
    "    trainer_test.test(model, testloader)\n",
    "\n",
    "    logger_wandb.finalize(\"success\")\n",
    "    wandb.finish()\n",
    "    break"
   ]
  },
  {
   "cell_type": "markdown",
   "metadata": {},
   "source": [
    "### NOTA: ARREGLAR PROBLEMA CON LAS MÉTRICAS Y ADAPTAR PARA FUNCIONAR CON LA COMBINACIÓN IMAGEN_ORIGINAL + KNN"
   ]
  },
  {
   "cell_type": "markdown",
   "metadata": {},
   "source": [
    "### U-Net (Simple)"
   ]
  },
  {
   "cell_type": "code",
   "execution_count": 24,
   "metadata": {},
   "outputs": [],
   "source": [
    "import torch.optim as optim\n",
    "import torch.nn as nn\n",
    "import lightning as L\n",
    "import segmentation_models_pytorch as smp\n",
    "\n",
    "def double_conv(in_channels, out_channels):\n",
    "    return nn.Sequential(\n",
    "        nn.Conv2d(in_channels, out_channels, 3, padding=1),\n",
    "        nn.ReLU(inplace=True),\n",
    "        nn.Conv2d(out_channels, out_channels, 3, padding=1),\n",
    "        nn.ReLU(inplace=True),\n",
    "    )   \n",
    "\n",
    "class UNet(nn.Module):\n",
    "\n",
    "    def __init__(self, input_channels, n_class):\n",
    "        super().__init__()\n",
    "                \n",
    "        self.dconv_down1 = double_conv(input_channels, 64)\n",
    "        self.dconv_down2 = double_conv(64, 128)\n",
    "        self.dconv_down3 = double_conv(128, 256)\n",
    "        self.dconv_down4 = double_conv(256, 512)        \n",
    "\n",
    "        self.maxpool = nn.MaxPool2d(2)\n",
    "        self.upsample = nn.Upsample(scale_factor=2, mode='bilinear', align_corners=True)        \n",
    "        \n",
    "        self.dconv_up3 = double_conv(256 + 512, 256)\n",
    "        self.dconv_up2 = double_conv(128 + 256, 128)\n",
    "        self.dconv_up1 = double_conv(128 + 64, 64)\n",
    "        \n",
    "        self.conv_last = nn.Conv2d(64, n_class, 1)\n",
    "        \n",
    "        \n",
    "    def forward(self, x):\n",
    "        conv1 = self.dconv_down1(x)\n",
    "        x = self.maxpool(conv1)\n",
    "\n",
    "        conv2 = self.dconv_down2(x)\n",
    "        x = self.maxpool(conv2)\n",
    "        \n",
    "        conv3 = self.dconv_down3(x)\n",
    "        x = self.maxpool(conv3)   \n",
    "        \n",
    "        x = self.dconv_down4(x)\n",
    "        \n",
    "        x = self.upsample(x)        \n",
    "        x = torch.cat([x, conv3], dim=1)\n",
    "        \n",
    "        x = self.dconv_up3(x)\n",
    "        x = self.upsample(x)        \n",
    "        x = torch.cat([x, conv2], dim=1)       \n",
    "\n",
    "        x = self.dconv_up2(x)\n",
    "        x = self.upsample(x)        \n",
    "        x = torch.cat([x, conv1], dim=1)   \n",
    "        \n",
    "        x = self.dconv_up1(x)\n",
    "        \n",
    "        out = self.conv_last(x)\n",
    "        \n",
    "        return out\n",
    "\n",
    "def get_segmentation_masks(outputs, threshold=0.5):\n",
    "    probs = torch.sigmoid(outputs)\n",
    "    masks = (probs > threshold)*1.0\n",
    "    return masks\n",
    "\n",
    "class UNETModel(L.LightningModule):\n",
    "    \n",
    "    def __init__(self, model, learning_rate = 0.0001, loss_fn = smp.losses.DiceLoss, optimizer = optim.Adam, threshold = 0.5, current_fold = 0):\n",
    "        super().__init__()\n",
    "        self.model = model\n",
    "        \n",
    "        self.learning_rate = learning_rate\n",
    "        self.loss_fn = loss_fn(smp.losses.BINARY_MODE, from_logits=True)\n",
    "        self.optimizer = optimizer\n",
    "        self.threshold = threshold\n",
    "        \n",
    "        self.current_fold = current_fold\n",
    "        \n",
    "        self.stage_step_outputs = {'train': [], 'val': [], 'test': []}\n",
    "        # self.metrics_train = nn.ModuleDict({'train_accuracy': tm.Accuracy(task=\"binary\", threshold=self.threshold), 'train_iou': tm.JaccardIndex(task=\"binary\", threshold=self.threshold)})#, 'train_dice': tm.Dice(task=\"binary\", threshold=self.threshold)})\n",
    "        # self.metrics_val = nn.ModuleDict({f\"val_{metric_name}\": metric_fnc(task=\"binary\", threshold=self.threshold) for metric_name, metric_fnc in metrics_fncs.items()})\n",
    "        # self.metrics_test = nn.ModuleDict({f\"test_{metric_name}\": metric_fnc(task=\"binary\", threshold=self.threshold) for metric_name, metric_fnc in metrics_fncs.items()})\n",
    "        \n",
    "        self.save_hyperparameters()\n",
    "        \n",
    "    def forward(self, x):\n",
    "        return self.model(x)\n",
    "    \n",
    "    def shared_step(self, batch, stage):\n",
    "        x, y = batch\n",
    "        y_logits = self(x)\n",
    "        \n",
    "        loss = self.loss_fn(y_logits, y)\n",
    "    \n",
    "        # self.log(f\"{stage}_loss\", loss)\n",
    "        \n",
    "        y_hat = get_segmentation_masks(y_logits, self.threshold)\n",
    "        \n",
    "        tp, fp, fn, tn = smp.metrics.get_stats(y_hat.long(), y.long(), mode=\"binary\")\n",
    "        \n",
    "        self.stage_step_outputs[stage].append({\"loss\": loss, \"tp\": tp, \"fp\": fp, \"fn\": fn, \"tn\": tn})\n",
    "        \n",
    "        return {\"loss\": loss, \"tp\": tp, \"fp\": fp, \"fn\": fn, \"tn\": tn}\n",
    "        \n",
    "    def shared_epoch_end(self, outputs, stage):\n",
    "        tp = torch.cat([m[\"tp\"] for m in outputs])\n",
    "        fp = torch.cat([m[\"fp\"] for m in outputs])\n",
    "        fn = torch.cat([m[\"fn\"] for m in outputs])\n",
    "        tn = torch.cat([m[\"tn\"] for m in outputs])\n",
    "        \n",
    "        total_loss = 0\n",
    "        iter_count = len(outputs)\n",
    "        \n",
    "        for idx in range(iter_count):\n",
    "            total_loss += outputs[idx]['loss'].item()\n",
    "        \n",
    "        # per image IoU means that we first calculate IoU score for each image \n",
    "        # and then compute mean over these scores\n",
    "        per_image_iou = smp.metrics.iou_score(tp, fp, fn, tn, reduction=\"macro-imagewise\")\n",
    "        \n",
    "        # dataset IoU means that we aggregate intersection and union over whole dataset\n",
    "        # and then compute IoU score. The difference between dataset_iou and per_image_iou scores\n",
    "        # in this particular case will not be much, however for dataset \n",
    "        # with \"empty\" images (images without target class) a large gap could be observed. \n",
    "        # Empty images influence a lot on per_image_iou and much less on dataset_iou.\n",
    "        dataset_iou = smp.metrics.iou_score(tp, fp, fn, tn, reduction=\"macro\")\n",
    "\n",
    "        recall = smp.metrics.recall(tp, fp, fn, tn, reduction=\"macro\")\n",
    "        precision = smp.metrics.precision(tp, fp, fn, tn, reduction=\"macro\")\n",
    "        \n",
    "        f1_score = smp.metrics.f1_score(tp, fp, fn, tn, reduction=\"macro\")\n",
    "        accuracy = smp.metrics.accuracy(tp, fp, fn, tn, reduction=\"macro\")\n",
    "        \n",
    "        metrics = {\n",
    "            f\"{stage}_fold\": self.current_fold,\n",
    "            f\"{stage}_loss\": total_loss/iter_count,\n",
    "            f\"{stage}_precision\": precision,\n",
    "            f\"{stage}_recall\": recall,\n",
    "            f\"{stage}_accuracy\": accuracy,\n",
    "            f\"{stage}_f1_score\": f1_score,\n",
    "            f\"{stage}_per_image_iou\": per_image_iou,\n",
    "            f\"{stage}_dataset_iou\": dataset_iou,\n",
    "        }\n",
    "        \n",
    "        self.log_dict(metrics, sync_dist = True)\n",
    "        \n",
    "        self.stage_step_outputs[stage].clear()\n",
    "        \n",
    "    def training_step(self, batch, batch_idx):\n",
    "        return self.shared_step(batch, \"train\")            \n",
    "\n",
    "    def on_train_epoch_end(self):\n",
    "        outputs = self.stage_step_outputs['train']\n",
    "        return self.shared_epoch_end(outputs, \"train\")\n",
    "\n",
    "    def validation_step(self, batch, batch_idx):\n",
    "        return self.shared_step(batch, \"val\")\n",
    "\n",
    "    def on_validation_epoch_end(self):\n",
    "        outputs = self.stage_step_outputs['val']\n",
    "        return self.shared_epoch_end(outputs, \"val\")\n",
    "\n",
    "    def test_step(self, batch, batch_idx):\n",
    "        return self.shared_step(batch, \"test\")  \n",
    "\n",
    "    def on_test_epoch_end(self):\n",
    "        outputs = self.stage_step_outputs['test']\n",
    "        return self.shared_epoch_end(outputs, \"test\")\n",
    "\n",
    "    def configure_optimizers(self):\n",
    "        return torch.optim.Adam(self.parameters(), lr=self.learning_rate)"
   ]
  },
  {
   "cell_type": "code",
   "execution_count": 43,
   "metadata": {},
   "outputs": [
    {
     "name": "stdout",
     "output_type": "stream",
     "text": [
      "torch.Size([1, 992, 992]) torch.Size([1, 992, 992])\n"
     ]
    },
    {
     "data": {
      "image/png": "[encoded data removed]",
      "text/plain": [
       "<Figure size 500x500 with 1 Axes>"
      ]
     },
     "metadata": {},
     "output_type": "display_data"
    },
    {
     "data": {
      "image/png": "[encoded data removed]",
      "text/plain": [
       "<Figure size 500x500 with 1 Axes>"
      ]
     },
     "metadata": {},
     "output_type": "display_data"
    }
   ],
   "source": [
    "TypicalImageNorm = lambda x: (x - np.min(x)) / (np.max(x) - np.min(x)) * 255\n",
    "# NoNegativeNorm = lambda x: x - np.min(x) if np.min(x) < 0. else x\n",
    "# print_function = lambda x: print(np.min(x))\n",
    "\n",
    "class CustomPad():\n",
    "    def __init__(self, target_size = (980, 980), fill = 0, fill_min = False):\n",
    "        self.target_size = target_size\n",
    "        self.fill = fill\n",
    "        self.fill_min = fill_min\n",
    "        \n",
    "    def __call__(self, image):\n",
    "        # Get the size of the input image\n",
    "        width, height = image.shape[2], image.shape[1]\n",
    "\n",
    "        # Compute the size of the padding\n",
    "        pad_width = self.target_size[1] - width\n",
    "        pad_height = self.target_size[0] - height\n",
    "\n",
    "        # Compute the padding\n",
    "        pad_left = pad_width // 2\n",
    "        pad_right = pad_width - pad_left\n",
    "        pad_top = pad_height // 2\n",
    "        pad_bottom = pad_height - pad_top\n",
    "\n",
    "        if self.fill_min:\n",
    "            self.fill = image.min().item()\n",
    "            \n",
    "        # Apply the padding\n",
    "        return transforms.functional.pad(image, (pad_left, pad_top, pad_right, pad_bottom), fill = self.fill)\n",
    "    \n",
    "class NoNegativeNorm():\n",
    "    def __init__(self):\n",
    "        pass\n",
    "    \n",
    "    def __call__(self, image):\n",
    "        if np.min(image) < 0:\n",
    "            image = image - np.min(image)\n",
    "        \n",
    "        return np.copy(image)\n",
    "\n",
    "class NoNorm():\n",
    "    def __init__(self):\n",
    "        pass\n",
    "    \n",
    "    def __call__(self, image):\n",
    "        return np.copy(image)\n",
    "    \n",
    "transform_x = transforms.Compose([\n",
    "                    NoNorm(),\n",
    "                    # NoNegativeNorm(),\n",
    "                    # print_function,\n",
    "                    transforms.ToTensor(),\n",
    "                    CustomPad(target_size = (992, 992), fill_min=True)\n",
    "                    ])\n",
    "\n",
    "transform_y = transforms.Compose([\n",
    "                    transforms.ToTensor(),\n",
    "                    CustomPad(target_size = (992, 992), fill = 0)\n",
    "                    ])\n",
    "\n",
    "# Prueba normalizando los datos entre 0 y 1\n",
    "dataset = NebulaeDataset(data_directory, masks_directory, df, transform = (transform_x, transform_y))\n",
    "\n",
    "dataset.plot(40, plot_image = True, plot_mask = True)"
   ]
  },
  {
   "cell_type": "code",
   "execution_count": 44,
   "metadata": {},
   "outputs": [],
   "source": [
    "import wandb\n",
    "class PrintCallback(L.pytorch.Callback):\n",
    "    def on_train_start(self, trainer, pl_module):\n",
    "        print(\"Training is started!\")\n",
    "        \n",
    "    def on_train_end(self, trainer, pl_module):\n",
    "        print(\"Training is done.\")\n",
    "\n",
    "    def on_validation_batch_end(self, trainer, pl_module, outputs, batch, batch_idx):\n",
    "        \"\"\"Called when the validation batch ends.\"\"\"\n",
    " \n",
    "        # `outputs` comes from `LightningModule.validation_step`\n",
    "        # which corresponds to our model predictions in this case\n",
    "        \n",
    "        # Let's log 20 sample image predictions from first batch\n",
    "        if (trainer.current_epoch % 50 == 0 and trainer.current_epoch != 0) or trainer.current_epoch == trainer.max_epochs-1:\n",
    "            if batch_idx == 0:\n",
    "                n = 4\n",
    "                x, y = batch\n",
    "                \n",
    "                outputs = get_segmentation_masks(pl_module(x))\n",
    "                \n",
    "                columns = [\"image\", \"ground truth\", \"prediction\"]\n",
    "                data = [\n",
    "                    [wandb.Image(x_i), wandb.Image(y_i), wandb.Image(y_pred)] for x_i,\n",
    "                    y_i,\n",
    "                    y_pred in list(zip(x, y, outputs))\n",
    "                ]\n",
    "                \n",
    "                trainer.loggers[-1].log_table(key=f\"table_epoch_{trainer.current_epoch}_fold_{pl_module.current_fold}\", columns=columns, data=data)\n",
    "\n",
    "    def on_test_batch_end(self, trainer, pl_module, outputs, batch, batch_idx):\n",
    "        \"\"\"Called when the validation batch ends.\"\"\"\n",
    " \n",
    "        # `outputs` comes from `LightningModule.validation_step`\n",
    "        # which corresponds to our model predictions in this case\n",
    "        \n",
    "        x, y = batch\n",
    "        outputs = get_segmentation_masks(pl_module(x))\n",
    "                \n",
    "        columns = [\"image\", \"ground truth\", \"prediction\"]\n",
    "        data = [\n",
    "            [wandb.Image(x_i), wandb.Image(y_i), wandb.Image(y_pred)] for x_i,\n",
    "            y_i,\n",
    "            y_pred in list(zip(x, y, outputs))\n",
    "        ]\n",
    "        \n",
    "        trainer.loggers[-1].log_table(key=f\"table_test_fold_{pl_module.current_fold}_batch_{batch_idx}\", columns=columns, data=data)"
   ]
  },
  {
   "cell_type": "code",
   "execution_count": 45,
   "metadata": {},
   "outputs": [
    {
     "name": "stderr",
     "output_type": "stream",
     "text": [
      "[rank: 0] Seed set to 42\n",
      "/mnt/netapp2/Store_uni/home/ulc/cursos/cursob82/conda/envs/TFG_env/lib/python3.10/site-packages/lightning/pytorch/utilities/parsing.py:199: Attribute 'model' is an instance of `nn.Module` and is already saved during checkpointing. It is recommended to ignore them using `self.save_hyperparameters(ignore=['model'])`.\n"
     ]
    },
    {
     "name": "stdout",
     "output_type": "stream",
     "text": [
      "--------------------------------\n"
     ]
    },
    {
     "name": "stderr",
     "output_type": "stream",
     "text": [
      "cat: /sys/module/amdgpu/initstate: No such file or directory\n",
      "ERROR:root:Driver not initialized (amdgpu not found in modules)\n"
     ]
    },
    {
     "data": {
      "text/html": [
       "wandb version 0.17.0 is available!  To upgrade, please run:\n",
       " $ pip install wandb --upgrade"
      ],
      "text/plain": [
       "<IPython.core.display.HTML object>"
      ]
     },
     "metadata": {},
     "output_type": "display_data"
    },
    {
     "data": {
      "text/html": [
       "Tracking run with wandb version 0.16.6"
      ],
      "text/plain": [
       "<IPython.core.display.HTML object>"
      ]
     },
     "metadata": {},
     "output_type": "display_data"
    },
    {
     "data": {
      "text/html": [
       "Run data is saved locally in <code>/mnt/netapp2/Store_uni//home/ulc/cursos/cursob82/AIDA/p2/logs_wandb/wandb/run-20240514_011146-1ll9rrvo</code>"
      ],
      "text/plain": [
       "<IPython.core.display.HTML object>"
      ]
     },
     "metadata": {},
     "output_type": "display_data"
    },
    {
     "data": {
      "text/html": [
       "Syncing run <strong><a href='https://wandb.ai/edluksss_org/segmentation_TFG/runs/1ll9rrvo' target=\"_blank\">UNET_base</a></strong> to <a href='https://wandb.ai/edluksss_org/segmentation_TFG' target=\"_blank\">Weights & Biases</a> (<a href='https://wandb.me/run' target=\"_blank\">docs</a>)<br/>"
      ],
      "text/plain": [
       "<IPython.core.display.HTML object>"
      ]
     },
     "metadata": {},
     "output_type": "display_data"
    },
    {
     "data": {
      "text/html": [
       " View project at <a href='https://wandb.ai/edluksss_org/segmentation_TFG' target=\"_blank\">https://wandb.ai/edluksss_org/segmentation_TFG</a>"
      ],
      "text/plain": [
       "<IPython.core.display.HTML object>"
      ]
     },
     "metadata": {},
     "output_type": "display_data"
    },
    {
     "data": {
      "text/html": [
       " View run at <a href='https://wandb.ai/edluksss_org/segmentation_TFG/runs/1ll9rrvo' target=\"_blank\">https://wandb.ai/edluksss_org/segmentation_TFG/runs/1ll9rrvo</a>"
      ],
      "text/plain": [
       "<IPython.core.display.HTML object>"
      ]
     },
     "metadata": {},
     "output_type": "display_data"
    },
    {
     "name": "stderr",
     "output_type": "stream",
     "text": [
      "\u001b[34m\u001b[1mwandb\u001b[0m: logging graph, to disable use `wandb.watch(log_graph=False)`\n",
      "GPU available: True (cuda), used: True\n",
      "TPU available: False, using: 0 TPU cores\n",
      "IPU available: False, using: 0 IPUs\n",
      "HPU available: False, using: 0 HPUs\n",
      "/mnt/netapp2/Store_uni/home/ulc/cursos/cursob82/conda/envs/TFG_env/lib/python3.10/site-packages/lightning/pytorch/utilities/parsing.py:44: attribute 'model' removed from hparams because it cannot be pickled\n",
      "/mnt/netapp2/Store_uni/home/ulc/cursos/cursob82/conda/envs/TFG_env/lib/python3.10/site-packages/lightning/pytorch/trainer/configuration_validator.py:74: You defined a `validation_step` but have no `val_dataloader`. Skipping val loop.\n",
      "LOCAL_RANK: 0 - CUDA_VISIBLE_DEVICES: [0]\n",
      "\n",
      "  | Name    | Type     | Params\n",
      "-------------------------------------\n",
      "0 | model   | UNet     | 7.8 M \n",
      "1 | loss_fn | DiceLoss | 0     \n",
      "-------------------------------------\n",
      "7.8 M     Trainable params\n",
      "0         Non-trainable params\n",
      "7.8 M     Total params\n",
      "31.127    Total estimated model params size (MB)\n",
      "SLURM auto-requeueing enabled. Setting signal handlers.\n"
     ]
    },
    {
     "name": "stdout",
     "output_type": "stream",
     "text": [
      "--------------------------------\n",
      "Model info:\n",
      "\t- Batch Size: 8\n",
      "\t- GPUs on use: 1\n",
      "Training is started!\n"
     ]
    },
    {
     "data": {
      "application/vnd.jupyter.widget-view+json": {
       "model_id": "9a0360b994d14844809c14b3899fbe8b",
       "version_major": 2,
       "version_minor": 0
      },
      "text/plain": [
       "Training: |          | 0/? [00:00<?, ?it/s]"
      ]
     },
     "metadata": {},
     "output_type": "display_data"
    }
   ],
   "source": [
    "from lightning.pytorch.loggers import WandbLogger\n",
    "from sklearn.model_selection import KFold\n",
    "import wandb\n",
    "\n",
    "BATCH_SIZE = 8\n",
    "num_epochs = 1000\n",
    "model_name = \"UNET_base\"\n",
    "os.environ[\"WANDB_API_KEY\"] = \"21924e6e134841c5c16842c4ac42fcbe5a66feb2\"\n",
    "\n",
    "# Fijamos una semilla (se hace para cada librería por que cada una tiene una manera de generar pseudoaleatorios)\n",
    "L.pytorch.seed_everything(42, workers = True)\n",
    "\n",
    "# Definimos el K-fold Cross Validator\n",
    "kfold = KFold(n_splits=10, shuffle=True, random_state = 42)\n",
    "\n",
    "# Comenzamos a imprimir los resultados\n",
    "print('--------------------------------')\n",
    "\n",
    "# Comenzamos a evaluar el modelo gracias al K-Fold Cross Validation\n",
    "for fold, (train_ids, test_ids) in enumerate(kfold.split(dataset)):\n",
    "    callbacks = [PrintCallback()]\n",
    "    \n",
    "    model = UNet(input_channels = dataset[0][0].shape[0], n_class = 1)\n",
    "    \n",
    "    # Definimos el modelo con los pesos inicializados aleatoriamente (sin preentrenar)\n",
    "    model = UNETModel(model = model, learning_rate=2e-6, current_fold=fold)\n",
    "\n",
    "    ruta_logs_wandb = os.environ[\"STORE\"] + \"/AIDA/p2/logs_wandb/\"\n",
    "    logger_wandb = WandbLogger(project=\"segmentation_TFG\", log_model = False, name=model_name, save_dir=ruta_logs_wandb)\n",
    "    logger_wandb.experiment.config.update({\"model_name\": model_name})\n",
    "\n",
    "    # log gradients, parameter histogram and model topology\n",
    "    logger_wandb.watch(model, log=\"all\")\n",
    "\n",
    "    trainer = L.Trainer(strategy='auto', max_epochs=num_epochs, accelerator='cuda', log_every_n_steps=1, logger= logger_wandb, callbacks=callbacks)\n",
    "\n",
    "    # Imprimimos el fold del que van a mostrarse los resultados\n",
    "    print('--------------------------------')\n",
    "    print(f\"Model info:\\n\\t- Batch Size: {BATCH_SIZE}\\n\\t- GPUs on use: {torch.cuda.device_count()}\")\n",
    "\n",
    "    # Creamos nuestros propios Subsets de PyTorch aplicando a cada conjunto la transformacion deseada\n",
    "    train_subset = torch.utils.data.Subset(dataset, train_ids)\n",
    "    test_subset = torch.utils.data.Subset(dataset, test_ids)\n",
    "\n",
    "    # Definimos un data loader por cada conjunto de datos que vamos a utilizar.\n",
    "    trainloader = torch.utils.data.DataLoader(\n",
    "                            train_subset,\n",
    "                            batch_size=BATCH_SIZE, num_workers=8, shuffle=True, persistent_workers=True)\n",
    "\n",
    "    testloader = torch.utils.data.DataLoader(\n",
    "                            test_subset,\n",
    "                            batch_size=BATCH_SIZE, num_workers=8, shuffle=False, persistent_workers=True)\n",
    "\n",
    "    # Entrenamos el modelo, extrayendo los resultados y guardandolos en la variable result, y evaluamos en el conjunto de test.\n",
    "    trainer.fit(model, trainloader) \n",
    "\n",
    "    logger_wandb.experiment.unwatch(model)\n",
    "\n",
    "    # trainer.test(model, testloader) \n",
    "    # Creamos un nuevo entrenador con una sola GPU para la fase de prueba\n",
    "    trainer_test = L.Trainer(devices = 1, strategy='auto', max_epochs=num_epochs, accelerator='cuda', log_every_n_steps=1, logger=logger_wandb, callbacks=callbacks)\n",
    "    trainer_test.test(model, testloader)\n",
    "\n",
    "    logger_wandb.finalize(\"success\")\n",
    "    wandb.finish()\n",
    "    break"
   ]
  },
  {
   "cell_type": "code",
   "execution_count": null,
   "metadata": {},
   "outputs": [],
   "source": []
  }
 ],
 "metadata": {
  "kernelspec": {
   "display_name": "Python 3",
   "language": "python",
   "name": "python3"
  }
 },
 "nbformat": 4,
 "nbformat_minor": 2
}
