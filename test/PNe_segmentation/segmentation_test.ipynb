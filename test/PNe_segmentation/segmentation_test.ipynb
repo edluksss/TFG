{
 "cells": [
  {
   "cell_type": "markdown",
   "metadata": {},
   "source": [
    "# Pruebas de segmentación con el Catálogo Morfológico de Nebulosas Planetarias del IAC\n",
    "En este documento vamos a probar las técnicas comentadas por Diego Cantorna en el documento de astrogestem (disponible en la carpeta astrosegstem de este mismo repositorio)."
   ]
  },
  {
   "cell_type": "markdown",
   "metadata": {},
   "source": [
    "## 0. Preparación del entorno\n",
    "Para empezar, lo primero que vamos a hacer va a ser preparar el entorno en el que se van a hacer las ejecuciones, de donde el programa tiene que cargar las imágenes y las máscaras de las nebulosas planetarias y donde va a guardar los resultados obtenidos."
   ]
  },
  {
   "cell_type": "code",
   "execution_count": 5,
   "metadata": {},
   "outputs": [
    {
     "name": "stdout",
     "output_type": "stream",
     "text": [
      "Vamos a cambiar el directorio de trabajo\n",
      "\n",
      "El directorio actual es: C:\\Users\\Lucan\\OneDrive - Universidade da Coruña\\Escritorio\\4_GCEID\\TFG\\test\\PNe_segmentation\n",
      "\n",
      "Contenido del directorio actual:\n",
      "\t data\n",
      "\t masks\n",
      "\t segmentation_test.ipynb\n"
     ]
    }
   ],
   "source": [
    "import os\n",
    "\n",
    "print(\"Vamos a cambiar el directorio de trabajo\")\n",
    "\n",
    "# Indicamos la ruta del directorio de trabajo\n",
    "route = \"C:\\\\Users\\\\Lucan\\\\OneDrive - Universidade da Coruña\\\\Escritorio\\\\4_GCEID\\\\TFG\\\\test\\\\PNe_segmentation\"\n",
    "os.chdir(route)\n",
    "\n",
    "current_directory = os.getcwd()\n",
    "print(\"\\nEl directorio actual es:\", current_directory)\n",
    "\n",
    "# Listamos el contenido del directorio\n",
    "files = os.listdir(current_directory)\n",
    "print(\"\\nContenido del directorio actual:\")\n",
    "for file in files:\n",
    "    print(\"\\t\",file)\n"
   ]
  },
  {
   "cell_type": "markdown",
   "metadata": {},
   "source": [
    "## 1. Carga de las imágenes junto a sus máscaras\n"
   ]
  },
  {
   "cell_type": "markdown",
   "metadata": {},
   "source": [
    "Vamos a hacer una prueba de como cargaríamos una máscara y contorno junto con la imagen a la que pertenece"
   ]
  },
  {
   "cell_type": "code",
   "execution_count": 12,
   "metadata": {},
   "outputs": [],
   "source": [
    "# Listamos el contenido del directorio de las máscaras\n",
    "masks_directory = \"C:\\\\Users\\\\Lucan\\\\OneDrive - Universidade da Coruña\\\\Escritorio\\\\4_GCEID\\\\TFG\\\\test\\\\PNe_segmentation\\\\masks\"\n",
    "masksFiles = os.listdir(masks_directory)\n",
    "masks_files = [file for file in masksFiles if file.endswith(\".png\")]\n",
    "\n",
    "data_directory = \"C:\\\\Users\\\\Lucan\\\\OneDrive - Universidade da Coruña\\\\Escritorio\\\\4_GCEID\\\\TFG\\\\test\\\\PNe_segmentation\\\\data\"\n",
    "dataFiles = os.listdir(data_directory)\n",
    "data_files = [file for file in dataFiles if file.endswith(\".fits\")]"
   ]
  },
  {
   "cell_type": "code",
   "execution_count": 14,
   "metadata": {},
   "outputs": [
    {
     "data": {
      "text/plain": [
       "{'A13': 'A13_contour.png',\n",
       " 'A14': 'A14_mask.png',\n",
       " 'A16': 'A16_contour.png',\n",
       " 'A18': 'A18_mask.png',\n",
       " 'A19': 'A19_mask.png',\n",
       " 'A24': 'A24_contour.png',\n",
       " 'A2': 'A2_mask.png',\n",
       " 'A30': 'A30_mask.png',\n",
       " 'A39': 'A39_mask.png',\n",
       " 'A3': 'A3_contour.png',\n",
       " 'A43': 'A43_mask.png',\n",
       " 'A46': 'A46_mask.png',\n",
       " 'A4': 'A4_contour.png',\n",
       " 'A50': 'A50_mask.png',\n",
       " 'A52': 'A52_mask.png',\n",
       " 'A54': 'A54_mask.png',\n",
       " 'A57': 'A57_mask.png',\n",
       " 'A58': 'A58_mask.png',\n",
       " 'A63': 'A63_mask.png',\n",
       " 'A68': 'A68_mask.png',\n",
       " 'A70': 'A70_mask.png',\n",
       " 'A71': 'A71_mask.png',\n",
       " 'A72': 'A72_mask.png',\n",
       " 'A73': 'A73_contour.png',\n",
       " 'A75': 'A75_mask.png',\n",
       " 'A77': 'A77_mask.png',\n",
       " 'A78': 'A78_mask.png',\n",
       " 'A80': 'A80_mask.png',\n",
       " 'A83': 'A83_contour.png',\n",
       " 'A84': 'A84_mask.png',\n",
       " 'A86': 'A86_contour.png',\n",
       " 'A8': 'A8_mask.png',\n",
       " 'Anom20H02m': 'Anom20H02m_mask.png',\n",
       " 'BV5': 'BV5_3_contour.png',\n",
       " 'CRL618': 'CRL618_contour.png',\n",
       " 'Dd1': 'Dd1_mask.png',\n",
       " 'EGB1': 'EGB1_mask.png',\n",
       " 'h2': 'h2_mask.png',\n",
       " 'h3': 'h3_29_contour.png',\n",
       " 'HaTr10': 'HaTr10_contour.png',\n",
       " 'HaTr11': 'HaTr11_contour.png',\n",
       " 'HaTr13': 'HaTr13_contour.png',\n",
       " 'HaTr14': 'HaTr14_contour.png',\n",
       " 'Hb12': 'Hb12_mask.png',\n",
       " 'HDW6': 'HDW6_contour.png',\n",
       " 'He1': 'He1_6_contour.png',\n",
       " 'He2': 'He2_459_mask.png'}"
      ]
     },
     "execution_count": 14,
     "metadata": {},
     "output_type": "execute_result"
    }
   ],
   "source": [
    "nebula_dict = {}\n",
    "\n",
    "for mask_file in masks_files:\n",
    "    nebula_name = mask_file.split(\"_\")[0]\n",
    "    nebula_dict[nebula_name] = mask_file\n",
    "\n",
    "nebula_dict\n"
   ]
  },
  {
   "cell_type": "code",
   "execution_count": 16,
   "metadata": {},
   "outputs": [
    {
     "data": {
      "text/plain": [
       "{}"
      ]
     },
     "execution_count": 16,
     "metadata": {},
     "output_type": "execute_result"
    }
   ],
   "source": [
    "nebula_files_dict = {key: value for key, value in nebula_dict.items() if key in data_files}\n",
    "nebula_files_dict\n"
   ]
  }
 ],
 "metadata": {
  "kernelspec": {
   "display_name": "venv",
   "language": "python",
   "name": "python3"
  },
  "language_info": {
   "codemirror_mode": {
    "name": "ipython",
    "version": 3
   },
   "file_extension": ".py",
   "mimetype": "text/x-python",
   "name": "python",
   "nbconvert_exporter": "python",
   "pygments_lexer": "ipython3",
   "version": "3.10.9"
  }
 },
 "nbformat": 4,
 "nbformat_minor": 2
}
