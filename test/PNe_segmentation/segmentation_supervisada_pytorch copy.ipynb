{
 "cells": [
  {
   "cell_type": "markdown",
   "metadata": {},
   "source": [
    "# Pruebas de segmentación con el Catálogo Morfológico de Nebulosas Planetarias del IAC (NO SUPERVISADO)\n",
    "En este documento vamos a probar las técnicas comentadas por Diego Cantorna en el documento de astrogestem (disponible en la carpeta astrosegstem de este mismo repositorio) y vamos a añadir ciertas técnicas y mejoras. Todas las técnicas testeadas en este Jupyter Notebook son de aprendizaje supervisado."
   ]
  },
  {
   "cell_type": "markdown",
   "metadata": {},
   "source": [
    "## Carga del Dataset\n",
    "Vamos a definir una clase, que tome como base la clase Dataset de Pytorch, para poder cargar todo nuestro conjunto de imágenes de uno o varios canales con su máscara correspondiente."
   ]
  },
  {
   "cell_type": "code",
   "execution_count": 11,
   "metadata": {},
   "outputs": [
    {
     "name": "stdout",
     "output_type": "stream",
     "text": [
      "Vamos a cambiar el directorio de trabajo\n",
      " El directorio actual es: /mnt/netapp2/Home_FT2/home/ulc/co/ela/TFG/test/PNe_segmentation\n",
      " Contenido del directorio actual:\n",
      "\t commands.txt\n",
      "\t data\n",
      "\t create_dataset.ipynb\n",
      "\t data_files_1c.csv\n",
      "\t images\n",
      "\t launch_jupyter.sh\n",
      "\t masks\n",
      "\t segmentation_no_supervisada.ipynb\n",
      "\t segmentation_no_supervisada_2c.ipynb\n",
      "\t segmentation_no_supervisada_pytorch.ipynb\n",
      "\t segmentation_supervisada.ipynb\n",
      "\t dataset_info.csv\n",
      "\t data_files_1c_train.csv\n",
      "\t historico_notebooks\n",
      "\t data_files_1c_test.csv\n",
      "\t segmentation_no_supervisada_pytorch_clean.ipynb\n",
      "\t segmentation_supervisada_pytorch copy.ipynb\n",
      "\t segmentation_supervisada_pytorch.ipynb\n"
     ]
    }
   ],
   "source": [
    "import os\n",
    "\n",
    "print(\"Vamos a cambiar el directorio de trabajo\")\n",
    "\n",
    "# Indicamos la ruta del directorio de trabajo\n",
    "route = os.getcwd() + \"/TFG/test/PNe_segmentation\"\n",
    "os.chdir(route)\n",
    "\n",
    "current_directory = os.getcwd()\n",
    "print(\" El directorio actual es:\", current_directory)\n",
    "\n",
    "# Listamos el contenido del directorio\n",
    "files = os.listdir(current_directory)\n",
    "print(\" Contenido del directorio actual:\")\n",
    "for file in files:\n",
    "    print(\"\\t\",file)\n",
    "    \n",
    "# Listamos el contenido del directorio de las máscaras\n",
    "# masks_directory = route+\"TFG\\\\test\\\\PNe_segmentation\\\\masks\"\n",
    "# data_directory = route+\"TFG\\\\test\\\\PNe_segmentation\\\\data\"\n",
    "## Ejecución en el CESGA Finisterrae III\n",
    "masks_directory = route+\"/masks\"\n",
    "data_directory = route+\"/data\"\n"
   ]
  },
  {
   "cell_type": "code",
   "execution_count": 12,
   "metadata": {},
   "outputs": [],
   "source": [
    "from torch.utils.data import Dataset\n",
    "import matplotlib.pyplot as plt\n",
    "import torch\n",
    "from torchvision import transforms\n",
    "from torchvision.transforms.functional import InterpolationMode\n",
    "import random as rd\n",
    "import numpy as np\n",
    "from astropy.io import fits\n",
    "from skimage import measure\n",
    "\n",
    "\n",
    "MinMaxNorm = lambda x: (x - np.min(x)) / (np.max(x) - np.min(x))\n",
    "\n",
    "class NebulaeDataset(Dataset):\n",
    "    \n",
    "    def __init__(self, image_path, mask_path, dataframe, rsize = None, transform = None):\n",
    "        super().__init__()\n",
    "        \n",
    "        self.image_path = image_path  # Ruta a las imágenes\n",
    "        self.mask_path = mask_path  # Ruta a las máscaras\n",
    "        \n",
    "        # Cargar los nombres de las imágenes y máscaras desde el dataframe\n",
    "        self.data_dict = dataframe.set_index('name').to_dict(orient='index')\n",
    "\n",
    "        # Filtrar las rutas de archivo según los nombres en el dataframe\n",
    "        self.img_files = [os.path.join(self.image_path, files['h']) for files in self.data_dict.values()]\n",
    "        self.mask_files = [os.path.join(self.mask_path, files['mask']) for files in self.data_dict.values()]\n",
    "        self.names = list(self.data_dict.keys())  # Nombres de las imágenes y máscaras\n",
    "                \n",
    "        self.rsize = rsize  # Size to use in default Resize transform\n",
    "        self.transform = transform\n",
    "\n",
    "    # Returns both the image and the mask\n",
    "    def __getitem__(self, index):\n",
    "        img_path = self.img_files[index]\n",
    "        mask_path = self.mask_files[index]\n",
    "        \n",
    "        image = np.flip(fits.getdata(img_path, memmap=False).astype(np.float32), axis=0)\n",
    "        mask = plt.imread(mask_path)\n",
    "        \n",
    "        # Take only the first channel. CHANGE THIS IF WE ARE GOING TO WORK WITH NUMEROUS CHANNELS\n",
    "        if len(mask.shape) > 2:\n",
    "            mask = mask[:,:,0]\n",
    "        if len(image.shape) > 2:\n",
    "            image = image[:,:,0]\n",
    "        \n",
    "        # Apply the defined transformations to both image and mask\n",
    "        if self.transform is not None:\n",
    "            seed = np.random.randint(2147483647) # make a seed with numpy generator \n",
    "            rd.seed(seed) # apply this seed to image transforms\n",
    "            torch.manual_seed(seed)\n",
    "            if type(self.transform) == tuple:\n",
    "                image = self.transform[0](image)\n",
    "            else:\n",
    "                image = self.transform(image)\n",
    "            rd.seed(seed) # apply the same seed to mask transforms\n",
    "            torch.manual_seed(seed) \n",
    "            if type(self.transform) == tuple:\n",
    "                mask = self.transform[1](mask)\n",
    "            else:\n",
    "                mask = self.transform(mask)\n",
    "        else:\n",
    "            if self.rsize is not None:\n",
    "                t = transforms.Compose([\n",
    "                    MinMaxNorm,\n",
    "                    transforms.ToTensor(),\n",
    "                    transforms.Resize(self.rsize, interpolation= InterpolationMode.NEAREST)\n",
    "                    ])\n",
    "            else:\n",
    "                t = transforms.Compose([\n",
    "                    MinMaxNorm,\n",
    "                    transforms.ToTensor()\n",
    "                    ])\n",
    "\n",
    "            image = t(image)\n",
    "            mask = t(mask)\n",
    "        \n",
    "        return image, torch.round(mask).int()\n",
    "\n",
    "    def __len__(self):\n",
    "        return len(self.img_files)\n",
    "    \n",
    "    def different_shapes(self):\n",
    "        shapes = set([tuple(self[i][0].permute(2,1,0).shape) for i in range(len(self))])\n",
    "        return list(shapes)\n",
    "    \n",
    "    def plot(self, index, plot_image = True, plot_mask = False):\n",
    "        \"\"\"\n",
    "        Muestra una imagen y/o máscara aleatoria del lote.\n",
    "        \n",
    "        Parámetros:\n",
    "        index (int): Índice del lote.\n",
    "        plot_image (bool, opcional): Si es True, muestra la imagen. Por defecto es True.\n",
    "        plot_mask (bool, opcional): Si es True, muestra la máscara. Por defecto es False.\n",
    "        \"\"\"\n",
    "        image, mask = self[index]\n",
    "        image = image.permute(1,2,0)\n",
    "        mask = mask.permute(1,2,0)\n",
    "        name = self.names[index]\n",
    "        \n",
    "        if plot_image:\n",
    "            fig, ax = plt.subplots(1, 1, figsize=(5, 5))\n",
    "            fig.suptitle(f\"Canales de la nebulosa {name}\", fontweight = 'bold', fontsize = 14)\n",
    "            ax.imshow(image, cmap = \"gray\")\n",
    "            ax.set_title(f\"Canal H\")\n",
    "            fig.show()\n",
    "        if plot_mask:\n",
    "            fig, ax = plt.subplots(1, 1, figsize=(5, 5))\n",
    "            fig.suptitle(f\"Máscara de la nebulosa {name}\", fontweight = 'bold', fontsize = 14)\n",
    "            ax.imshow(mask, cmap = \"gray\")\n",
    "            fig.show()\n",
    "            \n",
    "    def different_shapes(self):\n",
    "        shapes = set([tuple(self[i][0].permute(2,1,0).shape) for i in range(len(self))])\n",
    "        return list(shapes)\n",
    "    \n",
    "    def bg_obj_proportions(self):\n",
    "        proportions = []\n",
    "        for i in range(len(self)):\n",
    "            mask = self[i][1].numpy()\n",
    "            bg = np.sum(mask == 0)\n",
    "            obj = np.sum(mask == 1)\n",
    "            proportions.append(obj/(bg+obj))\n",
    "        return proportions\n",
    "    \n",
    "    def contrast_differences(self, radius = None):\n",
    "        contrasts = []\n",
    "        if radius is not None:\n",
    "            for i in range(len(self)):\n",
    "                image = self[i][0].numpy()\n",
    "                mask = self[i][1].numpy()\n",
    "                bg = image[mask == 0]\n",
    "                obj = image[mask == 1]\n",
    "                contrasts.append(np.mean(obj) - np.mean(bg))\n",
    "        else:\n",
    "            for i in range(len(self)):\n",
    "                image = self[i][0].numpy()\n",
    "                mask = self[i][1].numpy()\n",
    "                \n",
    "                bg = image[mask == 0]\n",
    "                obj = image[mask == 1]\n",
    "                contrasts.append(np.mean(obj) - np.mean(bg))\n",
    "        return contrasts\n"
   ]
  },
  {
   "cell_type": "markdown",
   "metadata": {},
   "source": [
    "Ahora deberíamos de ser capaces de poder cargar todas las imágenes, como tensores de PyTorch, de nuestro csv como un Dataset"
   ]
  },
  {
   "cell_type": "code",
   "execution_count": 13,
   "metadata": {},
   "outputs": [],
   "source": [
    "import pandas as pd\n",
    "df = pd.read_csv(\"data_files_1c_train.csv\")\n",
    "dataset = NebulaeDataset(data_directory, masks_directory, df)"
   ]
  },
  {
   "cell_type": "code",
   "execution_count": 14,
   "metadata": {},
   "outputs": [
    {
     "data": {
      "image/png": "[encoded data removed]",
      "text/plain": [
       "<Figure size 500x500 with 1 Axes>"
      ]
     },
     "metadata": {},
     "output_type": "display_data"
    },
    {
     "data": {
      "image/png": "[encoded data removed]",
      "text/plain": [
       "<Figure size 500x500 with 1 Axes>"
      ]
     },
     "metadata": {},
     "output_type": "display_data"
    }
   ],
   "source": [
    "dataset.plot(119, plot_image = True, plot_mask = True)"
   ]
  },
  {
   "cell_type": "markdown",
   "metadata": {},
   "source": [
    "## Segmentación de las imágenes\n",
    "Para la segmentación de las imágenes, vamos a probar diferentes algoritmos/técnicas propuestas por Diego Cantorna en el notebook de 'astrosegstem', pero para un mayor conjunto de datos para poder evaluarlas y verificar sus resultados."
   ]
  },
  {
   "cell_type": "markdown",
   "metadata": {},
   "source": [
    "### Evaluación de resultados\n",
    "Para evaluar el resultado de las técnicas de segmentación se pueden emplear distintas métricas.\n",
    "\n",
    "Algunas de las métricas más utilizadas son la precisión, accuracy y recall, que junto al análisis de la matriz de confusión son las más utilizadas para cualquier problema de procesamiento de imágenes. A estas también se unen:\n",
    "- **Coeficiente de Dice** (Dice Similarity Coefficient): Mide la similitud entre la segmentación predicha y la segmentación de referencia. Valores más cercanos a 1 indican una mejor superposición. Para un problema de segmentación binaria como el nuestro, el F1-Score y el Dice son equivalentes.\n",
    "- **Índice de Jaccard** (Jaccard Index o Intersection over Union, IoU): Calcula la intersección entre la segmentación predicha y la segmentación de referencia dividida por su unión. También mide la superposición.\n",
    "las cuales son métricas básicas y esenciales en los problemas de segmentación.\n",
    "\n",
    "Vamos a utilizar todas estas métricas para evaluar nuestras técnicas de segmentación.\n",
    "\n",
    "Vamos a dar mayor prioridad a la hora de evaluar al F1-Score (equivalente al Dice), al IoU y a la precisión, debido a que queremos extraer la silueta aunque no sea de una manera exacta. Métricas como el accuracy en este tipo de problemas no son muy representativas dado a que si el 90 por ciento de la imagen es fondo y nuestra técnica predice como máscara todo 0s (es decir, todo negro) nos va a devolver un 90 por ciento de accuracy pero realmente no nos estaría aportando ninguna información de valor. El recall sería una métrica más idónea si no nos quisiésemos saltar ningún píxel que tenemos que predecir como positivo, aunque diésemos algún falso positivo (métrica muy observada en segmentación de imagen médica por ejemplo). \n",
    "\n",
    "Para la evaluación de las técnicas supervisadas vamos a seguir manteniendo un conjunto de test completamente apartado de nuestras pruebas y vamos a evaluar las técnicas mediante el uso de un conjunto de validación, gracias a la técnica *K-Fold Cross Validation* (el número de K se irá viendo sobre la marcha, probablemente sea un número entre 5 y 10). En el siguiente esquema se hace una descripción de como se hace la partición del dataset:\n",
    "\n",
    "![K-Fold Cross Validation](images/kfold.jpg)\n",
    "\n"
   ]
  },
  {
   "cell_type": "markdown",
   "metadata": {},
   "source": [
    "### Técnicas de preprocesado"
   ]
  },
  {
   "cell_type": "code",
   "execution_count": 15,
   "metadata": {},
   "outputs": [],
   "source": [
    "from sklearn.cluster import KMeans\n",
    "from skimage import morphology, exposure\n",
    "from scipy import ndimage\n",
    "import skfuzzy as fuzz\n",
    "\n",
    "class TypicalImageNorm(object):\n",
    "    def __init__(self, factor = 1, substract = 0):\n",
    "        self.factor = factor\n",
    "        self.substract = substract\n",
    "        \n",
    "    def __call__(self, x):\n",
    "        return ((x - np.min(x)) / (np.max(x) - np.min(x)) - self.substract) * self.factor\n",
    "\n",
    "    def __repr__(self):\n",
    "        return self.__class__.__name__ + '()'\n",
    "    \n",
    "class ApplyKMeans:\n",
    "    def __init__(self, concat = False, **kwargs):\n",
    "        self.concat = concat\n",
    "        self.kwargs = kwargs\n",
    "\n",
    "    def __call__(self, im):\n",
    "        im_orig = im.copy()\n",
    "        if len(im.shape) == 3 and im.shape[2] > 1:\n",
    "            im = im[:,:,-1]\n",
    "            \n",
    "        im_array = im.reshape(-1, 1)\n",
    "    \n",
    "        kmeans = KMeans(**self.kwargs).fit(im_array)  # Entrenar el modelo K-Means\n",
    "        \n",
    "        # Obtener la imagen segmentada aplicando el algoritmo a cada píxel de la imagen\n",
    "        im_segm_array = kmeans.predict(im_array)\n",
    "\n",
    "        # Reemplazar los índices de los clústeres por los centroides de los clústeres\n",
    "        im_segm_array = np.array([kmeans.cluster_centers_[i] for i in im_segm_array])\n",
    "\n",
    "        # Cambiar las dimensiones de los datos segmentados para que se correspondan con la imagen inicial\n",
    "        im_segm = im_segm_array.reshape(im.shape[0], im.shape[1], 1)\n",
    "        \n",
    "        if self.concat:\n",
    "            if len(im_orig.shape) < 3:\n",
    "                im_orig = np.expand_dims(im_orig, axis=2)\n",
    "                \n",
    "            return np.concatenate((im_orig, im_segm), axis=2)\n",
    "        else:\n",
    "            return im_segm\n",
    "\n",
    "class ApplyFCM:\n",
    "    def __init__(self, concat = False, **kwargs):\n",
    "        self.concat = concat\n",
    "        self.kwargs = kwargs\n",
    "\n",
    "    def __call__(self, im):\n",
    "        im_orig = im.copy()\n",
    "        if len(im.shape) == 3 and im.shape[2] > 1:\n",
    "            im = im[:,:,-1]\n",
    "            \n",
    "        im_array = im.reshape(1, -1)\n",
    "\n",
    "        cntr, u, u0, d, jm, p, fpc = fuzz.cluster.cmeans(data=im_array, **self.kwargs)  # Aplicar el algoritmo FCM\n",
    "        \n",
    "        # Asociar a cada píxel el cluster para el que tiene una mayor pertenencia\n",
    "        clusters_array = np.argmax(u, axis=0)\n",
    "        maximos = np.max(u, axis=0)\n",
    "\n",
    "        # Reemplazar los índices de los clústeres por los centroides de los clústeres\n",
    "        im_segm_array = np.array([cntr[i] for i in clusters_array])\n",
    "\n",
    "        # Cambiar las dimensiones de los datos segmentados para que se correspondan con la imagen inicial\n",
    "        im_segm = im_segm_array.reshape(im.shape[0], im.shape[1], 1)\n",
    "        \n",
    "        maximos = maximos.reshape(im.shape[0], im.shape[1], 1)\n",
    "        im_segm = np.concatenate((maximos, im_segm), axis=2)\n",
    "            \n",
    "        if self.concat:\n",
    "            if len(im_orig.shape) < 3:\n",
    "                im_orig = np.expand_dims(im_orig, axis=2)\n",
    "                \n",
    "            return np.concatenate((im_orig, im_segm), axis=2)\n",
    "        else:\n",
    "            return im_segm\n",
    "\n",
    "class ApplyMorphology:\n",
    "    def __init__(self, operation = morphology.opening, concat = False, **kwargs):\n",
    "        self.concat = concat\n",
    "        self.operation = operation\n",
    "        self.kwargs = kwargs\n",
    "        if operation == morphology.binary_opening or operation == morphology.binary_closing:\n",
    "            self.mode = \"star_background\"\n",
    "        else:\n",
    "            self.mode = \"nebulae\"\n",
    "    \n",
    "    def __call__(self, im):\n",
    "        im_orig = im.copy()\n",
    "        if len(im.shape) == 3 and im.shape[2] > 1:\n",
    "            im = im[:,:,-1]\n",
    "        \n",
    "        if self.mode == \"nebulae\":\n",
    "            im_filt = self.operation(im, **self.kwargs)\n",
    "        else:\n",
    "            im_preproc = np.copy(im)\n",
    "            im_filt = ndimage.gaussian_filter(im, sigma=3)\n",
    "            im_filt[im == 0] = 0\n",
    "\n",
    "            im_zonas_claras_peq = im > (im_filt + np.std(im))\n",
    "\n",
    "            im_zonas_claras_peq = self.operation(im_zonas_claras_peq, **self.kwargs)\n",
    "                \n",
    "            im_preproc = (im_preproc - np.min(im_preproc))\n",
    "            im_preproc[im_zonas_claras_peq] = 0\n",
    "            \n",
    "            im_filt = im_preproc\n",
    "        if self.concat:\n",
    "            if len(im_orig.shape) < 3:\n",
    "                im_orig = np.expand_dims(im_orig, axis=2)\n",
    "                \n",
    "            im_filt = np.expand_dims(im_filt, axis=2)\n",
    "            return np.concatenate((im_orig, im_filt), axis=2)\n",
    "        else:\n",
    "            return self.operation(im, **self.kwargs)\n",
    "\n",
    "class ApplyIntensityTransformation:\n",
    "    def __init__(self, transformation = exposure.rescale_intensity, concat = False, **kwargs):\n",
    "        self.transformation = transformation\n",
    "        self.kwargs = kwargs\n",
    "        self.concat = concat\n",
    "        self.in_range = None\n",
    "        self.kernel_size = None\n",
    "        \n",
    "        if \"in_range\" in self.kwargs:\n",
    "            self.in_range = self.kwargs[\"in_range\"]\n",
    "        \n",
    "        if \"kernel_size\" in self.kwargs:\n",
    "            self.kernel_size = self.kwargs[\"kernel_size\"]\n",
    "    \n",
    "    def __call__(self, im):\n",
    "        im_orig = im.copy()\n",
    "        if len(im.shape) == 3 and im.shape[2] > 1:\n",
    "            im = im[:,:,-1]\n",
    "        \n",
    "        if self.in_range is not None:\n",
    "            self.kwargs[\"in_range\"] = (im.max() * self.in_range[0], im.max() * self.in_range[1])\n",
    "        \n",
    "        # self.kwargs[\"in_range\"] = (im.min(), im.max()) # Linea para realizar un reescalado de la intensidad de la imagen lineal\n",
    "        \n",
    "        if self.kernel_size is not None:\n",
    "            self.kwargs[\"kernel_size\"] = im.shape[0] // self.kernel_size\n",
    "            \n",
    "        im_trans = self.transformation(im, **self.kwargs)\n",
    "        if self.concat:\n",
    "            if len(im_orig.shape) < 3:\n",
    "                im_orig = np.expand_dims(im_orig, axis=2)\n",
    "                \n",
    "            im_trans = np.expand_dims(im_trans, axis=2)\n",
    "            return np.concatenate((im_orig, im_trans), axis=2)\n",
    "        else:\n",
    "            return self.transformation(im, **self.kwargs)\n",
    "        \n",
    "class ApplyFilter:\n",
    "    def __init__(self, filter = ndimage.gaussian_filter, concat = False, **kwargs):\n",
    "        self.filter = filter\n",
    "        self.kwargs = kwargs\n",
    "        self.concat = concat\n",
    "    \n",
    "    def __call__(self, im):\n",
    "        im_orig = im.copy()\n",
    "        if len(im.shape) == 3 and im.shape[2] > 1:\n",
    "            im = im[:,:,-1]\n",
    "        \n",
    "        im_filt = self.filter(im, **self.kwargs)\n",
    "        if self.concat:\n",
    "            if len(im_orig.shape) < 3:\n",
    "                im_orig = np.expand_dims(im_orig, axis=2)\n",
    "                \n",
    "            im_filt = np.expand_dims(im_filt, axis=2)\n",
    "            return np.concatenate((im_orig, im_filt), axis=2)\n",
    "        else:\n",
    "            return self.filter(im, **self.kwargs)\n",
    "        \n",
    "class CustomPad():\n",
    "    def __init__(self, target_size = (980, 980), fill = 0, fill_min = False, tensor_type = None):\n",
    "        self.target_size = target_size\n",
    "        self.fill = fill\n",
    "        self.fill_min = fill_min\n",
    "        self.tensor_type = tensor_type\n",
    "        \n",
    "    def __call__(self, image):\n",
    "        # Get the size of the input image\n",
    "        width, height = image.shape[2], image.shape[1]\n",
    "\n",
    "        if width == self.target_size[1] and height == self.target_size[0]:\n",
    "            if self.tensor_type is not None:\n",
    "                return self.tensor_type(image)\n",
    "            else:\n",
    "                return image\n",
    "        \n",
    "        elif width > self.target_size[1] or height > self.target_size[0]:\n",
    "            image = transforms.functional.resize(image, self.target_size, interpolation=InterpolationMode.NEAREST)\n",
    "            if self.tensor_type is not None:\n",
    "                return self.tensor_type(image)\n",
    "            else:\n",
    "                return image\n",
    "        \n",
    "        else:\n",
    "            # Compute the size of the padding\n",
    "            pad_width = self.target_size[1] - width\n",
    "            pad_height = self.target_size[0] - height\n",
    "\n",
    "            # Compute the padding\n",
    "            pad_left = pad_width // 2\n",
    "            pad_right = pad_width - pad_left\n",
    "            pad_top = pad_height // 2\n",
    "            pad_bottom = pad_height - pad_top\n",
    "\n",
    "            if self.fill_min:\n",
    "                self.fill = image.min().item()\n",
    "                \n",
    "            # Apply the padding\n",
    "            if self.tensor_type is not None:\n",
    "                return self.tensor_type(transforms.functional.pad(image, (pad_left, pad_top, pad_right, pad_bottom), fill = self.fill))\n",
    "            else:\n",
    "                return transforms.functional.pad(image, (pad_left, pad_top, pad_right, pad_bottom), fill = self.fill)\n",
    "    \n",
    "    \n",
    "def plot_all(image, mask, **kwargs):\n",
    "        image = image.permute(1,2,0)\n",
    "        mask = mask.permute(1,2,0)\n",
    "        \n",
    "        n_channels = image.shape[2]\n",
    "        fig, ax = plt.subplots(1, n_channels + 1, figsize=(5 * n_channels, 5))\n",
    "        # fig.suptitle(f\"Canales de la nebulosa y máscara\", fontweight = 'bold', fontsize = 14)\n",
    "        for i in range(n_channels):\n",
    "            ax[i].imshow(image[:,:,i]*255, **kwargs)\n",
    "            ax[i].set_title(f\"Canal {i}\")\n",
    "            \n",
    "        ax[n_channels].imshow(mask, cmap = \"gray\")\n",
    "        ax[n_channels].set_title(f\"Máscara\")\n",
    "        fig.show()\n",
    "\n",
    "def find_closest_points(point, contour):\n",
    "    distances = np.linalg.norm(contour - point, axis=1)\n",
    "    return contour[np.argmin(distances)]\n",
    "\n",
    "def filter_cluster(image, threshold=0.90, morphology_percentage_alpha = 0.025, mask_probs = None, mode = \"star_background\", channel_index = 0, metric_fnc = lambda x_mean, x_std, y_mean, y_std: (x_mean / x_std) - (y_mean / y_std)) :\n",
    "    \"\"\"\n",
    "    Filtra los clusters de una imagen binarizada para obtener el fondo.\n",
    "    \n",
    "    Parámetros:\n",
    "    image (torch.Tensor): Imagen binarizada.\n",
    "    min_background_percentage (float, opcional): Porcentaje mínimo de píxeles de fondo. Por defecto es 0.90.\n",
    "    \n",
    "    Retorna:\n",
    "    torch.Tensor: Imagen binarizada con el fondo.\n",
    "    \n",
    "    \"\"\"\n",
    "    image_knn = image[-1]\n",
    "    # Sort unique cluster values in ascending order\n",
    "    unique_values = image_knn.unique(sorted=True)\n",
    "\n",
    "    background = torch.where(image_knn == unique_values[0], torch.tensor(0), torch.tensor(1))\n",
    "\n",
    "    old_metric = -np.inf\n",
    "    \n",
    "    if mode == \"star_background\":\n",
    "        # Mientras que el porcentaje de píxeles de fondo sea menor que el porcentaje mínimo, seguimos añadiendo clusters al fondo\n",
    "        for cluster_value in unique_values[1:]:\n",
    "            \n",
    "            add_background = torch.where(image_knn == cluster_value, torch.tensor(0), torch.tensor(1))\n",
    "            new_background = background * add_background\n",
    "            \n",
    "            if (1 - new_background.sum() / new_background.numel()) > threshold:\n",
    "                break\n",
    "            \n",
    "            background = new_background\n",
    "        \n",
    "        if mask_probs is not None:\n",
    "            background = background * mask_probs\n",
    "    \n",
    "    elif mode == \"contrast_difference\":\n",
    "        final_background = background.clone()\n",
    "        for cluster_value in unique_values[1:]:\n",
    "            bg_wo_holes = binary_closing(background, footprint=disk(image.shape[1]*morphology_percentage_alpha))\n",
    "            bg_erosion = binary_erosion(bg_wo_holes, footprint=disk(image.shape[1]*morphology_percentage_alpha))\n",
    "\n",
    "            bg_dilation = binary_dilation(background, disk(image.shape[1]*morphology_percentage_alpha*2))\n",
    "\n",
    "            if sum(bg_erosion.flatten()) >= len(bg_erosion.flatten()) * 0.99 or sum(bg_dilation.flatten()) >= len(bg_dilation.flatten())*0.99:\n",
    "                add_background = torch.where(image_knn == cluster_value, torch.tensor(0), torch.tensor(1))\n",
    "                background *= add_background\n",
    "                continue\n",
    "            \n",
    "            elif sum(bg_erosion.flatten()) == 0 or sum(bg_dilation.flatten()) == 0:\n",
    "                break\n",
    "            \n",
    "            contour_bg_erosion = measure.find_contours(bg_erosion)\n",
    "            contour_bg_dilation = measure.find_contours(bg_dilation)\n",
    "\n",
    "            # Repetir el proceso para la máscara erosionada\n",
    "            blank_image_erosion = np.zeros_like(bg_erosion, dtype=np.uint8)\n",
    "\n",
    "            contour_max_length = max(contour_bg_erosion, key=len)\n",
    "            for point in contour_max_length:\n",
    "                blank_image_erosion[int(point[0]), int(point[1])] = 1\n",
    "\n",
    "            # Repetir el proceso para la máscara dilatada\n",
    "            blank_image_dilation = np.zeros_like(bg_dilation, dtype=np.uint8)\n",
    "\n",
    "            contour_max_length = max(contour_bg_dilation, key=len)\n",
    "            for point in contour_max_length:\n",
    "                blank_image_dilation[int(point[0]), int(point[1])] = 1\n",
    "                    \n",
    "            # Calcular la diferencia entre los contornos erosionados y dilatados\n",
    "            contour_values_dilation = image.permute(1,2,0).numpy()[:,:,channel_index] * blank_image_dilation\n",
    "            contour_values_erosion = image.permute(1,2,0).numpy()[:,:,channel_index] * blank_image_erosion\n",
    "\n",
    "            bp_erosion = contour_values_erosion.flatten()[contour_values_erosion.flatten()!=0]\n",
    "            bp_dilation = contour_values_dilation.flatten()[contour_values_dilation.flatten()!=0]\n",
    "\n",
    "            # Calcular la media y la desviación típica de los valores de contraste\n",
    "            mean_erosion = np.mean(bp_erosion)\n",
    "            std_erosion = np.std(bp_erosion)\n",
    "            mean_dilation = np.mean(bp_dilation)\n",
    "            std_dilation = np.std(bp_dilation)\n",
    "\n",
    "            metric = metric_fnc(mean_erosion, std_erosion, mean_dilation, std_dilation)\n",
    "            add_background = torch.where(image_knn == cluster_value, torch.tensor(0), torch.tensor(1))\n",
    "            new_background = background * add_background\n",
    "            \n",
    "            if  metric >= threshold:\n",
    "                final_background = background.clone()\n",
    "                break\n",
    "            \n",
    "            elif metric > old_metric:\n",
    "                old_metric = metric\n",
    "                final_background = background.clone()\n",
    "            \n",
    "            background = new_background\n",
    "        background = final_background\n",
    "    elif mode == \"mixed\":\n",
    "        background_percentage = threshold[0]\n",
    "        threshold = threshold[1]\n",
    "        \n",
    "        cnt = 0\n",
    "        \n",
    "        # Mientras que el porcentaje de píxeles de fondo sea menor que el porcentaje mínimo, seguimos añadiendo clusters al fondo\n",
    "        for cluster_value in unique_values[1:]:\n",
    "            \n",
    "            add_background = torch.where(image_knn == cluster_value, torch.tensor(0), torch.tensor(1))\n",
    "            new_background = background * add_background\n",
    "            \n",
    "            cnt += 1\n",
    "            if (1 - new_background.sum() / new_background.numel()) > background_percentage:\n",
    "                break\n",
    "            \n",
    "            background = new_background\n",
    "            \n",
    "        if mask_probs is not None:\n",
    "            background = background * mask_probs\n",
    "        \n",
    "        final_background = background.clone()\n",
    "        \n",
    "        for cluster_value in unique_values[cnt:]:\n",
    "            bg_wo_holes = binary_closing(background, footprint=disk(image.shape[1]*morphology_percentage_alpha))\n",
    "            bg_erosion = binary_erosion(bg_wo_holes, footprint=disk(image.shape[1]*morphology_percentage_alpha))\n",
    "\n",
    "            bg_dilation = binary_dilation(background, disk(image.shape[1]*morphology_percentage_alpha*2))\n",
    "            \n",
    "            if sum(bg_erosion.flatten()) == 0 or sum(bg_dilation.flatten()) == 0:\n",
    "                break\n",
    "            \n",
    "            contour_bg_erosion = measure.find_contours(bg_erosion)\n",
    "            contour_bg_dilation = measure.find_contours(bg_dilation)\n",
    "\n",
    "            # Repetir el proceso para la máscara erosionada\n",
    "            blank_image_erosion = np.zeros_like(bg_erosion, dtype=np.uint8)\n",
    "\n",
    "            contour_max_length = max(contour_bg_erosion, key=len)\n",
    "            for point in contour_max_length:\n",
    "                blank_image_erosion[int(point[0]), int(point[1])] = 1\n",
    "\n",
    "            # Repetir el proceso para la máscara dilatada\n",
    "            blank_image_dilation = np.zeros_like(bg_dilation, dtype=np.uint8)\n",
    "\n",
    "            contour_max_length = max(contour_bg_dilation, key=len)\n",
    "            for point in contour_max_length:\n",
    "                blank_image_dilation[int(point[0]), int(point[1])] = 1\n",
    "                    \n",
    "            # Calcular la diferencia entre los contornos erosionados y dilatados\n",
    "            contour_values_dilation = image.permute(1,2,0).numpy()[:,:,channel_index] * blank_image_dilation\n",
    "            contour_values_erosion = image.permute(1,2,0).numpy()[:,:,channel_index] * blank_image_erosion\n",
    "\n",
    "            bp_erosion = contour_values_erosion.flatten()[contour_values_erosion.flatten()!=0]\n",
    "            bp_dilation = contour_values_dilation.flatten()[contour_values_dilation.flatten()!=0]\n",
    "\n",
    "            # Calcular la media y la desviación típica de los valores de contraste\n",
    "            mean_erosion = np.mean(bp_erosion)\n",
    "            std_erosion = np.std(bp_erosion)\n",
    "            mean_dilation = np.mean(bp_dilation)\n",
    "            std_dilation = np.std(bp_dilation)\n",
    "\n",
    "            metric = metric_fnc(mean_erosion, std_erosion, mean_dilation, std_dilation)\n",
    "            \n",
    "            add_background = torch.where(image_knn == cluster_value, torch.tensor(0), torch.tensor(1))\n",
    "            new_background = background * add_background\n",
    "            \n",
    "            if  metric >= threshold:\n",
    "                final_background = background.clone()\n",
    "                break\n",
    "            \n",
    "            elif metric > old_metric:\n",
    "                old_metric = metric\n",
    "                final_background = background.clone()\n",
    "                \n",
    "            background = new_background\n",
    "        background = final_background\n",
    "    elif mode == \"contrast_difference_np\":\n",
    "        final_background = background.clone()\n",
    "        for cluster_value in unique_values[1:]:\n",
    "            bg_wo_holes = binary_closing(background, footprint=disk(image.shape[1]*morphology_percentage_alpha))\n",
    "            bg_erosion = binary_erosion(bg_wo_holes, footprint=disk(image.shape[1]*morphology_percentage_alpha))\n",
    "\n",
    "            bg_dilation = binary_dilation(background, disk(image.shape[1]*morphology_percentage_alpha*2))\n",
    "\n",
    "            if sum(bg_erosion.flatten()) >= len(bg_erosion.flatten()) * 0.99 or sum(bg_dilation.flatten()) >= len(bg_dilation.flatten())*0.99:\n",
    "                add_background = torch.where(image_knn == cluster_value, torch.tensor(0), torch.tensor(1))\n",
    "                background *= add_background\n",
    "                continue\n",
    "            \n",
    "            elif sum(bg_erosion.flatten()) == 0 or sum(bg_dilation.flatten()) == 0:\n",
    "                break\n",
    "            \n",
    "            contour_bg = measure.find_contours(background.numpy())\n",
    "            contour_bg = max(contour_bg, key=len)\n",
    "            \n",
    "            contour_bg_erosion = measure.find_contours(bg_erosion)\n",
    "            contour_bg_erosion = max(contour_bg_erosion, key=len)\n",
    "            \n",
    "            contour_bg_dilation = measure.find_contours(bg_dilation)\n",
    "            contour_bg_dilation = max(contour_bg_dilation, key=len)\n",
    "\n",
    "            closest_points_erosion = map(lambda x: find_closest_points(x, contour_bg_erosion), contour_bg)\n",
    "            closest_points_dilation = map(lambda x: find_closest_points(x, contour_bg_dilation), contour_bg)\n",
    "        \n",
    "            differences_points = []\n",
    "        \n",
    "            for point_erosion, point_dilation in zip(closest_points_erosion, closest_points_dilation):\n",
    "                value_erosion = image.permute(1,2,0).numpy()[int(point_erosion[0]), int(point_erosion[1]), channel_index]\n",
    "                value_dilation = image.permute(1,2,0).numpy()[int(point_dilation[0]), int(point_dilation[1]), channel_index]\n",
    "                differences_points.append(value_erosion - value_dilation)\n",
    "\n",
    "            # Calcular la media y la desviación típica de los valores de contraste\n",
    "            mean_difference = np.mean(differences_points)\n",
    "            std_difference = np.std(differences_points)\n",
    "\n",
    "            metric = metric_fnc(mean_difference, std_difference)\n",
    "            \n",
    "            add_background = torch.where(image_knn == cluster_value, torch.tensor(0), torch.tensor(1))\n",
    "            new_background = background * add_background\n",
    "            \n",
    "            if  metric >= threshold:\n",
    "                final_background = background.clone()\n",
    "                break\n",
    "            \n",
    "            elif metric > old_metric:\n",
    "                old_metric = metric\n",
    "                final_background = background.clone()\n",
    "            \n",
    "            background = new_background\n",
    "        background = final_background\n",
    "    \n",
    "    elif mode == \"mixed_np\":\n",
    "        background_percentage = threshold[0]\n",
    "        threshold = threshold[1]\n",
    "        \n",
    "        cnt = 0\n",
    "        \n",
    "        # Mientras que el porcentaje de píxeles de fondo sea menor que el porcentaje mínimo, seguimos añadiendo clusters al fondo\n",
    "        for cluster_value in unique_values[1:]:\n",
    "            \n",
    "            add_background = torch.where(image_knn == cluster_value, torch.tensor(0), torch.tensor(1))\n",
    "            new_background = background * add_background\n",
    "            \n",
    "            cnt += 1\n",
    "            if (1 - new_background.sum() / new_background.numel()) > background_percentage:\n",
    "                break\n",
    "            \n",
    "            background = new_background\n",
    "            \n",
    "        if mask_probs is not None:\n",
    "            background = background * mask_probs\n",
    "        \n",
    "        final_background = background.clone()\n",
    "        \n",
    "        for cluster_value in unique_values[cnt:]:\n",
    "                bg_wo_holes = binary_closing(background, footprint=disk(image.shape[1]*morphology_percentage_alpha))\n",
    "                bg_erosion = binary_erosion(bg_wo_holes, footprint=disk(image.shape[1]*morphology_percentage_alpha))\n",
    "\n",
    "                bg_dilation = binary_dilation(background, disk(image.shape[1]*morphology_percentage_alpha*2))\n",
    "                \n",
    "                if sum(bg_erosion.flatten()) == 0 or sum(bg_dilation.flatten()) == 0:\n",
    "                    break\n",
    "                \n",
    "                try:\n",
    "                    contour_bg = measure.find_contours(background.numpy())\n",
    "                    contour_bg = max(contour_bg, key=len)\n",
    "                    \n",
    "                    contour_bg_erosion = measure.find_contours(bg_erosion)\n",
    "                    contour_bg_erosion = max(contour_bg_erosion, key=len)\n",
    "                    \n",
    "                    contour_bg_dilation = measure.find_contours(bg_dilation)\n",
    "                    contour_bg_dilation = max(contour_bg_dilation, key=len)\n",
    "                except ValueError:\n",
    "                    add_background = torch.where(image_knn == cluster_value, torch.tensor(0), torch.tensor(1))\n",
    "                    background *= add_background\n",
    "                    continue\n",
    "                    \n",
    "                closest_points_erosion = map(lambda x: find_closest_points(x, contour_bg_erosion), contour_bg)\n",
    "                closest_points_dilation = map(lambda x: find_closest_points(x, contour_bg_dilation), contour_bg)\n",
    "\n",
    "                differences_points = []\n",
    "            \n",
    "                for point_erosion, point_dilation in zip(closest_points_erosion, closest_points_dilation):\n",
    "                    value_erosion = image.permute(1,2,0).numpy()[int(point_erosion[0]), int(point_erosion[1]), channel_index]\n",
    "                    value_dilation = image.permute(1,2,0).numpy()[int(point_dilation[0]), int(point_dilation[1]), channel_index]\n",
    "                    differences_points.append(value_erosion - value_dilation)\n",
    "\n",
    "                # Calcular la media y la desviación típica de los valores de contraste\n",
    "                mean_difference = np.mean(differences_points)\n",
    "                std_difference = np.std(differences_points)\n",
    "\n",
    "                metric = metric_fnc(mean_difference, std_difference)\n",
    "                \n",
    "                add_background = torch.where(image_knn == cluster_value, torch.tensor(0), torch.tensor(1))\n",
    "                new_background = background * add_background\n",
    "                \n",
    "                if  metric >= threshold:\n",
    "                    final_background = background.clone()\n",
    "                    break\n",
    "                \n",
    "                elif metric > old_metric:\n",
    "                    old_metric = metric\n",
    "                    final_background = background.clone()\n",
    "                    \n",
    "                background = new_background\n",
    "        background = final_background\n",
    "        \n",
    "    else:\n",
    "        raise ValueError(\"mode must be 'star_background', 'contrast_difference', 'contrast_difference_np, 'mixed' or 'mixed_np'\")\n",
    "    \n",
    "    return background"
   ]
  },
  {
   "cell_type": "markdown",
   "metadata": {},
   "source": [
    "### Clasificador de Perceptrón Multicapa (MLP Classifier)\n",
    "En este primer apartado vamos a intentar explotar las técnicas no supervisadas que utilizamos anteriormente para hacer una especie de modelo híbrido. Las técnicas no supervisadas hemos comprobado que funcionan bastante bien para separar las zonas de nebulosas del fondo, pero es muy difícil encontrar un mecanismo que seleccione los clústeres idóneos para cada imagen. Por ello vamos a intentar que esos clústeres los decida un clasificador sencillo en vez de nosotros."
   ]
  },
  {
   "cell_type": "code",
   "execution_count": 16,
   "metadata": {},
   "outputs": [],
   "source": [
    "import torch\n",
    "import torch.nn as nn\n",
    "import torch.nn.functional as F\n",
    "from torch.optim import Adam\n",
    "import segmentation_models_pytorch as smp\n",
    "import lightning as L\n",
    "import torchmetrics as tm\n",
    "from segmentation_models_pytorch.losses import DiceLoss\n",
    "\n",
    "class MLPClassifier(torch.nn.Module):\n",
    "    \n",
    "    def __init__(self, input_dim, hidden_dims, output_dim):\n",
    "        super().__init__()\n",
    "        \n",
    "        self.layer1_linear = nn.Linear(input_dim, hidden_dims[0])\n",
    "        \n",
    "        self.hidden_layers = nn.ModuleList([nn.Linear(hidden_dims[i], hidden_dims[i+1]) for i in range(len(hidden_dims)-1)])\n",
    "        \n",
    "        self.output_layer = nn.Linear(hidden_dims[-1], output_dim)\n",
    "        \n",
    "    def forward(self, x):\n",
    "        x = F.relu(self.layer1_linear(x))\n",
    "        \n",
    "        for layer in self.hidden_layers:\n",
    "            x = F.relu(layer(x))\n",
    "            \n",
    "        return self.output_layer(x)\n",
    "    \n",
    "# def get_segmentation_masks(outputs, threshold=0.5):\n",
    "#     probs = torch.sigmoid(outputs)\n",
    "#     masks = (probs > threshold)*1.0\n",
    "#     return masks\n",
    "\n",
    "metrics_fncs = {\n",
    "    \"accuracy\": tm.Accuracy, \n",
    "    \"precision\": tm.Precision, \n",
    "    \"recall\": tm.Recall, \n",
    "    \"f1\": tm.F1Score\n",
    "    }\n",
    "\n",
    "class MLPModel(L.LightningModule):\n",
    "    def __init__(self, model, learning_rate = 1e-4, loss_fn = nn.BCEWithLogitsLoss, optimizer = Adam, scheduler = None, threshold = 0.5, current_fold = 0):\n",
    "        super().__init__()\n",
    "        self.model = model\n",
    "        \n",
    "        self.learning_rate = learning_rate\n",
    "        \n",
    "        if loss_fn == DiceLoss:\n",
    "            self.loss_fn = loss_fn(smp.losses.BINARY_MODE, from_logits=True)\n",
    "        else:\n",
    "            self.loss_fn = loss_fn()\n",
    "        \n",
    "        self.optimizer = optimizer\n",
    "        self.scheduler = scheduler\n",
    "        self.threshold = threshold\n",
    "        \n",
    "        self.current_fold = current_fold\n",
    "        \n",
    "        self.metrics_dict = nn.ModuleDict({\n",
    "            \"train_metrics\": nn.ModuleDict({f\"train_{metric_name}\": metric_fnc(task=\"binary\", threshold=self.threshold) for metric_name, metric_fnc in metrics_fncs.items()}),\n",
    "            \"val_metrics\": nn.ModuleDict({f\"val_{metric_name}\": metric_fnc(task=\"binary\", threshold=self.threshold) for metric_name, metric_fnc in metrics_fncs.items()}),\n",
    "            \"test_metrics\": nn.ModuleDict({f\"test_{metric_name}\": metric_fnc(task=\"binary\", threshold=self.threshold) for metric_name, metric_fnc in metrics_fncs.items()})\n",
    "        })\n",
    "        \n",
    "        self.stage_step_outputs = {'train': [], 'val': [], 'test': []}\n",
    "        self.preds = []\n",
    "        self.save_hyperparameters()\n",
    "        \n",
    "    def forward(self, x):\n",
    "        return self.model(x)\n",
    "    \n",
    "    def shared_step(self, batch, stage):\n",
    "        x, y = batch\n",
    "        y_logits = self(x)\n",
    "        \n",
    "        loss = self.loss_fn(y_logits, y)\n",
    "        # self.log(f\"{stage}_loss\", loss)\n",
    "        \n",
    "        y_hat = torch.sigmoid(y_logits)\n",
    "        \n",
    "        for metric_name, metric_fnc in self.metrics_dict[stage+\"_metrics\"].items():\n",
    "            metric_fnc(y_hat, y)\n",
    "            self.log(f\"{metric_name}\", metric_fnc, sync_dist=True, on_step=False, on_epoch=True)\n",
    "        \n",
    "        self.stage_step_outputs[stage].append({\"loss\": loss})\n",
    "        \n",
    "        return {\"loss\": loss}\n",
    "        \n",
    "    def personal_test_step(self, batch, stage):\n",
    "        x, y = batch\n",
    "        y_logits = self(x)\n",
    "        \n",
    "        loss = self.loss_fn(y_logits, y)\n",
    "        # self.log(f\"{stage}_loss\", loss)\n",
    "        \n",
    "        y_hat = torch.sigmoid(y_logits)\n",
    "        \n",
    "        self.preds.append(y_hat)\n",
    "        \n",
    "        for metric_name, metric_fnc in self.metrics_dict[stage+\"_metrics\"].items():\n",
    "            metric_fnc(y_hat, y)\n",
    "            self.log(f\"{metric_name}\", metric_fnc, sync_dist=True, on_step=False, on_epoch=True)\n",
    "        \n",
    "        self.stage_step_outputs[stage].append({\"loss\": loss})\n",
    "        \n",
    "        return {\"loss\": loss}\n",
    "    \n",
    "    def shared_epoch_end(self, outputs, stage):\n",
    "        total_loss = 0\n",
    "        iter_count = len(outputs)\n",
    "        \n",
    "        for idx in range(iter_count):\n",
    "            total_loss += outputs[idx]['loss'].item()\n",
    "        \n",
    "        metrics = {\n",
    "            f\"{stage}_fold\": self.current_fold,\n",
    "            f\"{stage}_loss\": total_loss/iter_count,\n",
    "        }\n",
    "        \n",
    "        self.log_dict(metrics, sync_dist = True)\n",
    "        \n",
    "        self.stage_step_outputs[stage].clear()\n",
    "        \n",
    "    def training_step(self, batch, batch_idx):\n",
    "        return self.shared_step(batch, \"train\")            \n",
    "\n",
    "    def on_train_epoch_end(self):\n",
    "        outputs = self.stage_step_outputs['train']\n",
    "        return self.shared_epoch_end(outputs, \"train\")\n",
    "\n",
    "    def validation_step(self, batch, batch_idx):\n",
    "        return self.shared_step(batch, \"val\")\n",
    "\n",
    "    def on_validation_epoch_end(self):\n",
    "        outputs = self.stage_step_outputs['val']\n",
    "        return self.shared_epoch_end(outputs, \"val\")\n",
    "\n",
    "    def test_step(self, batch, batch_idx):\n",
    "        return self.personal_test_step(batch, \"test\")  \n",
    "\n",
    "    def on_test_epoch_end(self):\n",
    "        outputs = self.stage_step_outputs['test']\n",
    "        return self.shared_epoch_end(outputs, \"test\")\n",
    "\n",
    "    def configure_optimizers(self):\n",
    "        optimizer = self.optimizer(self.parameters(), lr=self.learning_rate)\n",
    "        if self.scheduler is not None:\n",
    "            scheduler = self.scheduler(optimizer, **self.kwargs)\n",
    "            return {'optimizer': optimizer, 'lr_scheduler': scheduler,'monitor': 'val_loss'}\n",
    "        else:\n",
    "            return optimizer"
   ]
  },
  {
   "cell_type": "code",
   "execution_count": 17,
   "metadata": {},
   "outputs": [],
   "source": [
    "def classBalancing(subset, size = None):\n",
    "    x_trainBal = torch.empty((0, subset[0][0].shape[0]))\n",
    "    y_trainBal = torch.empty((0, 1))\n",
    "    \n",
    "    for x, y in subset:\n",
    "        xFlat = x.permute(1,2,0).view(-1, x.shape[0])\n",
    "        yFlat = y.permute(1,2,0).view(-1, 1)\n",
    "        \n",
    "        idxObject = np.where(yFlat == 1)[0]\n",
    "        idxBackground = np.where(yFlat == 0)[0]\n",
    "        \n",
    "        np.random.shuffle(idxBackground)\n",
    "        if size == None or size > len(idxObject) or size > len(idxBackground):\n",
    "            if len(idxObject) <= len(idxBackground):\n",
    "                idxs = np.concatenate((idxObject, idxBackground[:len(idxObject)]))\n",
    "            else:\n",
    "                idxs = np.concatenate((idxObject[:len(idxBackground)], idxBackground))\n",
    "        else:\n",
    "            np.random.shuffle(idxObject)\n",
    "            idxs = np.concatenate((idxObject[:size], idxBackground[:size]))\n",
    "\n",
    "        np.random.shuffle(idxs)\n",
    "        \n",
    "        x_trainBal = torch.concatenate((x_trainBal, xFlat[idxs,:]), dim=0)\n",
    "        y_trainBal = torch.concatenate((y_trainBal, yFlat[idxs,:]), dim=0)\n",
    "        \n",
    "    return x_trainBal, y_trainBal\n",
    "\n",
    "def testFlatten(subset):\n",
    "    x_testFlat = torch.empty((0, subset[0][0].shape[0]))\n",
    "    y_testFlat = torch.empty((0, 1))\n",
    "    for x, y in subset:\n",
    "        xFlat = x.permute(1,2,0).view(-1, x.shape[0])\n",
    "        yFlat = y.permute(1,2,0).view(-1, 1)\n",
    "        \n",
    "        x_testFlat = torch.concatenate((x_testFlat, xFlat), dim = 0)\n",
    "        y_testFlat = torch.concatenate((y_testFlat, yFlat), dim = 0)\n",
    "        \n",
    "    return x_testFlat, y_testFlat\n",
    "\n",
    "\n",
    "class FlattenSubset(Dataset):\n",
    "    \"\"\"\n",
    "    Dataset wrapper personalizado que aplica la transformación (si se le introduce) a un Subset dado.\n",
    "\n",
    "    Args:\n",
    "        subset (torch.utils.data.Dataset): Subset del dataset original.\n",
    "        transform (callable, optional): Función de transformación para aplicar a los datos introducidos. Default is None.\n",
    "    \"\"\"\n",
    "    def __init__(self, subset, train = False, size = None):\n",
    "        self.subset = subset\n",
    "        \n",
    "        if train:\n",
    "            self.x_flatten, self.y_flatten = classBalancing(subset, size)\n",
    "        else:\n",
    "            self.x_flatten, self.y_flatten = testFlatten(subset)\n",
    "            \n",
    "    def __getitem__(self, index):\n",
    "        x = self.x_flatten[index]\n",
    "        y = self.y_flatten[index]\n",
    "        return x, y\n",
    "\n",
    "    def __len__(self):\n",
    "        return len(self.x_flatten)"
   ]
  },
  {
   "cell_type": "code",
   "execution_count": null,
   "metadata": {},
   "outputs": [],
   "source": [
    "from lightning.pytorch.loggers import WandbLogger\n",
    "from sklearn.model_selection import KFold\n",
    "from lightning.pytorch import seed_everything\n",
    "from segmentation_models_pytorch.losses import DiceLoss\n",
    "import wandb\n",
    "\n",
    "\n",
    "BATCH_SIZE = 2048\n",
    "num_epochs = 100\n",
    "\n",
    "os.environ[\"WANDB_API_KEY\"] = \"21924e6e134841c5c16842c4ac42fcbe5a66feb2\"\n",
    "        \n",
    "transform_x = transforms.Compose([\n",
    "                    MinMaxNorm,\n",
    "                    ApplyMorphology(operation = morphology.binary_opening, concat = True, footprint = morphology.disk(2)),\n",
    "                    ApplyMorphology(operation = morphology.area_opening, concat = True, area_threshold = 200, connectivity = 1),\n",
    "                    # ApplyIntensityTransformation(transformation = exposure.equalize_adapthist, concat = True, nbins = 640, kernel_size = 3),\n",
    "                    ApplyIntensityTransformation(transformation = exposure.equalize_hist, concat = True, nbins = 4096),\n",
    "                    # ApplyMorphology(operation = morphology.area_opening, concat = True, area_threshold = 200, connectivity = 1),\n",
    "                    ApplyFilter(filter = ndimage.gaussian_filter, concat = True, sigma = 5),\n",
    "                    ApplyKMeans(concat=True, n_clusters=7, max_iter=10, n_init=10, random_state=42),\n",
    "                    transforms.ToTensor(),\n",
    "                    # CustomPad(target_size = (1959, 1915), fill = 0)\n",
    "                    ])\n",
    "\n",
    "transform_y = transforms.Compose([\n",
    "                    transforms.ToTensor(),\n",
    "                    # CustomPad(target_size = (1959, 1915), fill = 0)\n",
    "                    ])\n",
    "\n",
    "df = pd.read_csv(\"data_files_1c_train.csv\")\n",
    "dataset = NebulaeDataset(data_directory, masks_directory, df, transform = (transform_x, transform_y))\n",
    "\n",
    "seed_everything(42, workers = True)\n",
    "# Definimos el K-fold Cross Validator\n",
    "kfold = KFold(n_splits=10, shuffle=True, random_state = 42)\n",
    "\n",
    "# Comenzamos a imprimir los resultados\n",
    "print('--------------------------------')\n",
    "\n",
    "# Comenzamos a evaluar el modelo gracias al K-Fold Cross Validation\n",
    "for fold, (train_ids, val_ids) in enumerate(kfold.split(dataset)):\n",
    "    model = MLPClassifier(dataset[0][0].shape[0], [5, 4, 3], 1)\n",
    "                \n",
    "    # Definimos el modelo con los pesos inicializados aleatoriamente (sin preentrenar)\n",
    "    model = MLPModel(model = model, learning_rate=5e-6, loss_fn = nn.BCEWithLogitsLoss, optimizer = Adam, threshold = 0.5, current_fold = fold)\n",
    "\n",
    "    ruta_logs_wandb = os.environ[\"STORE\"] + \"/TFG/logs_wandb/\"\n",
    "    logger_wandb = WandbLogger(project=\"segmentation_TFG\", log_model = False, name=\"BO_EH_AO_GF_KNN_MLP\", save_dir=ruta_logs_wandb)\n",
    "\n",
    "    # log gradients, parameter histogram and model topology\n",
    "    logger_wandb.watch(model, log=\"all\")\n",
    "\n",
    "    trainer = L.Trainer(strategy='auto', max_epochs=num_epochs, accelerator='cuda', log_every_n_steps=50, logger= logger_wandb)\n",
    "\n",
    "    # Imprimimos el fold del que van a mostrarse los resultados\n",
    "    print('--------------------------------')\n",
    "    print(f\"Model info:\\n\\t- Batch Size: {BATCH_SIZE}\\n\\t- GPUs on use: {torch.cuda.device_count()}\")\n",
    "\n",
    "    # Creamos nuestros propios Subsets de PyTorch aplicando a cada conjunto la transformacion deseada\n",
    "    train_subset = FlattenSubset(torch.utils.data.Subset(dataset, train_ids), train = True, size = None)\n",
    "    val_subset = FlattenSubset(torch.utils.data.Subset(dataset, val_ids), train = False)\n",
    "\n",
    "    # Definimos un data loader por cada conjunto de datos que vamos a utilizar.\n",
    "    trainloader = torch.utils.data.DataLoader(\n",
    "                            train_subset,\n",
    "                            batch_size=BATCH_SIZE, num_workers=8, shuffle=True, persistent_workers=True)\n",
    "\n",
    "    valloader = torch.utils.data.DataLoader(\n",
    "                            val_subset,\n",
    "                            batch_size=BATCH_SIZE, num_workers=8, shuffle=False, persistent_workers=True)\n",
    "\n",
    "    # Entrenamos el modelo, extrayendo los resultados y guardandolos en la variable result, y evaluamos en el conjunto de test.\n",
    "    trainer.fit(model, trainloader, valloader) \n",
    "\n",
    "    logger_wandb.experiment.unwatch(model)\n",
    "\n",
    "    # # trainer.test(model, testloader) \n",
    "    # # Creamos un nuevo entrenador con una sola GPU para la fase de prueba\n",
    "    # trainer_val = L.Trainer(devices = 1, strategy='auto', max_epochs=num_epochs, accelerator='cuda', log_every_n_steps=1, logger=logger_wandb)\n",
    "    # trainer_val.test(model, valloader)\n",
    "\n",
    "    # logger_wandb.finalize(\"success\")\n",
    "    # wandb.finish()\n",
    "    break"
   ]
  },
  {
   "cell_type": "code",
   "execution_count": 8,
   "metadata": {},
   "outputs": [
    {
     "ename": "NameError",
     "evalue": "name 'transform_x' is not defined",
     "output_type": "error",
     "traceback": [
      "\u001b[0;31m---------------------------------------------------------------------------\u001b[0m",
      "\u001b[0;31mNameError\u001b[0m                                 Traceback (most recent call last)",
      "Cell \u001b[0;32mIn[8], line 2\u001b[0m\n\u001b[1;32m      1\u001b[0m df \u001b[38;5;241m=\u001b[39m pd\u001b[38;5;241m.\u001b[39mread_csv(\u001b[38;5;124m\"\u001b[39m\u001b[38;5;124mdata_files_1c_test.csv\u001b[39m\u001b[38;5;124m\"\u001b[39m)\n\u001b[0;32m----> 2\u001b[0m dataset \u001b[38;5;241m=\u001b[39m NebulaeDataset(data_directory, masks_directory, df, transform \u001b[38;5;241m=\u001b[39m (\u001b[43mtransform_x\u001b[49m, transform_y))\n\u001b[1;32m      4\u001b[0m test_subset \u001b[38;5;241m=\u001b[39m FlattenSubset(torch\u001b[38;5;241m.\u001b[39mutils\u001b[38;5;241m.\u001b[39mdata\u001b[38;5;241m.\u001b[39mSubset(dataset, val_ids), train \u001b[38;5;241m=\u001b[39m \u001b[38;5;28;01mFalse\u001b[39;00m)\n\u001b[1;32m      6\u001b[0m testloader \u001b[38;5;241m=\u001b[39m torch\u001b[38;5;241m.\u001b[39mutils\u001b[38;5;241m.\u001b[39mdata\u001b[38;5;241m.\u001b[39mDataLoader(\n\u001b[1;32m      7\u001b[0m                         test_subset,\n\u001b[1;32m      8\u001b[0m                         batch_size\u001b[38;5;241m=\u001b[39mBATCH_SIZE, num_workers\u001b[38;5;241m=\u001b[39m\u001b[38;5;241m8\u001b[39m, shuffle\u001b[38;5;241m=\u001b[39m\u001b[38;5;28;01mFalse\u001b[39;00m, persistent_workers\u001b[38;5;241m=\u001b[39m\u001b[38;5;28;01mTrue\u001b[39;00m)\n",
      "\u001b[0;31mNameError\u001b[0m: name 'transform_x' is not defined"
     ]
    }
   ],
   "source": [
    "df = pd.read_csv(\"data_files_1c_test.csv\")\n",
    "dataset = NebulaeDataset(data_directory, masks_directory, df, transform = (transform_x, transform_y))\n",
    "\n",
    "test_subset = FlattenSubset(torch.utils.data.Subset(dataset, val_ids), train = False)\n",
    "\n",
    "testloader = torch.utils.data.DataLoader(\n",
    "                        test_subset,\n",
    "                        batch_size=BATCH_SIZE, num_workers=8, shuffle=False, persistent_workers=True)\n",
    "\n",
    "trainer_test = L.Trainer(devices = 1, strategy='auto', max_epochs=num_epochs, accelerator='cuda', log_every_n_steps=1, logger=logger_wandb)\n",
    "\n",
    "trainer_test.test(model, testloader)\n",
    "\n",
    "logger_wandb.finalize(\"success\")\n",
    "wandb.finish()"
   ]
  },
  {
   "cell_type": "code",
   "execution_count": null,
   "metadata": {},
   "outputs": [],
   "source": [
    "idx = 9\n",
    "\n",
    "x, y = dataset[idx]\n",
    "x_flatten, y_flatten = testFlatten(torch.utils.data.Subset(dataset, [idx]))\n",
    "\n",
    "y_logits = model(x_flatten)\n",
    "y_hat = torch.sigmoid(y_logits)\n",
    "y_pred = y_hat > 0.5\n",
    "y_pred_image = y_pred.view((1, x.shape[1], x.shape[2]))"
   ]
  },
  {
   "cell_type": "code",
   "execution_count": null,
   "metadata": {},
   "outputs": [],
   "source": [
    "plt.imshow(y_pred_image.permute(1,2,0)[:,:,0])"
   ]
  },
  {
   "cell_type": "code",
   "execution_count": null,
   "metadata": {},
   "outputs": [],
   "source": [
    "plt.imshow(y.permute(1,2,0)[:,:,0])"
   ]
  },
  {
   "cell_type": "code",
   "execution_count": null,
   "metadata": {},
   "outputs": [],
   "source": [
    "results = {\"iou\": [], \"f1\": [], \"precision\": [], \"accuracy\": [], \"recall\": []}\n",
    "\n",
    "for i in range(len(dataset)):\n",
    "    image, mask = dataset[i]\n",
    "    \n",
    "    x_flatten, y_flatten = testFlatten(torch.utils.data.Subset(dataset, [i]))\n",
    "\n",
    "    y_logits = model(x_flatten)\n",
    "    y_hat = torch.sigmoid(y_logits)\n",
    "    y_pred = y_hat > 0.5\n",
    "    output = y_pred.view((1, image.shape[1], image.shape[2]))\n",
    "    \n",
    "    # output = morphology.binary_opening(output.permute(1,2,0).numpy()[:,:,0], footprint=morphology.disk(image.shape[1]*0.01))\n",
    "    output = morphology.remove_small_objects(output.permute(1,2,0).numpy()[:,:,0], min_size=image.shape[1]*image.shape[2]*0.01)\n",
    "    output = torch.tensor(output).unsqueeze(0)\n",
    "    tp, fp, fn, tn = smp.metrics.get_stats(output, mask, mode='binary')\n",
    "    \n",
    "    iou_score = smp.metrics.iou_score(tp, fp, fn, tn, reduction=\"micro\")        # Índice de Jaccard\n",
    "    f1_score = smp.metrics.f1_score(tp, fp, fn, tn, reduction=\"micro\")          # F1-Score\n",
    "    accuracy = smp.metrics.accuracy(tp, fp, fn, tn, reduction=\"macro\")          # Accuracy\n",
    "    recall = smp.metrics.recall(tp, fp, fn, tn, reduction=\"micro-imagewise\")    # Sensibilidad\n",
    "    precision = smp.metrics.precision(tp, fp, fn, tn, reduction=\"micro\")        # Precisión\n",
    "\n",
    "    results[\"iou\"].append(iou_score)\n",
    "    results[\"f1\"].append(f1_score)\n",
    "    results[\"precision\"].append(precision)\n",
    "    results[\"accuracy\"].append(accuracy)\n",
    "    results[\"recall\"].append(recall)\n",
    "    \n",
    "    # Si descomentamos las siguientes líneas, se mostrarán varias imágenes segmentadas al igual que en la anterior celda de código\n",
    "    # if i == 59:\n",
    "    #     plot_all(image, mask, cmap = \"gray\")\n",
    "    #     plt.figure()\n",
    "    #     plt.imshow(output[0], cmap = \"gray\")\n",
    "    #     plt.title(f\"Segmentation\")\n",
    "    #     plt.show()\n",
    "    \n",
    "    plot_all(image, mask, cmap = \"gray\")\n",
    "    plt.figure()\n",
    "    plt.imshow(output.permute(1,2,0)[:,:,0], cmap = \"gray\")\n",
    "    plt.title(f\"Segmentation\")\n",
    "    plt.show()\n",
    "    # if i == 10:\n",
    "    #     break\n",
    "\n",
    "df_results = pd.DataFrame(results)\n",
    "print(df_results.astype(float).describe().loc[['mean', 'std']].transpose().to_markdown())"
   ]
  },
  {
   "cell_type": "markdown",
   "metadata": {},
   "source": [
    "### Arquitecturas de segmentación"
   ]
  },
  {
   "cell_type": "markdown",
   "metadata": {},
   "source": [
    "#### U-Net (Simple)"
   ]
  },
  {
   "cell_type": "code",
   "execution_count": 18,
   "metadata": {},
   "outputs": [],
   "source": [
    "import torch.optim as optim\n",
    "import torch.nn as nn\n",
    "import lightning as L\n",
    "import segmentation_models_pytorch as smp\n",
    "\n",
    "def double_conv(in_channels, out_channels):\n",
    "    return nn.Sequential(\n",
    "        nn.Conv2d(in_channels, out_channels, 3, padding=1),\n",
    "        nn.ReLU(inplace=True),\n",
    "        nn.Conv2d(out_channels, out_channels, 3, padding=1),\n",
    "        nn.ReLU(inplace=True),\n",
    "    )   \n",
    "\n",
    "class UNet(nn.Module):\n",
    "\n",
    "    def __init__(self, input_channels, n_class):\n",
    "        super().__init__()\n",
    "                \n",
    "        self.dconv_down1 = double_conv(input_channels, 64)\n",
    "        self.dconv_down2 = double_conv(64, 128)\n",
    "        self.dconv_down3 = double_conv(128, 256)\n",
    "        self.dconv_down4 = double_conv(256, 512)        \n",
    "\n",
    "        self.maxpool = nn.MaxPool2d(2)\n",
    "        self.upsample = nn.Upsample(scale_factor=2, mode='bilinear', align_corners=True)        \n",
    "        \n",
    "        self.dconv_up3 = double_conv(256 + 512, 256)\n",
    "        self.dconv_up2 = double_conv(128 + 256, 128)\n",
    "        self.dconv_up1 = double_conv(128 + 64, 64)\n",
    "        \n",
    "        self.conv_last = nn.Conv2d(64, n_class, 1)\n",
    "        \n",
    "        \n",
    "    def forward(self, x):\n",
    "        conv1 = self.dconv_down1(x)\n",
    "        x = self.maxpool(conv1)\n",
    "\n",
    "        conv2 = self.dconv_down2(x)\n",
    "        x = self.maxpool(conv2)\n",
    "        \n",
    "        conv3 = self.dconv_down3(x)\n",
    "        x = self.maxpool(conv3)   \n",
    "        \n",
    "        x = self.dconv_down4(x)\n",
    "        \n",
    "        x = self.upsample(x)        \n",
    "        x = torch.cat([x, conv3], dim=1)\n",
    "        \n",
    "        x = self.dconv_up3(x)\n",
    "        x = self.upsample(x)        \n",
    "        x = torch.cat([x, conv2], dim=1)       \n",
    "\n",
    "        x = self.dconv_up2(x)\n",
    "        x = self.upsample(x)        \n",
    "        x = torch.cat([x, conv1], dim=1)   \n",
    "        \n",
    "        x = self.dconv_up1(x)\n",
    "        \n",
    "        out = self.conv_last(x)\n",
    "        \n",
    "        return out\n",
    "\n",
    "def get_segmentation_masks(outputs, threshold=0.5):\n",
    "    probs = torch.sigmoid(outputs)\n",
    "    masks = (probs > threshold)*1.0\n",
    "    return masks\n",
    "\n",
    "class UNETModel(L.LightningModule):\n",
    "    \n",
    "    def __init__(self, model, learning_rate = 0.0001, loss_fn = smp.losses.DiceLoss, optimizer = optim.Adam, scheduler = None, threshold = 0.5, current_fold = 0, **kwargs):\n",
    "        super().__init__()\n",
    "        self.model = model\n",
    "        \n",
    "        self.learning_rate = learning_rate\n",
    "        self.loss_fn = loss_fn(smp.losses.BINARY_MODE, from_logits=True)\n",
    "        self.optimizer = optimizer\n",
    "        self.scheduler = scheduler\n",
    "        self.kwargs = kwargs\n",
    "        \n",
    "        self.threshold = threshold\n",
    "    \n",
    "        self.current_fold = current_fold\n",
    "        \n",
    "        self.stage_step_outputs = {'train': [], 'val': [], 'test': []}\n",
    "        # self.metrics_train = nn.ModuleDict({'train_accuracy': tm.Accuracy(task=\"binary\", threshold=self.threshold), 'train_iou': tm.JaccardIndex(task=\"binary\", threshold=self.threshold)})#, 'train_dice': tm.Dice(task=\"binary\", threshold=self.threshold)})\n",
    "        # self.metrics_val = nn.ModuleDict({f\"val_{metric_name}\": metric_fnc(task=\"binary\", threshold=self.threshold) for metric_name, metric_fnc in metrics_fncs.items()})\n",
    "        # self.metrics_test = nn.ModuleDict({f\"test_{metric_name}\": metric_fnc(task=\"binary\", threshold=self.threshold) for metric_name, metric_fnc in metrics_fncs.items()})\n",
    "        \n",
    "        self.save_hyperparameters()\n",
    "        \n",
    "    def forward(self, x):\n",
    "        return self.model(x)\n",
    "    \n",
    "    def shared_step(self, batch, stage):\n",
    "        x, y = batch\n",
    "        y_logits = self(x)\n",
    "        \n",
    "        loss = self.loss_fn(y_logits, y)\n",
    "    \n",
    "        # self.log(f\"{stage}_loss\", loss)\n",
    "        \n",
    "        y_hat = get_segmentation_masks(y_logits, self.threshold)\n",
    "        \n",
    "        tp, fp, fn, tn = smp.metrics.get_stats(y_hat.long(), y.long(), mode=\"binary\")\n",
    "        \n",
    "        self.stage_step_outputs[stage].append({\"loss\": loss, \"tp\": tp, \"fp\": fp, \"fn\": fn, \"tn\": tn})\n",
    "        \n",
    "        return {\"loss\": loss, \"tp\": tp, \"fp\": fp, \"fn\": fn, \"tn\": tn}\n",
    "        \n",
    "    def shared_epoch_end(self, outputs, stage):\n",
    "        tp = torch.cat([m[\"tp\"] for m in outputs])\n",
    "        fp = torch.cat([m[\"fp\"] for m in outputs])\n",
    "        fn = torch.cat([m[\"fn\"] for m in outputs])\n",
    "        tn = torch.cat([m[\"tn\"] for m in outputs])\n",
    "        \n",
    "        total_loss = 0\n",
    "        iter_count = len(outputs)\n",
    "        \n",
    "        for idx in range(iter_count):\n",
    "            total_loss += outputs[idx]['loss'].item()\n",
    "        \n",
    "        # per image IoU means that we first calculate IoU score for each image \n",
    "        # and then compute mean over these scores\n",
    "        per_image_iou = smp.metrics.iou_score(tp, fp, fn, tn, reduction=\"macro-imagewise\")\n",
    "        \n",
    "        # dataset IoU means that we aggregate intersection and union over whole dataset\n",
    "        # and then compute IoU score. The difference between dataset_iou and per_image_iou scores\n",
    "        # in this particular case will not be much, however for dataset \n",
    "        # with \"empty\" images (images without target class) a large gap could be observed. \n",
    "        # Empty images influence a lot on per_image_iou and much less on dataset_iou.\n",
    "        dataset_iou = smp.metrics.iou_score(tp, fp, fn, tn, reduction=\"macro\")\n",
    "\n",
    "        recall = smp.metrics.recall(tp, fp, fn, tn, reduction=\"macro\")\n",
    "        precision = smp.metrics.precision(tp, fp, fn, tn, reduction=\"macro\")\n",
    "        \n",
    "        f1_score = smp.metrics.f1_score(tp, fp, fn, tn, reduction=\"macro\")\n",
    "        accuracy = smp.metrics.accuracy(tp, fp, fn, tn, reduction=\"macro\")\n",
    "        \n",
    "        metrics = {\n",
    "            f\"{stage}_fold\": self.current_fold,\n",
    "            f\"{stage}_loss\": total_loss/iter_count,\n",
    "            f\"{stage}_precision\": precision,\n",
    "            f\"{stage}_recall\": recall,\n",
    "            f\"{stage}_accuracy\": accuracy,\n",
    "            f\"{stage}_f1_score\": f1_score,\n",
    "            f\"{stage}_per_image_iou\": per_image_iou,\n",
    "            f\"{stage}_dataset_iou\": dataset_iou,\n",
    "        }\n",
    "        \n",
    "        self.log_dict(metrics, sync_dist = True)\n",
    "        \n",
    "        self.stage_step_outputs[stage].clear()\n",
    "        \n",
    "    def training_step(self, batch, batch_idx):\n",
    "        return self.shared_step(batch, \"train\")            \n",
    "\n",
    "    def on_train_epoch_end(self):\n",
    "        outputs = self.stage_step_outputs['train']\n",
    "        return self.shared_epoch_end(outputs, \"train\")\n",
    "\n",
    "    def validation_step(self, batch, batch_idx):\n",
    "        return self.shared_step(batch, \"val\")\n",
    "\n",
    "    def on_validation_epoch_end(self):\n",
    "        outputs = self.stage_step_outputs['val']\n",
    "        return self.shared_epoch_end(outputs, \"val\")\n",
    "\n",
    "    def test_step(self, batch, batch_idx):\n",
    "        return self.shared_step(batch, \"test\")  \n",
    "\n",
    "    def on_test_epoch_end(self):\n",
    "        outputs = self.stage_step_outputs['test']\n",
    "        return self.shared_epoch_end(outputs, \"test\")\n",
    "\n",
    "    def configure_optimizers(self):\n",
    "        optimizer = self.optimizer(self.parameters(), lr=self.learning_rate)\n",
    "        if self.scheduler is not None:\n",
    "            scheduler = self.scheduler(optimizer, **self.kwargs)\n",
    "            return {'optimizer': optimizer, 'lr_scheduler': scheduler,'monitor': 'val_loss'}\n",
    "        else:\n",
    "            return optimizer"
   ]
  },
  {
   "cell_type": "code",
   "execution_count": 19,
   "metadata": {},
   "outputs": [],
   "source": [
    "import wandb\n",
    "class PrintCallback(L.pytorch.Callback):\n",
    "    def on_train_start(self, trainer, pl_module):\n",
    "        print(\"Training is started!\")\n",
    "        \n",
    "    def on_train_end(self, trainer, pl_module):\n",
    "        print(\"Training is done.\")\n",
    "\n",
    "    def on_validation_batch_end(self, trainer, pl_module, outputs, batch, batch_idx):\n",
    "        \"\"\"Called when the validation batch ends.\"\"\"\n",
    " \n",
    "        # `outputs` comes from `LightningModule.validation_step`\n",
    "        # which corresponds to our model predictions in this case\n",
    "        try:\n",
    "            # Let's log 20 sample image predictions from first batch\n",
    "            if (trainer.current_epoch % 25 == 0 and trainer.current_epoch != 0) or trainer.current_epoch == trainer.max_epochs-1:\n",
    "                if batch_idx == 0:\n",
    "                    n = 4\n",
    "                    x, y = batch\n",
    "                    \n",
    "                    outputs = get_segmentation_masks(pl_module(x))\n",
    "                    \n",
    "                    if x.shape[1] > 1:\n",
    "                        columns = [\"image\", 'equalize_image', \"ground truth\", \"prediction\"]\n",
    "                        data = [\n",
    "                            [wandb.Image(x_i[0].float()), wandb.Image(x_i[1].float()), wandb.Image(y_i.float()), wandb.Image(y_pred.float())] for x_i,\n",
    "                            y_i,\n",
    "                            y_pred in list(zip(x, y, outputs))\n",
    "                        ]\n",
    "                    else:\n",
    "                        columns = [\"image\", \"ground truth\", \"prediction\"]\n",
    "                        data = [\n",
    "                            [wandb.Image(x_i.float()), wandb.Image(y_i.float()), wandb.Image(y_pred.float())] for x_i,\n",
    "                            y_i,\n",
    "                            y_pred in list(zip(x, y, outputs))\n",
    "                        ]\n",
    "                    \n",
    "                    trainer.loggers[-1].log_table(key=f\"table_epoch_{trainer.current_epoch}_fold_{pl_module.current_fold}\", columns=columns, data=data)\n",
    "        except:\n",
    "            pass\n",
    "        \n",
    "    def on_test_batch_end(self, trainer, pl_module, outputs, batch, batch_idx):\n",
    "        \"\"\"Called when the validation batch ends.\"\"\"\n",
    " \n",
    "        # `outputs` comes from `LightningModule.validation_step`\n",
    "        # which corresponds to our model predictions in this case\n",
    "        try:\n",
    "            x, y = batch\n",
    "            outputs = get_segmentation_masks(pl_module(x))\n",
    "            \n",
    "            if x.shape[1] > 1:\n",
    "                columns = [\"image\", 'equalize_image', \"ground truth\", \"prediction\"]\n",
    "                data = [\n",
    "                    [wandb.Image(x_i[0].float()), wandb.Image(x_i[1].float()), wandb.Image(y_i.float()), wandb.Image(y_pred.float())] for x_i,\n",
    "                    y_i,\n",
    "                    y_pred in list(zip(x, y, outputs))\n",
    "                ]\n",
    "            else:\n",
    "                columns = [\"image\", \"ground truth\", \"prediction\"]\n",
    "                data = [\n",
    "                    [wandb.Image(x_i[0].float()), wandb.Image(y_i.float()), wandb.Image(y_pred.float())] for x_i,\n",
    "                    y_i,\n",
    "                    y_pred in list(zip(x, y, outputs))\n",
    "                ]\n",
    "            \n",
    "            trainer.loggers[-1].log_table(key=f\"table_test_fold_{pl_module.current_fold}_batch_{batch_idx}\", columns=columns, data=data)\n",
    "        except:\n",
    "            pass"
   ]
  },
  {
   "cell_type": "markdown",
   "metadata": {},
   "source": [
    "Vamos a añadir padding a las imágenes que tengan un menor tamaño de 988x988 (992x992 debido a que tiene que ser múltiplo de 32 para funcionar con UNET) y a redimensionar las que sean mayores de ese tamaño. Esto lo he decidido así por que solo dos imágenes en el conjunto de datos son de tamaño mayor a ese, lo cual hace que nos afecte considerablemente a el coste computacional de nuestro algoritmo."
   ]
  },
  {
   "cell_type": "code",
   "execution_count": 20,
   "metadata": {},
   "outputs": [],
   "source": [
    "transform_x = transforms.Compose([\n",
    "                    # MinMaxNorm,\n",
    "                    TypicalImageNorm(factor = 1, substract=0),\n",
    "                    ApplyIntensityTransformation(transformation = exposure.equalize_adapthist, concat = True, nbins = 640, kernel_size = 5),\n",
    "                    transforms.ToTensor(),\n",
    "                    CustomPad(target_size = (992, 992), fill = 0, tensor_type=torch.Tensor.float, fill_min=True)\n",
    "                    ])\n",
    "\n",
    "transform_y = transforms.Compose([\n",
    "                    transforms.ToTensor(),\n",
    "                    CustomPad(target_size = (992, 992), fill = 0, tensor_type=torch.Tensor.int)\n",
    "                    ])\n",
    "\n",
    "df_test = pd.read_csv(\"data_files_1c_test.csv\")\n",
    "dataset_test = NebulaeDataset(data_directory, masks_directory, df_test, transform = (transform_x, transform_y))\n",
    "\n",
    "testloader = torch.utils.data.DataLoader(\n",
    "                            dataset_test,\n",
    "                            batch_size=8, num_workers=8, shuffle=False, persistent_workers=True)"
   ]
  },
  {
   "cell_type": "code",
   "execution_count": 36,
   "metadata": {},
   "outputs": [
    {
     "name": "stderr",
     "output_type": "stream",
     "text": [
      "[rank: 0] Seed set to 42\n"
     ]
    },
    {
     "name": "stdout",
     "output_type": "stream",
     "text": [
      "--------------------------------\n"
     ]
    },
    {
     "name": "stderr",
     "output_type": "stream",
     "text": [
      "/mnt/netapp2/Store_uni/home/ulc/co/ela/conda/envs/TFG_env/lib/python3.10/site-packages/lightning/pytorch/utilities/parsing.py:199: Attribute 'model' is an instance of `nn.Module` and is already saved during checkpointing. It is recommended to ignore them using `self.save_hyperparameters(ignore=['model'])`.\n",
      "cat: /sys/module/amdgpu/initstate: No such file or directory\n",
      "ERROR:root:Driver not initialized (amdgpu not found in modules)\n"
     ]
    },
    {
     "data": {
      "text/html": [
       "wandb version 0.17.4 is available!  To upgrade, please run:\n",
       " $ pip install wandb --upgrade"
      ],
      "text/plain": [
       "<IPython.core.display.HTML object>"
      ]
     },
     "metadata": {},
     "output_type": "display_data"
    },
    {
     "data": {
      "text/html": [
       "Tracking run with wandb version 0.16.6"
      ],
      "text/plain": [
       "<IPython.core.display.HTML object>"
      ]
     },
     "metadata": {},
     "output_type": "display_data"
    },
    {
     "data": {
      "text/html": [
       "Run data is saved locally in <code>/mnt/netapp2/Store_uni//home/ulc/co/ela/TFG/logs_wandb/wandb/run-20240712_201245-06gaxddk</code>"
      ],
      "text/plain": [
       "<IPython.core.display.HTML object>"
      ]
     },
     "metadata": {},
     "output_type": "display_data"
    },
    {
     "data": {
      "text/html": [
       "Syncing run <strong><a href='https://wandb.ai/edluksss_org/segmentation_TFG/runs/06gaxddk' target=\"_blank\">UNET_base_AdaptHist</a></strong> to <a href='https://wandb.ai/edluksss_org/segmentation_TFG' target=\"_blank\">Weights & Biases</a> (<a href='https://wandb.me/run' target=\"_blank\">docs</a>)<br/>"
      ],
      "text/plain": [
       "<IPython.core.display.HTML object>"
      ]
     },
     "metadata": {},
     "output_type": "display_data"
    },
    {
     "data": {
      "text/html": [
       " View project at <a href='https://wandb.ai/edluksss_org/segmentation_TFG' target=\"_blank\">https://wandb.ai/edluksss_org/segmentation_TFG</a>"
      ],
      "text/plain": [
       "<IPython.core.display.HTML object>"
      ]
     },
     "metadata": {},
     "output_type": "display_data"
    },
    {
     "data": {
      "text/html": [
       " View run at <a href='https://wandb.ai/edluksss_org/segmentation_TFG/runs/06gaxddk' target=\"_blank\">https://wandb.ai/edluksss_org/segmentation_TFG/runs/06gaxddk</a>"
      ],
      "text/plain": [
       "<IPython.core.display.HTML object>"
      ]
     },
     "metadata": {},
     "output_type": "display_data"
    },
    {
     "name": "stderr",
     "output_type": "stream",
     "text": [
      "\u001b[34m\u001b[1mwandb\u001b[0m: logging graph, to disable use `wandb.watch(log_graph=False)`\n",
      "GPU available: True (cuda), used: True\n",
      "TPU available: False, using: 0 TPU cores\n",
      "IPU available: False, using: 0 IPUs\n",
      "HPU available: False, using: 0 HPUs\n",
      "/mnt/netapp2/Store_uni/home/ulc/co/ela/conda/envs/TFG_env/lib/python3.10/site-packages/lightning/pytorch/utilities/parsing.py:44: attribute 'model' removed from hparams because it cannot be pickled\n",
      "LOCAL_RANK: 0 - CUDA_VISIBLE_DEVICES: [0]\n",
      "\n",
      "  | Name    | Type     | Params\n",
      "-------------------------------------\n",
      "0 | model   | UNet     | 7.8 M \n",
      "1 | loss_fn | DiceLoss | 0     \n",
      "-------------------------------------\n",
      "7.8 M     Trainable params\n",
      "0         Non-trainable params\n",
      "7.8 M     Total params\n",
      "31.136    Total estimated model params size (MB)\n",
      "SLURM auto-requeueing enabled. Setting signal handlers.\n"
     ]
    },
    {
     "name": "stdout",
     "output_type": "stream",
     "text": [
      "--------------------------------\n",
      "Model info:\n",
      "\t- Batch Size: 5\n",
      "\t- GPUs on use: 1\n"
     ]
    },
    {
     "data": {
      "application/vnd.jupyter.widget-view+json": {
       "model_id": "bc6198cc28814dce8422964dab3bd4b9",
       "version_major": 2,
       "version_minor": 0
      },
      "text/plain": [
       "Sanity Checking: |          | 0/? [00:00<?, ?it/s]"
      ]
     },
     "metadata": {},
     "output_type": "display_data"
    },
    {
     "name": "stdout",
     "output_type": "stream",
     "text": [
      "Training is started!\n"
     ]
    },
    {
     "data": {
      "application/vnd.jupyter.widget-view+json": {
       "model_id": "d6ef9898e0df4501a9fa2ed465d84587",
       "version_major": 2,
       "version_minor": 0
      },
      "text/plain": [
       "Training: |          | 0/? [00:00<?, ?it/s]"
      ]
     },
     "metadata": {},
     "output_type": "display_data"
    },
    {
     "data": {
      "application/vnd.jupyter.widget-view+json": {
       "model_id": "aa6fb108f0874a8091cd4d834d32c5b6",
       "version_major": 2,
       "version_minor": 0
      },
      "text/plain": [
       "Validation: |          | 0/? [00:00<?, ?it/s]"
      ]
     },
     "metadata": {},
     "output_type": "display_data"
    },
    {
     "data": {
      "application/vnd.jupyter.widget-view+json": {
       "model_id": "9ce310ccf11d490ba5f9d169d121044d",
       "version_major": 2,
       "version_minor": 0
      },
      "text/plain": [
       "Validation: |          | 0/? [00:00<?, ?it/s]"
      ]
     },
     "metadata": {},
     "output_type": "display_data"
    },
    {
     "data": {
      "application/vnd.jupyter.widget-view+json": {
       "model_id": "be7ce5639f1c4a04bffaae16fd292939",
       "version_major": 2,
       "version_minor": 0
      },
      "text/plain": [
       "Validation: |          | 0/? [00:00<?, ?it/s]"
      ]
     },
     "metadata": {},
     "output_type": "display_data"
    },
    {
     "data": {
      "application/vnd.jupyter.widget-view+json": {
       "model_id": "8b9f606660874743a6dfe4dffd8ce4a3",
       "version_major": 2,
       "version_minor": 0
      },
      "text/plain": [
       "Validation: |          | 0/? [00:00<?, ?it/s]"
      ]
     },
     "metadata": {},
     "output_type": "display_data"
    },
    {
     "data": {
      "application/vnd.jupyter.widget-view+json": {
       "model_id": "85c2e8a1714b404884388e9d8fe64189",
       "version_major": 2,
       "version_minor": 0
      },
      "text/plain": [
       "Validation: |          | 0/? [00:00<?, ?it/s]"
      ]
     },
     "metadata": {},
     "output_type": "display_data"
    },
    {
     "data": {
      "application/vnd.jupyter.widget-view+json": {
       "model_id": "5e505cfd4ae3411ca5ef9ca5dcbc9db0",
       "version_major": 2,
       "version_minor": 0
      },
      "text/plain": [
       "Validation: |          | 0/? [00:00<?, ?it/s]"
      ]
     },
     "metadata": {},
     "output_type": "display_data"
    },
    {
     "data": {
      "application/vnd.jupyter.widget-view+json": {
       "model_id": "a242fdf9bd7047a49b9e8b257db08a46",
       "version_major": 2,
       "version_minor": 0
      },
      "text/plain": [
       "Validation: |          | 0/? [00:00<?, ?it/s]"
      ]
     },
     "metadata": {},
     "output_type": "display_data"
    },
    {
     "data": {
      "application/vnd.jupyter.widget-view+json": {
       "model_id": "9538b1173f5e4e538cc79eb4e18d32c4",
       "version_major": 2,
       "version_minor": 0
      },
      "text/plain": [
       "Validation: |          | 0/? [00:00<?, ?it/s]"
      ]
     },
     "metadata": {},
     "output_type": "display_data"
    },
    {
     "data": {
      "application/vnd.jupyter.widget-view+json": {
       "model_id": "ac5f96eaa3c34407a76001cf65b89776",
       "version_major": 2,
       "version_minor": 0
      },
      "text/plain": [
       "Validation: |          | 0/? [00:00<?, ?it/s]"
      ]
     },
     "metadata": {},
     "output_type": "display_data"
    },
    {
     "data": {
      "application/vnd.jupyter.widget-view+json": {
       "model_id": "206030cabb3d4c2f9553e3a095ed1a2b",
       "version_major": 2,
       "version_minor": 0
      },
      "text/plain": [
       "Validation: |          | 0/? [00:00<?, ?it/s]"
      ]
     },
     "metadata": {},
     "output_type": "display_data"
    },
    {
     "data": {
      "application/vnd.jupyter.widget-view+json": {
       "model_id": "ccca52066d9946e0bf840369e39e6da0",
       "version_major": 2,
       "version_minor": 0
      },
      "text/plain": [
       "Validation: |          | 0/? [00:00<?, ?it/s]"
      ]
     },
     "metadata": {},
     "output_type": "display_data"
    },
    {
     "data": {
      "application/vnd.jupyter.widget-view+json": {
       "model_id": "41278b28b3094a26ade66b198d009436",
       "version_major": 2,
       "version_minor": 0
      },
      "text/plain": [
       "Validation: |          | 0/? [00:00<?, ?it/s]"
      ]
     },
     "metadata": {},
     "output_type": "display_data"
    },
    {
     "data": {
      "application/vnd.jupyter.widget-view+json": {
       "model_id": "3d318fd7a53a4301925ffe3f64c782c3",
       "version_major": 2,
       "version_minor": 0
      },
      "text/plain": [
       "Validation: |          | 0/? [00:00<?, ?it/s]"
      ]
     },
     "metadata": {},
     "output_type": "display_data"
    },
    {
     "data": {
      "application/vnd.jupyter.widget-view+json": {
       "model_id": "a8ac247f0c604cf7bba0995d4e2f54f0",
       "version_major": 2,
       "version_minor": 0
      },
      "text/plain": [
       "Validation: |          | 0/? [00:00<?, ?it/s]"
      ]
     },
     "metadata": {},
     "output_type": "display_data"
    },
    {
     "data": {
      "application/vnd.jupyter.widget-view+json": {
       "model_id": "fd791b044cb649488c6e1e80f47bedb7",
       "version_major": 2,
       "version_minor": 0
      },
      "text/plain": [
       "Validation: |          | 0/? [00:00<?, ?it/s]"
      ]
     },
     "metadata": {},
     "output_type": "display_data"
    },
    {
     "data": {
      "application/vnd.jupyter.widget-view+json": {
       "model_id": "ea9d64a80ff445f383ba15c80442d398",
       "version_major": 2,
       "version_minor": 0
      },
      "text/plain": [
       "Validation: |          | 0/? [00:00<?, ?it/s]"
      ]
     },
     "metadata": {},
     "output_type": "display_data"
    },
    {
     "data": {
      "application/vnd.jupyter.widget-view+json": {
       "model_id": "7226c19c2c9b4aaba09c693391eec0c9",
       "version_major": 2,
       "version_minor": 0
      },
      "text/plain": [
       "Validation: |          | 0/? [00:00<?, ?it/s]"
      ]
     },
     "metadata": {},
     "output_type": "display_data"
    },
    {
     "data": {
      "application/vnd.jupyter.widget-view+json": {
       "model_id": "21c0c5ea000144f3a7e25a15d6efb1de",
       "version_major": 2,
       "version_minor": 0
      },
      "text/plain": [
       "Validation: |          | 0/? [00:00<?, ?it/s]"
      ]
     },
     "metadata": {},
     "output_type": "display_data"
    },
    {
     "data": {
      "application/vnd.jupyter.widget-view+json": {
       "model_id": "e9007144f42a4d338939fbffa0db9863",
       "version_major": 2,
       "version_minor": 0
      },
      "text/plain": [
       "Validation: |          | 0/? [00:00<?, ?it/s]"
      ]
     },
     "metadata": {},
     "output_type": "display_data"
    },
    {
     "data": {
      "application/vnd.jupyter.widget-view+json": {
       "model_id": "57bc04b49cb44caba2107f153e959c57",
       "version_major": 2,
       "version_minor": 0
      },
      "text/plain": [
       "Validation: |          | 0/? [00:00<?, ?it/s]"
      ]
     },
     "metadata": {},
     "output_type": "display_data"
    },
    {
     "data": {
      "application/vnd.jupyter.widget-view+json": {
       "model_id": "06736ec344f94135bdd9a9d67c0503d6",
       "version_major": 2,
       "version_minor": 0
      },
      "text/plain": [
       "Validation: |          | 0/? [00:00<?, ?it/s]"
      ]
     },
     "metadata": {},
     "output_type": "display_data"
    },
    {
     "data": {
      "application/vnd.jupyter.widget-view+json": {
       "model_id": "74d6087341624704938e9d45b05a47dd",
       "version_major": 2,
       "version_minor": 0
      },
      "text/plain": [
       "Validation: |          | 0/? [00:00<?, ?it/s]"
      ]
     },
     "metadata": {},
     "output_type": "display_data"
    },
    {
     "data": {
      "application/vnd.jupyter.widget-view+json": {
       "model_id": "4164b02d6074428c9415b07f3ed61fec",
       "version_major": 2,
       "version_minor": 0
      },
      "text/plain": [
       "Validation: |          | 0/? [00:00<?, ?it/s]"
      ]
     },
     "metadata": {},
     "output_type": "display_data"
    },
    {
     "data": {
      "application/vnd.jupyter.widget-view+json": {
       "model_id": "5521ec760cd54cfc957bd5cebb8c404b",
       "version_major": 2,
       "version_minor": 0
      },
      "text/plain": [
       "Validation: |          | 0/? [00:00<?, ?it/s]"
      ]
     },
     "metadata": {},
     "output_type": "display_data"
    },
    {
     "data": {
      "application/vnd.jupyter.widget-view+json": {
       "model_id": "4bbc3abe90554a579079078e5a0e55e0",
       "version_major": 2,
       "version_minor": 0
      },
      "text/plain": [
       "Validation: |          | 0/? [00:00<?, ?it/s]"
      ]
     },
     "metadata": {},
     "output_type": "display_data"
    },
    {
     "data": {
      "application/vnd.jupyter.widget-view+json": {
       "model_id": "872f029f89b9449bb7ab1c3ef48a6b5f",
       "version_major": 2,
       "version_minor": 0
      },
      "text/plain": [
       "Validation: |          | 0/? [00:00<?, ?it/s]"
      ]
     },
     "metadata": {},
     "output_type": "display_data"
    },
    {
     "data": {
      "application/vnd.jupyter.widget-view+json": {
       "model_id": "db722c09532542e59e752f15f80b3d8d",
       "version_major": 2,
       "version_minor": 0
      },
      "text/plain": [
       "Validation: |          | 0/? [00:00<?, ?it/s]"
      ]
     },
     "metadata": {},
     "output_type": "display_data"
    },
    {
     "data": {
      "application/vnd.jupyter.widget-view+json": {
       "model_id": "8ffd2b9e6fe14506ae653ce2efca4c9e",
       "version_major": 2,
       "version_minor": 0
      },
      "text/plain": [
       "Validation: |          | 0/? [00:00<?, ?it/s]"
      ]
     },
     "metadata": {},
     "output_type": "display_data"
    },
    {
     "data": {
      "application/vnd.jupyter.widget-view+json": {
       "model_id": "f90b937a6cbe4509b50002df61f75b4f",
       "version_major": 2,
       "version_minor": 0
      },
      "text/plain": [
       "Validation: |          | 0/? [00:00<?, ?it/s]"
      ]
     },
     "metadata": {},
     "output_type": "display_data"
    },
    {
     "data": {
      "application/vnd.jupyter.widget-view+json": {
       "model_id": "692081b980c5406d84463f13197762df",
       "version_major": 2,
       "version_minor": 0
      },
      "text/plain": [
       "Validation: |          | 0/? [00:00<?, ?it/s]"
      ]
     },
     "metadata": {},
     "output_type": "display_data"
    },
    {
     "data": {
      "application/vnd.jupyter.widget-view+json": {
       "model_id": "9840a573fb8b4d579793409cd342d1cd",
       "version_major": 2,
       "version_minor": 0
      },
      "text/plain": [
       "Validation: |          | 0/? [00:00<?, ?it/s]"
      ]
     },
     "metadata": {},
     "output_type": "display_data"
    },
    {
     "data": {
      "application/vnd.jupyter.widget-view+json": {
       "model_id": "3e472738e4eb45c48e0ff12ee04e0e59",
       "version_major": 2,
       "version_minor": 0
      },
      "text/plain": [
       "Validation: |          | 0/? [00:00<?, ?it/s]"
      ]
     },
     "metadata": {},
     "output_type": "display_data"
    },
    {
     "data": {
      "application/vnd.jupyter.widget-view+json": {
       "model_id": "ee83695799bd4e758ba8fc01d0dc29c5",
       "version_major": 2,
       "version_minor": 0
      },
      "text/plain": [
       "Validation: |          | 0/? [00:00<?, ?it/s]"
      ]
     },
     "metadata": {},
     "output_type": "display_data"
    },
    {
     "data": {
      "application/vnd.jupyter.widget-view+json": {
       "model_id": "726e3fdb38744f6f814174fe923b188d",
       "version_major": 2,
       "version_minor": 0
      },
      "text/plain": [
       "Validation: |          | 0/? [00:00<?, ?it/s]"
      ]
     },
     "metadata": {},
     "output_type": "display_data"
    },
    {
     "data": {
      "application/vnd.jupyter.widget-view+json": {
       "model_id": "7a735d3174b847dc9516a4ec240894ef",
       "version_major": 2,
       "version_minor": 0
      },
      "text/plain": [
       "Validation: |          | 0/? [00:00<?, ?it/s]"
      ]
     },
     "metadata": {},
     "output_type": "display_data"
    },
    {
     "data": {
      "application/vnd.jupyter.widget-view+json": {
       "model_id": "c782636ccf874ba2a1a941f5d90110fb",
       "version_major": 2,
       "version_minor": 0
      },
      "text/plain": [
       "Validation: |          | 0/? [00:00<?, ?it/s]"
      ]
     },
     "metadata": {},
     "output_type": "display_data"
    },
    {
     "data": {
      "application/vnd.jupyter.widget-view+json": {
       "model_id": "7b37f3983cbf4399a360389aa4e3546a",
       "version_major": 2,
       "version_minor": 0
      },
      "text/plain": [
       "Validation: |          | 0/? [00:00<?, ?it/s]"
      ]
     },
     "metadata": {},
     "output_type": "display_data"
    },
    {
     "data": {
      "application/vnd.jupyter.widget-view+json": {
       "model_id": "bbb43bf57c844949b7aa514788e2f247",
       "version_major": 2,
       "version_minor": 0
      },
      "text/plain": [
       "Validation: |          | 0/? [00:00<?, ?it/s]"
      ]
     },
     "metadata": {},
     "output_type": "display_data"
    },
    {
     "data": {
      "application/vnd.jupyter.widget-view+json": {
       "model_id": "0a85082c5269470da14c14b005334247",
       "version_major": 2,
       "version_minor": 0
      },
      "text/plain": [
       "Validation: |          | 0/? [00:00<?, ?it/s]"
      ]
     },
     "metadata": {},
     "output_type": "display_data"
    },
    {
     "data": {
      "application/vnd.jupyter.widget-view+json": {
       "model_id": "579354ac9cde434d9bd46734e5de6493",
       "version_major": 2,
       "version_minor": 0
      },
      "text/plain": [
       "Validation: |          | 0/? [00:00<?, ?it/s]"
      ]
     },
     "metadata": {},
     "output_type": "display_data"
    },
    {
     "data": {
      "application/vnd.jupyter.widget-view+json": {
       "model_id": "953a855c5d244981992f51518bd0de9b",
       "version_major": 2,
       "version_minor": 0
      },
      "text/plain": [
       "Validation: |          | 0/? [00:00<?, ?it/s]"
      ]
     },
     "metadata": {},
     "output_type": "display_data"
    },
    {
     "data": {
      "application/vnd.jupyter.widget-view+json": {
       "model_id": "5b68f7d113594f9d9f42a3776f90885f",
       "version_major": 2,
       "version_minor": 0
      },
      "text/plain": [
       "Validation: |          | 0/? [00:00<?, ?it/s]"
      ]
     },
     "metadata": {},
     "output_type": "display_data"
    },
    {
     "data": {
      "application/vnd.jupyter.widget-view+json": {
       "model_id": "1274ea1a70e64f9b8e973de623c81558",
       "version_major": 2,
       "version_minor": 0
      },
      "text/plain": [
       "Validation: |          | 0/? [00:00<?, ?it/s]"
      ]
     },
     "metadata": {},
     "output_type": "display_data"
    },
    {
     "data": {
      "application/vnd.jupyter.widget-view+json": {
       "model_id": "069bdd4afdfb4cfd810b65b461c64914",
       "version_major": 2,
       "version_minor": 0
      },
      "text/plain": [
       "Validation: |          | 0/? [00:00<?, ?it/s]"
      ]
     },
     "metadata": {},
     "output_type": "display_data"
    },
    {
     "data": {
      "application/vnd.jupyter.widget-view+json": {
       "model_id": "9710de714350454592be2f684d9c4a9c",
       "version_major": 2,
       "version_minor": 0
      },
      "text/plain": [
       "Validation: |          | 0/? [00:00<?, ?it/s]"
      ]
     },
     "metadata": {},
     "output_type": "display_data"
    },
    {
     "data": {
      "application/vnd.jupyter.widget-view+json": {
       "model_id": "66c7b265662d456f9a29a1986d5978b2",
       "version_major": 2,
       "version_minor": 0
      },
      "text/plain": [
       "Validation: |          | 0/? [00:00<?, ?it/s]"
      ]
     },
     "metadata": {},
     "output_type": "display_data"
    },
    {
     "data": {
      "application/vnd.jupyter.widget-view+json": {
       "model_id": "f4ad055ed27c4b37b973304b8474adc9",
       "version_major": 2,
       "version_minor": 0
      },
      "text/plain": [
       "Validation: |          | 0/? [00:00<?, ?it/s]"
      ]
     },
     "metadata": {},
     "output_type": "display_data"
    },
    {
     "data": {
      "application/vnd.jupyter.widget-view+json": {
       "model_id": "1cf4c23688284e9ab5fa8e99e31e7fe2",
       "version_major": 2,
       "version_minor": 0
      },
      "text/plain": [
       "Validation: |          | 0/? [00:00<?, ?it/s]"
      ]
     },
     "metadata": {},
     "output_type": "display_data"
    },
    {
     "data": {
      "application/vnd.jupyter.widget-view+json": {
       "model_id": "a55f9e97f9674036995e83cb9dd71369",
       "version_major": 2,
       "version_minor": 0
      },
      "text/plain": [
       "Validation: |          | 0/? [00:00<?, ?it/s]"
      ]
     },
     "metadata": {},
     "output_type": "display_data"
    },
    {
     "data": {
      "application/vnd.jupyter.widget-view+json": {
       "model_id": "46873a6269594d3886333e82a2e8db25",
       "version_major": 2,
       "version_minor": 0
      },
      "text/plain": [
       "Validation: |          | 0/? [00:00<?, ?it/s]"
      ]
     },
     "metadata": {},
     "output_type": "display_data"
    },
    {
     "data": {
      "application/vnd.jupyter.widget-view+json": {
       "model_id": "83d3f8b3f9534ad182102aee7e7e19b9",
       "version_major": 2,
       "version_minor": 0
      },
      "text/plain": [
       "Validation: |          | 0/? [00:00<?, ?it/s]"
      ]
     },
     "metadata": {},
     "output_type": "display_data"
    },
    {
     "data": {
      "application/vnd.jupyter.widget-view+json": {
       "model_id": "3a720e61388d4dbe9d7c9156b4b55bd4",
       "version_major": 2,
       "version_minor": 0
      },
      "text/plain": [
       "Validation: |          | 0/? [00:00<?, ?it/s]"
      ]
     },
     "metadata": {},
     "output_type": "display_data"
    },
    {
     "data": {
      "application/vnd.jupyter.widget-view+json": {
       "model_id": "4a291c498be947d5820a5615921cc662",
       "version_major": 2,
       "version_minor": 0
      },
      "text/plain": [
       "Validation: |          | 0/? [00:00<?, ?it/s]"
      ]
     },
     "metadata": {},
     "output_type": "display_data"
    },
    {
     "data": {
      "application/vnd.jupyter.widget-view+json": {
       "model_id": "db4f0f69133249ed8c02fae4994b85ad",
       "version_major": 2,
       "version_minor": 0
      },
      "text/plain": [
       "Validation: |          | 0/? [00:00<?, ?it/s]"
      ]
     },
     "metadata": {},
     "output_type": "display_data"
    },
    {
     "data": {
      "application/vnd.jupyter.widget-view+json": {
       "model_id": "a7c0380c66ba4192960715ab59b983aa",
       "version_major": 2,
       "version_minor": 0
      },
      "text/plain": [
       "Validation: |          | 0/? [00:00<?, ?it/s]"
      ]
     },
     "metadata": {},
     "output_type": "display_data"
    },
    {
     "data": {
      "application/vnd.jupyter.widget-view+json": {
       "model_id": "f69a5c383e0c4203ab9760788b912cc2",
       "version_major": 2,
       "version_minor": 0
      },
      "text/plain": [
       "Validation: |          | 0/? [00:00<?, ?it/s]"
      ]
     },
     "metadata": {},
     "output_type": "display_data"
    },
    {
     "data": {
      "application/vnd.jupyter.widget-view+json": {
       "model_id": "58d39e01d9ba440880ae6e4852ab4db4",
       "version_major": 2,
       "version_minor": 0
      },
      "text/plain": [
       "Validation: |          | 0/? [00:00<?, ?it/s]"
      ]
     },
     "metadata": {},
     "output_type": "display_data"
    },
    {
     "data": {
      "application/vnd.jupyter.widget-view+json": {
       "model_id": "6775940ddedf42dd855ec69f4a7e66c9",
       "version_major": 2,
       "version_minor": 0
      },
      "text/plain": [
       "Validation: |          | 0/? [00:00<?, ?it/s]"
      ]
     },
     "metadata": {},
     "output_type": "display_data"
    },
    {
     "data": {
      "application/vnd.jupyter.widget-view+json": {
       "model_id": "b7ab66a2d0ad4473932198915cdc3555",
       "version_major": 2,
       "version_minor": 0
      },
      "text/plain": [
       "Validation: |          | 0/? [00:00<?, ?it/s]"
      ]
     },
     "metadata": {},
     "output_type": "display_data"
    },
    {
     "data": {
      "application/vnd.jupyter.widget-view+json": {
       "model_id": "b11cb7f0298c48eab950f070ec8c339b",
       "version_major": 2,
       "version_minor": 0
      },
      "text/plain": [
       "Validation: |          | 0/? [00:00<?, ?it/s]"
      ]
     },
     "metadata": {},
     "output_type": "display_data"
    },
    {
     "data": {
      "application/vnd.jupyter.widget-view+json": {
       "model_id": "bce8e205bdeb4a9ca5862b1495044e67",
       "version_major": 2,
       "version_minor": 0
      },
      "text/plain": [
       "Validation: |          | 0/? [00:00<?, ?it/s]"
      ]
     },
     "metadata": {},
     "output_type": "display_data"
    },
    {
     "data": {
      "application/vnd.jupyter.widget-view+json": {
       "model_id": "f33599aa0b8f4c5288d5735cf7159564",
       "version_major": 2,
       "version_minor": 0
      },
      "text/plain": [
       "Validation: |          | 0/? [00:00<?, ?it/s]"
      ]
     },
     "metadata": {},
     "output_type": "display_data"
    },
    {
     "data": {
      "application/vnd.jupyter.widget-view+json": {
       "model_id": "667b92cb0c124a01aa3b7fd8f60970a4",
       "version_major": 2,
       "version_minor": 0
      },
      "text/plain": [
       "Validation: |          | 0/? [00:00<?, ?it/s]"
      ]
     },
     "metadata": {},
     "output_type": "display_data"
    },
    {
     "data": {
      "application/vnd.jupyter.widget-view+json": {
       "model_id": "b7ce6933b67e4e48a948f4b163e33493",
       "version_major": 2,
       "version_minor": 0
      },
      "text/plain": [
       "Validation: |          | 0/? [00:00<?, ?it/s]"
      ]
     },
     "metadata": {},
     "output_type": "display_data"
    },
    {
     "data": {
      "application/vnd.jupyter.widget-view+json": {
       "model_id": "17fab05925be41b2ae78b0ec1a1fba63",
       "version_major": 2,
       "version_minor": 0
      },
      "text/plain": [
       "Validation: |          | 0/? [00:00<?, ?it/s]"
      ]
     },
     "metadata": {},
     "output_type": "display_data"
    },
    {
     "data": {
      "application/vnd.jupyter.widget-view+json": {
       "model_id": "a1d9942b4dab48c995a9f964c0e16daa",
       "version_major": 2,
       "version_minor": 0
      },
      "text/plain": [
       "Validation: |          | 0/? [00:00<?, ?it/s]"
      ]
     },
     "metadata": {},
     "output_type": "display_data"
    },
    {
     "data": {
      "application/vnd.jupyter.widget-view+json": {
       "model_id": "ef8da383e6774f8688b0cbc2d68de675",
       "version_major": 2,
       "version_minor": 0
      },
      "text/plain": [
       "Validation: |          | 0/? [00:00<?, ?it/s]"
      ]
     },
     "metadata": {},
     "output_type": "display_data"
    },
    {
     "data": {
      "application/vnd.jupyter.widget-view+json": {
       "model_id": "e2a8ff7927444fc7833cb63636034dde",
       "version_major": 2,
       "version_minor": 0
      },
      "text/plain": [
       "Validation: |          | 0/? [00:00<?, ?it/s]"
      ]
     },
     "metadata": {},
     "output_type": "display_data"
    },
    {
     "data": {
      "application/vnd.jupyter.widget-view+json": {
       "model_id": "43894a0cc7ce4860bb4a0b397bd7ce3c",
       "version_major": 2,
       "version_minor": 0
      },
      "text/plain": [
       "Validation: |          | 0/? [00:00<?, ?it/s]"
      ]
     },
     "metadata": {},
     "output_type": "display_data"
    },
    {
     "data": {
      "application/vnd.jupyter.widget-view+json": {
       "model_id": "306d8c186cef4fd7b9477691210d1ef4",
       "version_major": 2,
       "version_minor": 0
      },
      "text/plain": [
       "Validation: |          | 0/? [00:00<?, ?it/s]"
      ]
     },
     "metadata": {},
     "output_type": "display_data"
    },
    {
     "data": {
      "application/vnd.jupyter.widget-view+json": {
       "model_id": "c7d06d6a8f6c407eb69f2477b4dce309",
       "version_major": 2,
       "version_minor": 0
      },
      "text/plain": [
       "Validation: |          | 0/? [00:00<?, ?it/s]"
      ]
     },
     "metadata": {},
     "output_type": "display_data"
    },
    {
     "data": {
      "application/vnd.jupyter.widget-view+json": {
       "model_id": "713dd49ed77b4a8aac3d389b9f004a6b",
       "version_major": 2,
       "version_minor": 0
      },
      "text/plain": [
       "Validation: |          | 0/? [00:00<?, ?it/s]"
      ]
     },
     "metadata": {},
     "output_type": "display_data"
    },
    {
     "data": {
      "application/vnd.jupyter.widget-view+json": {
       "model_id": "5d8b36cf52e64e12b7fab4816f7b1e5e",
       "version_major": 2,
       "version_minor": 0
      },
      "text/plain": [
       "Validation: |          | 0/? [00:00<?, ?it/s]"
      ]
     },
     "metadata": {},
     "output_type": "display_data"
    },
    {
     "data": {
      "application/vnd.jupyter.widget-view+json": {
       "model_id": "057ca77c24d84da28e39c6417e9238d0",
       "version_major": 2,
       "version_minor": 0
      },
      "text/plain": [
       "Validation: |          | 0/? [00:00<?, ?it/s]"
      ]
     },
     "metadata": {},
     "output_type": "display_data"
    },
    {
     "data": {
      "application/vnd.jupyter.widget-view+json": {
       "model_id": "c8c217d9fd9543a993aebe83a8e33a70",
       "version_major": 2,
       "version_minor": 0
      },
      "text/plain": [
       "Validation: |          | 0/? [00:00<?, ?it/s]"
      ]
     },
     "metadata": {},
     "output_type": "display_data"
    },
    {
     "data": {
      "application/vnd.jupyter.widget-view+json": {
       "model_id": "45012b07f371411c800c03577791cb5c",
       "version_major": 2,
       "version_minor": 0
      },
      "text/plain": [
       "Validation: |          | 0/? [00:00<?, ?it/s]"
      ]
     },
     "metadata": {},
     "output_type": "display_data"
    },
    {
     "data": {
      "application/vnd.jupyter.widget-view+json": {
       "model_id": "836fdb8d053a49b99910651090ba8aa4",
       "version_major": 2,
       "version_minor": 0
      },
      "text/plain": [
       "Validation: |          | 0/? [00:00<?, ?it/s]"
      ]
     },
     "metadata": {},
     "output_type": "display_data"
    },
    {
     "data": {
      "application/vnd.jupyter.widget-view+json": {
       "model_id": "980cbec8f333436d9a929a7b486613b8",
       "version_major": 2,
       "version_minor": 0
      },
      "text/plain": [
       "Validation: |          | 0/? [00:00<?, ?it/s]"
      ]
     },
     "metadata": {},
     "output_type": "display_data"
    },
    {
     "data": {
      "application/vnd.jupyter.widget-view+json": {
       "model_id": "81c5aec523b2419bbc67b60b9a39c17b",
       "version_major": 2,
       "version_minor": 0
      },
      "text/plain": [
       "Validation: |          | 0/? [00:00<?, ?it/s]"
      ]
     },
     "metadata": {},
     "output_type": "display_data"
    },
    {
     "data": {
      "application/vnd.jupyter.widget-view+json": {
       "model_id": "37b33ba0b86644e69a7794f0f8b915f9",
       "version_major": 2,
       "version_minor": 0
      },
      "text/plain": [
       "Validation: |          | 0/? [00:00<?, ?it/s]"
      ]
     },
     "metadata": {},
     "output_type": "display_data"
    },
    {
     "data": {
      "application/vnd.jupyter.widget-view+json": {
       "model_id": "0481861896954233b92ec0e112117f21",
       "version_major": 2,
       "version_minor": 0
      },
      "text/plain": [
       "Validation: |          | 0/? [00:00<?, ?it/s]"
      ]
     },
     "metadata": {},
     "output_type": "display_data"
    },
    {
     "data": {
      "application/vnd.jupyter.widget-view+json": {
       "model_id": "d3de661a8b0c405091236261f5a299db",
       "version_major": 2,
       "version_minor": 0
      },
      "text/plain": [
       "Validation: |          | 0/? [00:00<?, ?it/s]"
      ]
     },
     "metadata": {},
     "output_type": "display_data"
    },
    {
     "data": {
      "application/vnd.jupyter.widget-view+json": {
       "model_id": "5323deb78bdc4c7a9d5ca07348aba27d",
       "version_major": 2,
       "version_minor": 0
      },
      "text/plain": [
       "Validation: |          | 0/? [00:00<?, ?it/s]"
      ]
     },
     "metadata": {},
     "output_type": "display_data"
    },
    {
     "data": {
      "application/vnd.jupyter.widget-view+json": {
       "model_id": "0ca0b2aab2ad428b8785fb7e72eeeaf3",
       "version_major": 2,
       "version_minor": 0
      },
      "text/plain": [
       "Validation: |          | 0/? [00:00<?, ?it/s]"
      ]
     },
     "metadata": {},
     "output_type": "display_data"
    },
    {
     "data": {
      "application/vnd.jupyter.widget-view+json": {
       "model_id": "183acf14e36c4a33bd07e9029a1d8e8c",
       "version_major": 2,
       "version_minor": 0
      },
      "text/plain": [
       "Validation: |          | 0/? [00:00<?, ?it/s]"
      ]
     },
     "metadata": {},
     "output_type": "display_data"
    },
    {
     "data": {
      "application/vnd.jupyter.widget-view+json": {
       "model_id": "89bc3b72403f4e66809309ee48c189cd",
       "version_major": 2,
       "version_minor": 0
      },
      "text/plain": [
       "Validation: |          | 0/? [00:00<?, ?it/s]"
      ]
     },
     "metadata": {},
     "output_type": "display_data"
    },
    {
     "data": {
      "application/vnd.jupyter.widget-view+json": {
       "model_id": "9a88d6701c29477e856908eeba8018b0",
       "version_major": 2,
       "version_minor": 0
      },
      "text/plain": [
       "Validation: |          | 0/? [00:00<?, ?it/s]"
      ]
     },
     "metadata": {},
     "output_type": "display_data"
    },
    {
     "data": {
      "application/vnd.jupyter.widget-view+json": {
       "model_id": "609693804a3744a7930dcfb8f17acb6a",
       "version_major": 2,
       "version_minor": 0
      },
      "text/plain": [
       "Validation: |          | 0/? [00:00<?, ?it/s]"
      ]
     },
     "metadata": {},
     "output_type": "display_data"
    },
    {
     "data": {
      "application/vnd.jupyter.widget-view+json": {
       "model_id": "72f0fd15fb9a4ddfadadc3c3901d69a2",
       "version_major": 2,
       "version_minor": 0
      },
      "text/plain": [
       "Validation: |          | 0/? [00:00<?, ?it/s]"
      ]
     },
     "metadata": {},
     "output_type": "display_data"
    },
    {
     "data": {
      "application/vnd.jupyter.widget-view+json": {
       "model_id": "97bdb5b30b16432fb292ec1a13ea2b12",
       "version_major": 2,
       "version_minor": 0
      },
      "text/plain": [
       "Validation: |          | 0/? [00:00<?, ?it/s]"
      ]
     },
     "metadata": {},
     "output_type": "display_data"
    },
    {
     "data": {
      "application/vnd.jupyter.widget-view+json": {
       "model_id": "bbb4565577b64a458425b67cd884836f",
       "version_major": 2,
       "version_minor": 0
      },
      "text/plain": [
       "Validation: |          | 0/? [00:00<?, ?it/s]"
      ]
     },
     "metadata": {},
     "output_type": "display_data"
    },
    {
     "data": {
      "application/vnd.jupyter.widget-view+json": {
       "model_id": "8c8ffea79b2d454fac7200a027bc841e",
       "version_major": 2,
       "version_minor": 0
      },
      "text/plain": [
       "Validation: |          | 0/? [00:00<?, ?it/s]"
      ]
     },
     "metadata": {},
     "output_type": "display_data"
    },
    {
     "data": {
      "application/vnd.jupyter.widget-view+json": {
       "model_id": "d9e0e596df6942f889dde979e8567ba2",
       "version_major": 2,
       "version_minor": 0
      },
      "text/plain": [
       "Validation: |          | 0/? [00:00<?, ?it/s]"
      ]
     },
     "metadata": {},
     "output_type": "display_data"
    },
    {
     "data": {
      "application/vnd.jupyter.widget-view+json": {
       "model_id": "35274870c81541e38184755d9126750b",
       "version_major": 2,
       "version_minor": 0
      },
      "text/plain": [
       "Validation: |          | 0/? [00:00<?, ?it/s]"
      ]
     },
     "metadata": {},
     "output_type": "display_data"
    },
    {
     "data": {
      "application/vnd.jupyter.widget-view+json": {
       "model_id": "81bc29de76334cf98af32812d38588ee",
       "version_major": 2,
       "version_minor": 0
      },
      "text/plain": [
       "Validation: |          | 0/? [00:00<?, ?it/s]"
      ]
     },
     "metadata": {},
     "output_type": "display_data"
    },
    {
     "data": {
      "application/vnd.jupyter.widget-view+json": {
       "model_id": "943cff470493405681cdcd8a39a4b6e3",
       "version_major": 2,
       "version_minor": 0
      },
      "text/plain": [
       "Validation: |          | 0/? [00:00<?, ?it/s]"
      ]
     },
     "metadata": {},
     "output_type": "display_data"
    },
    {
     "data": {
      "application/vnd.jupyter.widget-view+json": {
       "model_id": "aec8f290e6f140aba3f4356b126a70f8",
       "version_major": 2,
       "version_minor": 0
      },
      "text/plain": [
       "Validation: |          | 0/? [00:00<?, ?it/s]"
      ]
     },
     "metadata": {},
     "output_type": "display_data"
    },
    {
     "data": {
      "application/vnd.jupyter.widget-view+json": {
       "model_id": "62f65dd4c8874ae18f3776c037908630",
       "version_major": 2,
       "version_minor": 0
      },
      "text/plain": [
       "Validation: |          | 0/? [00:00<?, ?it/s]"
      ]
     },
     "metadata": {},
     "output_type": "display_data"
    },
    {
     "data": {
      "application/vnd.jupyter.widget-view+json": {
       "model_id": "aeffffd978d741f19387ae265d6313d6",
       "version_major": 2,
       "version_minor": 0
      },
      "text/plain": [
       "Validation: |          | 0/? [00:00<?, ?it/s]"
      ]
     },
     "metadata": {},
     "output_type": "display_data"
    },
    {
     "data": {
      "application/vnd.jupyter.widget-view+json": {
       "model_id": "7f013f6027c2438b877ff3f12c8b0f4c",
       "version_major": 2,
       "version_minor": 0
      },
      "text/plain": [
       "Validation: |          | 0/? [00:00<?, ?it/s]"
      ]
     },
     "metadata": {},
     "output_type": "display_data"
    },
    {
     "data": {
      "application/vnd.jupyter.widget-view+json": {
       "model_id": "e8401fbc82c5406fa1f881a011b9dfc6",
       "version_major": 2,
       "version_minor": 0
      },
      "text/plain": [
       "Validation: |          | 0/? [00:00<?, ?it/s]"
      ]
     },
     "metadata": {},
     "output_type": "display_data"
    },
    {
     "data": {
      "application/vnd.jupyter.widget-view+json": {
       "model_id": "3462950ec4c64c13b96e37bee33da979",
       "version_major": 2,
       "version_minor": 0
      },
      "text/plain": [
       "Validation: |          | 0/? [00:00<?, ?it/s]"
      ]
     },
     "metadata": {},
     "output_type": "display_data"
    },
    {
     "data": {
      "application/vnd.jupyter.widget-view+json": {
       "model_id": "fb87834751b34268adc0968e53025d90",
       "version_major": 2,
       "version_minor": 0
      },
      "text/plain": [
       "Validation: |          | 0/? [00:00<?, ?it/s]"
      ]
     },
     "metadata": {},
     "output_type": "display_data"
    },
    {
     "data": {
      "application/vnd.jupyter.widget-view+json": {
       "model_id": "6407e0fcafda4348b73545fffdbda406",
       "version_major": 2,
       "version_minor": 0
      },
      "text/plain": [
       "Validation: |          | 0/? [00:00<?, ?it/s]"
      ]
     },
     "metadata": {},
     "output_type": "display_data"
    },
    {
     "data": {
      "application/vnd.jupyter.widget-view+json": {
       "model_id": "29032bef534544f7afa4b9a14d1a11ab",
       "version_major": 2,
       "version_minor": 0
      },
      "text/plain": [
       "Validation: |          | 0/? [00:00<?, ?it/s]"
      ]
     },
     "metadata": {},
     "output_type": "display_data"
    },
    {
     "data": {
      "application/vnd.jupyter.widget-view+json": {
       "model_id": "9d1c1286480d4274b4262239dd5f7ab0",
       "version_major": 2,
       "version_minor": 0
      },
      "text/plain": [
       "Validation: |          | 0/? [00:00<?, ?it/s]"
      ]
     },
     "metadata": {},
     "output_type": "display_data"
    },
    {
     "data": {
      "application/vnd.jupyter.widget-view+json": {
       "model_id": "6b10c76d690846038db17fe9e3d4806b",
       "version_major": 2,
       "version_minor": 0
      },
      "text/plain": [
       "Validation: |          | 0/? [00:00<?, ?it/s]"
      ]
     },
     "metadata": {},
     "output_type": "display_data"
    },
    {
     "data": {
      "application/vnd.jupyter.widget-view+json": {
       "model_id": "50ede7c3fbf44e7986589a88b6255554",
       "version_major": 2,
       "version_minor": 0
      },
      "text/plain": [
       "Validation: |          | 0/? [00:00<?, ?it/s]"
      ]
     },
     "metadata": {},
     "output_type": "display_data"
    },
    {
     "data": {
      "application/vnd.jupyter.widget-view+json": {
       "model_id": "51810bb37a874ff38bbafab8ae50e4ef",
       "version_major": 2,
       "version_minor": 0
      },
      "text/plain": [
       "Validation: |          | 0/? [00:00<?, ?it/s]"
      ]
     },
     "metadata": {},
     "output_type": "display_data"
    },
    {
     "data": {
      "application/vnd.jupyter.widget-view+json": {
       "model_id": "4f3da53be5694fff9876a3a95c86bc44",
       "version_major": 2,
       "version_minor": 0
      },
      "text/plain": [
       "Validation: |          | 0/? [00:00<?, ?it/s]"
      ]
     },
     "metadata": {},
     "output_type": "display_data"
    },
    {
     "data": {
      "application/vnd.jupyter.widget-view+json": {
       "model_id": "e009fd0f5fe2495eb6aad73f6e74447e",
       "version_major": 2,
       "version_minor": 0
      },
      "text/plain": [
       "Validation: |          | 0/? [00:00<?, ?it/s]"
      ]
     },
     "metadata": {},
     "output_type": "display_data"
    },
    {
     "data": {
      "application/vnd.jupyter.widget-view+json": {
       "model_id": "b8f702f2e92b4de2af030e06e18930f1",
       "version_major": 2,
       "version_minor": 0
      },
      "text/plain": [
       "Validation: |          | 0/? [00:00<?, ?it/s]"
      ]
     },
     "metadata": {},
     "output_type": "display_data"
    },
    {
     "data": {
      "application/vnd.jupyter.widget-view+json": {
       "model_id": "e46b26a01818478bb47e23783c3ade3a",
       "version_major": 2,
       "version_minor": 0
      },
      "text/plain": [
       "Validation: |          | 0/? [00:00<?, ?it/s]"
      ]
     },
     "metadata": {},
     "output_type": "display_data"
    },
    {
     "data": {
      "application/vnd.jupyter.widget-view+json": {
       "model_id": "3067c84684024c48aeef41fa7b7d1562",
       "version_major": 2,
       "version_minor": 0
      },
      "text/plain": [
       "Validation: |          | 0/? [00:00<?, ?it/s]"
      ]
     },
     "metadata": {},
     "output_type": "display_data"
    },
    {
     "data": {
      "application/vnd.jupyter.widget-view+json": {
       "model_id": "2816da13e86941a59c66b70ebe816b74",
       "version_major": 2,
       "version_minor": 0
      },
      "text/plain": [
       "Validation: |          | 0/? [00:00<?, ?it/s]"
      ]
     },
     "metadata": {},
     "output_type": "display_data"
    },
    {
     "data": {
      "application/vnd.jupyter.widget-view+json": {
       "model_id": "1a53bc5d2e73455385a8fbcb6094ea22",
       "version_major": 2,
       "version_minor": 0
      },
      "text/plain": [
       "Validation: |          | 0/? [00:00<?, ?it/s]"
      ]
     },
     "metadata": {},
     "output_type": "display_data"
    },
    {
     "data": {
      "application/vnd.jupyter.widget-view+json": {
       "model_id": "8fd4f9e3a26d437d92c1ed5c980e4546",
       "version_major": 2,
       "version_minor": 0
      },
      "text/plain": [
       "Validation: |          | 0/? [00:00<?, ?it/s]"
      ]
     },
     "metadata": {},
     "output_type": "display_data"
    },
    {
     "data": {
      "application/vnd.jupyter.widget-view+json": {
       "model_id": "9c718bdb68714511bd056bd34c5cd828",
       "version_major": 2,
       "version_minor": 0
      },
      "text/plain": [
       "Validation: |          | 0/? [00:00<?, ?it/s]"
      ]
     },
     "metadata": {},
     "output_type": "display_data"
    },
    {
     "ename": "",
     "evalue": "",
     "output_type": "error",
     "traceback": [
      "\u001b[1;31mFailed to connect to the remote Jupyter Server 'http://10.120.208.7:8888/'. Verify the server is running and reachable."
     ]
    }
   ],
   "source": [
    "from lightning.pytorch.loggers import WandbLogger\n",
    "from sklearn.model_selection import KFold\n",
    "from lightning.pytorch import seed_everything\n",
    "from segmentation_models_pytorch.losses import DiceLoss, JaccardLoss\n",
    "from lightning.pytorch.callbacks import LearningRateMonitor\n",
    "import wandb\n",
    "\n",
    "\n",
    "BATCH_SIZE = 5\n",
    "num_epochs = 120\n",
    "\n",
    "os.environ[\"WANDB_API_KEY\"] = \"21924e6e134841c5c16842c4ac42fcbe5a66feb2\"\n",
    "\n",
    "# TypicalImageNorm = lambda x: (x - np.min(x)) / (np.max(x) - np.min(x)) * 255\n",
    "\n",
    "transform_x = transforms.Compose([\n",
    "                    # MinMaxNorm,\n",
    "                    TypicalImageNorm(factor = 1, substract=0),\n",
    "                    ApplyMorphology(operation = morphology.binary_opening, concat = True, footprint = morphology.disk(2)),\n",
    "                    # ApplyMorphology(operation = morphology.area_opening, concat = True, area_threshold = 200, connectivity = 1),\n",
    "                    ApplyIntensityTransformation(transformation = exposure.equalize_hist, concat = True, nbins = 4096),\n",
    "                    # ApplyIntensityTransformation(transformation = exposure.equalize_adapthist, concat = True, nbins = 640, kernel_size = 5),\n",
    "                    ApplyMorphology(operation = morphology.area_opening, concat = True, area_threshold = 200, connectivity = 1),\n",
    "                    ApplyFilter(filter = ndimage.gaussian_filter, concat = True, sigma = 5),\n",
    "                    transforms.ToTensor(),\n",
    "                    CustomPad(target_size = (992, 992), fill_min=0, tensor_type=torch.Tensor.float)\n",
    "                    ])\n",
    "\n",
    "transform_y = transforms.Compose([\n",
    "                    transforms.ToTensor(),\n",
    "                    CustomPad(target_size = (992, 992), fill = 0, tensor_type=torch.Tensor.int)\n",
    "                    ])\n",
    "\n",
    "df = pd.read_csv(\"data_files_1c_train.csv\")\n",
    "dataset = NebulaeDataset(data_directory, masks_directory, df, transform = (transform_x, transform_y))\n",
    "\n",
    "seed_everything(42, workers = True)\n",
    "\n",
    "model_name = \"UNET_base_AdaptHist\"\n",
    "\n",
    "# Definimos el K-fold Cross Validator\n",
    "kfold = KFold(n_splits=10, shuffle=True, random_state = 42)\n",
    "\n",
    "# Comenzamos a imprimir los resultados\n",
    "print('--------------------------------')\n",
    "\n",
    "# Comenzamos a evaluar el modelo gracias al K-Fold Cross Validation\n",
    "for fold, (train_ids, val_ids) in enumerate(kfold.split(dataset)):\n",
    "    callbacks = [PrintCallback(), LearningRateMonitor(logging_interval='epoch')]\n",
    "    \n",
    "    model = UNet(input_channels = dataset[0][0].shape[0], n_class = 1)\n",
    "    \n",
    "    # Definimos el modelo con los pesos inicializados aleatoriamente (sin preentrenar)\n",
    "    model = UNETModel(model = model, learning_rate=5e-6, threshold=0, current_fold=fold, loss_fn=DiceLoss, scheduler=optim.lr_scheduler.ReduceLROnPlateau, mode='min', factor=0.1, patience=15, cooldown=3, verbose=False)\n",
    "    # model = UNETModel(model = model, learning_rate=5e-5, current_fold=fold, loss_fn=DiceLoss, scheduler=optim.lr_scheduler.StepLR, step_size = 3, gamma = 0.1, verbose=False)\n",
    "    # model = UNETModel(model = model, learning_rate=5e-5, current_fold=fold, loss_fn=DiceLoss, scheduler=optim.lr_scheduler.MultiStepLR, milestones = [3, 16], gamma = 0.1, verbose=False)\n",
    "    ruta_logs_wandb = os.environ[\"STORE\"] + \"/TFG/logs_wandb/\"\n",
    "    logger_wandb = WandbLogger(project=\"segmentation_TFG\", log_model = False, name=model_name, save_dir=ruta_logs_wandb)\n",
    "    logger_wandb.experiment.config.update({\"model_name\": model_name})\n",
    "\n",
    "    # log gradients, parameter histogram and model topology\n",
    "    logger_wandb.watch(model, log=\"all\")\n",
    "\n",
    "    trainer = L.Trainer(strategy='auto', max_epochs=num_epochs, accelerator='cuda', log_every_n_steps=1, logger= logger_wandb, callbacks=callbacks)\n",
    "\n",
    "    # Imprimimos el fold del que van a mostrarse los resultados\n",
    "    print('--------------------------------')\n",
    "    print(f\"Model info:\\n\\t- Batch Size: {BATCH_SIZE}\\n\\t- GPUs on use: {torch.cuda.device_count()}\")\n",
    "\n",
    "    # Creamos nuestros propios Subsets de PyTorch aplicando a cada conjunto la transformacion deseada\n",
    "    train_subset = torch.utils.data.Subset(dataset, train_ids)\n",
    "    val_subset = torch.utils.data.Subset(dataset, val_ids)\n",
    "\n",
    "    # Definimos un data loader por cada conjunto de datos que vamos a utilizar.\n",
    "    trainloader = torch.utils.data.DataLoader(\n",
    "                            train_subset,\n",
    "                            batch_size=BATCH_SIZE, num_workers=8, shuffle=True, persistent_workers=True)\n",
    "\n",
    "    valloader = torch.utils.data.DataLoader(\n",
    "                            val_subset,\n",
    "                            batch_size=BATCH_SIZE, num_workers=8, shuffle=False, persistent_workers=True)\n",
    "    \n",
    "    # Entrenamos el modelo, extrayendo los resultados y guardandolos en la variable result, y evaluamos en el conjunto de test.\n",
    "    trainer.fit(model, trainloader, valloader) \n",
    "\n",
    "    logger_wandb.experiment.unwatch(model)\n",
    "\n",
    "    # trainer.test(model, testloader) \n",
    "    \n",
    "    df_test = pd.read_csv(\"data_files_1c_test.csv\")\n",
    "    dataset_test = NebulaeDataset(data_directory, masks_directory, df_test, transform = (transform_x, transform_y))\n",
    "\n",
    "    testloader = torch.utils.data.DataLoader(\n",
    "                            dataset_test,\n",
    "                            batch_size=BATCH_SIZE, num_workers=8, shuffle=False, persistent_workers=True)\n",
    "    \n",
    "    # Creamos un nuevo entrenador con una sola GPU para la fase de prueba\n",
    "    trainer_test = L.Trainer(devices = 1, strategy='auto', max_epochs=num_epochs, accelerator='cuda', log_every_n_steps=1, logger=logger_wandb, callbacks=callbacks)\n",
    "    trainer_test.test(model, testloader)\n",
    "\n",
    "    logger_wandb.finalize(\"success\")\n",
    "    wandb.finish()\n",
    "    break"
   ]
  },
  {
   "cell_type": "code",
   "execution_count": null,
   "metadata": {},
   "outputs": [],
   "source": []
  }
 ],
 "metadata": {
  "kernelspec": {
   "display_name": "Python 3 (ipykernel)",
   "language": "python",
   "name": "python3"
  },
  "language_info": {
   "codemirror_mode": {
    "name": "ipython",
    "version": 3
   },
   "file_extension": ".py",
   "mimetype": "text/x-python",
   "name": "python",
   "nbconvert_exporter": "python",
   "pygments_lexer": "ipython3",
   "version": "3.10.12"
  }
 },
 "nbformat": 4,
 "nbformat_minor": 2
}
