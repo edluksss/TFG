{
 "cells": [
  {
   "cell_type": "markdown",
   "metadata": {},
   "source": [
    "# Notebook de preparación del dataset para YOLO"
   ]
  },
  {
   "cell_type": "markdown",
   "metadata": {},
   "source": [
    "## Cajas delimitadoras"
   ]
  },
  {
   "cell_type": "code",
   "execution_count": 1,
   "metadata": {},
   "outputs": [
    {
     "name": "stdout",
     "output_type": "stream",
     "text": [
      "Vamos a cambiar el directorio de trabajo\n",
      " El directorio actual es: /mnt/netapp2/Home_FT2/home/ulc/co/ela/TFG/test/PNe_segmentation\n",
      " Contenido del directorio actual:\n",
      "\t train_models\n",
      "\t data\n",
      "\t create_dataset.ipynb\n",
      "\t data_files_1c.csv\n",
      "\t images\n",
      "\t image_analysis.ipynb\n",
      "\t masks\n",
      "\t segmentation_no_supervisada.ipynb\n",
      "\t segmentation_no_supervisada_2c.ipynb\n",
      "\t segmentation_no_supervisada_pytorch.ipynb\n",
      "\t segmentation_supervisada.ipynb\n",
      "\t dataset_info.csv\n",
      "\t data_files_1c_train.csv\n",
      "\t historico_notebooks\n",
      "\t data_files_1c_test.csv\n",
      "\t segmentation_no_supervisada_pytorch_clean.ipynb\n",
      "\t segmentation_supervisada_pytorch copy.ipynb\n",
      "\t segmentation_supervisada_pytorch.ipynb\n",
      "\t cesga\n",
      "\t segmentation_supervisada_pytorch copy 2.ipynb\n",
      "\t segmentation_supervisada_pytorch copy 3.ipynb\n",
      "\t data_files_1c_train_da.csv\n"
     ]
    }
   ],
   "source": [
    "import os\n",
    "\n",
    "print(\"Vamos a cambiar el directorio de trabajo\")\n",
    "\n",
    "# Indicamos la ruta del directorio de trabajo\n",
    "route = os.getcwd()+\"/TFG/test/PNe_segmentation\"\n",
    "os.chdir(route)\n",
    "\n",
    "current_directory = os.getcwd()\n",
    "print(\" El directorio actual es:\", current_directory)\n",
    "\n",
    "# Listamos el contenido del directorio\n",
    "files = os.listdir(current_directory)\n",
    "print(\" Contenido del directorio actual:\")\n",
    "for file in files:\n",
    "    print(\"\\t\",file)\n",
    "    \n",
    "# Listamos el contenido del directorio de las máscaras\n",
    "# masks_directory = route+\"TFG\\\\test\\\\PNe_segmentation\\\\masks\"\n",
    "# data_directory = route+\"TFG\\\\test\\\\PNe_segmentation\\\\data\"\n",
    "## Ejecución en el CESGA Finisterrae III\n",
    "masks_directory = current_directory+\"/masks\"\n",
    "data_directory = current_directory+\"/data\"\n",
    "\n",
    "os.chdir(route+\"/../yolo_segmentation\")\n",
    "save_directory = os.getcwd()\n"
   ]
  },
  {
   "cell_type": "code",
   "execution_count": 47,
   "metadata": {},
   "outputs": [],
   "source": [
    "import os\n",
    "from skimage import measure, io\n",
    "import matplotlib.pyplot as plt\n",
    "import numpy as np\n",
    "\n",
    "if not os.path.exists(save_directory+\"/labels/train\"):\n",
    "    os.makedirs(save_directory+\"/labels/train\")\n",
    "\n",
    "for mask_name in os.listdir(masks_directory):\n",
    "    if mask_name.endswith('.png'):\n",
    "        mask_path = os.path.join(masks_directory, mask_name)\n",
    "        mask = plt.imread(mask_path, format='grayscale')\n",
    "        if mask.ndim > 2:\n",
    "            mask = mask[..., 0]\n",
    "\n",
    "        mask = (mask.round() > 0).astype(np.uint8)  # Asegurarse de que la máscara sea binaria\n",
    "        \n",
    "        labeled_mask = measure.label(mask)\n",
    "        regions = measure.regionprops(labeled_mask)\n",
    "\n",
    "        height, width = mask.shape\n",
    "        label_path = os.path.join(save_directory+\"/labels\", mask_name.replace('.png', '.txt'))\n",
    "        with open(label_path, 'w') as f:\n",
    "            for region in regions:\n",
    "                minr, minc, maxr, maxc = region.bbox\n",
    "                x_center = (minc + maxc) / 2 / width\n",
    "                y_center = (minr + maxr) / 2 / height\n",
    "                w_norm = (maxc - minc) / width\n",
    "                h_norm = (maxr - minr) / height\n",
    "                f.write(f\"0 {x_center} {y_center} {w_norm} {h_norm}\\n\")"
   ]
  },
  {
   "cell_type": "code",
   "execution_count": 189,
   "metadata": {},
   "outputs": [
    {
     "data": {
      "image/png": "[encoded data removed]",
      "text/plain": [
       "<Figure size 640x480 with 1 Axes>"
      ]
     },
     "metadata": {},
     "output_type": "display_data"
    }
   ],
   "source": [
    "# Rutas de la máscara y el archivo de etiquetas\n",
    "mask_name = 'YM16_contour.png'\n",
    "mask_path = os.path.join(masks_directory, mask_name)\n",
    "label_path = os.path.join(save_directory+\"/labels/train\", mask_name.replace('.png', '.txt'))\n",
    "\n",
    "# Cargar la máscara\n",
    "mask = io.imread(mask_path, as_gray=True)\n",
    "mask = (mask.round() > 0).astype(np.uint8)  # Asegurarse de que la máscara sea binaria\n",
    "\n",
    "# Leer el archivo de etiquetas\n",
    "with open(label_path, 'r') as f:\n",
    "    lines = f.readlines()\n",
    "\n",
    "# Dibujar la máscara y el rectángulo\n",
    "fig, ax = plt.subplots()\n",
    "ax.imshow(mask, cmap='gray')\n",
    "\n",
    "height, width = mask.shape\n",
    "for line in lines:\n",
    "    class_id, x_center, y_center, w_norm, h_norm = map(float, line.split())\n",
    "    x_center *= width\n",
    "    y_center *= height\n",
    "    w = w_norm * width\n",
    "    h = h_norm * height\n",
    "    x_min = x_center - w / 2\n",
    "    y_min = y_center - h / 2\n",
    "    rect = plt.Rectangle((x_min, y_min), w, h, edgecolor='red', facecolor='none')\n",
    "    ax.add_patch(rect)\n",
    "\n",
    "plt.axis('off')\n",
    "plt.show()"
   ]
  },
  {
   "cell_type": "markdown",
   "metadata": {},
   "source": [
    "## Convertir fits a JPG"
   ]
  },
  {
   "cell_type": "markdown",
   "metadata": {},
   "source": [
    "Lo realizamos para el conjunto de entrenamiento"
   ]
  },
  {
   "cell_type": "code",
   "execution_count": 178,
   "metadata": {},
   "outputs": [],
   "source": [
    "import numpy as np\n",
    "from pnebulae_torch.dataset import NebulaeDataset\n",
    "from pnebulae_torch.normalize import MinMaxImageNorm, TypicalImageNorm\n",
    "from pnebulae_torch.preprocess import ApplyIntensityTransformation, CutValues\n",
    "from skimage import exposure\n",
    "from torchvision import transforms\n",
    "import torch\n",
    "import pandas as pd\n",
    "\n",
    "transform_x = transforms.Compose([\n",
    "                    CutValues(factor = 2),\n",
    "                    TypicalImageNorm(factor = 1, substract=0)\n",
    "                    \n",
    "                    ])\n",
    "\n",
    "transform_y = transforms.Compose([\n",
    "                    transforms.ToTensor()\n",
    "                    ])\n",
    "\n",
    "df_train = pd.read_csv(route+\"/data_files_1c_train.csv\")\n",
    "dataset_train = NebulaeDataset(data_directory, masks_directory, df_train, transform = (transform_x, transform_y))\n",
    "\n"
   ]
  },
  {
   "cell_type": "code",
   "execution_count": 179,
   "metadata": {},
   "outputs": [],
   "source": [
    "from PIL import Image\n",
    "\n",
    "if not os.path.exists(save_directory+\"/data/train\"):\n",
    "    os.makedirs(save_directory+\"/data/train\")\n",
    "\n",
    "for i in range(len(dataset_train)):\n",
    "    \n",
    "    file_name = df_train.iloc[i]['mask']#.replace('.png', '.jpg')\n",
    "    file_path = os.path.join(save_directory+\"/data/train\", file_name)\n",
    "    \n",
    "    image = Image.fromarray((dataset_train[i][0]*255).round().astype(np.uint8))\n",
    "    image.save(file_path)"
   ]
  },
  {
   "cell_type": "code",
   "execution_count": 182,
   "metadata": {},
   "outputs": [],
   "source": [
    "import os\n",
    "from skimage import measure, io\n",
    "import numpy as np\n",
    "\n",
    "if not os.path.exists(save_directory + \"/labels/train\"):\n",
    "    os.makedirs(save_directory + \"/labels/train\")\n",
    "\n",
    "for mask_name in os.listdir(masks_directory):\n",
    "    if mask_name.endswith('.png'):\n",
    "        mask_path = os.path.join(masks_directory, mask_name)\n",
    "        mask = plt.imread(mask_path, format='grayscale')\n",
    "        \n",
    "        if mask.ndim > 2:\n",
    "            mask = mask[..., 0]\n",
    "\n",
    "        mask = (mask.round() > 0).astype(np.uint8)  # Asegurarse de que la máscara sea binaria\n",
    "        \n",
    "        labeled_mask = measure.label(mask)\n",
    "        regions = measure.regionprops(labeled_mask)\n",
    "\n",
    "        height, width = mask.shape\n",
    "        label_path = os.path.join(save_directory + \"/labels/train\", mask_name.replace('.png', '.txt'))\n",
    "        with open(label_path, 'w') as f:\n",
    "            for region in regions:\n",
    "                coords = region.coords.astype(np.float32)\n",
    "                coords = coords[:, [1, 0]]  # Intercambiar columnas para tener (x, y)\n",
    "                coords[:, 0] = coords[:, 0] / width  # Normalizar coordenadas x\n",
    "                coords[:, 1] = coords[:, 1] / height  # Normalizar coordenadas y\n",
    "                coords = coords.flatten()\n",
    "                coords_str = ' '.join(map(str, coords))\n",
    "                f.write(f\"0 {coords_str}\\n\")"
   ]
  },
  {
   "cell_type": "markdown",
   "metadata": {},
   "source": [
    "Y también para el de test"
   ]
  },
  {
   "cell_type": "code",
   "execution_count": 183,
   "metadata": {},
   "outputs": [],
   "source": [
    "import numpy as np\n",
    "from pnebulae_torch.dataset import NebulaeDataset\n",
    "from pnebulae_torch.normalize import MinMaxImageNorm, TypicalImageNorm\n",
    "from pnebulae_torch.preprocess import ApplyIntensityTransformation, CutValues\n",
    "from skimage import exposure\n",
    "from torchvision import transforms\n",
    "import torch\n",
    "import pandas as pd\n",
    "\n",
    "transform_x = transforms.Compose([\n",
    "                    CutValues(factor = 2),\n",
    "                    TypicalImageNorm(factor = 1, substract=0)\n",
    "                    \n",
    "                    ])\n",
    "\n",
    "transform_y = transforms.Compose([\n",
    "                    transforms.ToTensor()\n",
    "                    ])\n",
    "\n",
    "df_test = pd.read_csv(route+\"/data_files_1c_test.csv\")\n",
    "dataset_test = NebulaeDataset(data_directory, masks_directory, df_test, transform = (transform_x, transform_y))"
   ]
  },
  {
   "cell_type": "code",
   "execution_count": 177,
   "metadata": {},
   "outputs": [],
   "source": [
    "from PIL import Image\n",
    "\n",
    "if not os.path.exists(save_directory+\"/data/test\"):\n",
    "    os.makedirs(save_directory+\"/data/test\")\n",
    "\n",
    "for i in range(len(dataset_test)):\n",
    "    \n",
    "    file_name = df_test.iloc[i]['mask']#.replace('.png', '.jpg')\n",
    "    file_path = os.path.join(save_directory+\"/data/test\", file_name)\n",
    "    \n",
    "    image = Image.fromarray((dataset_test[i][0]*255).round().astype(np.uint8))\n",
    "    image.save(file_path)"
   ]
  },
  {
   "cell_type": "code",
   "execution_count": 186,
   "metadata": {},
   "outputs": [],
   "source": [
    "import os\n",
    "from skimage import measure, io\n",
    "import matplotlib.pyplot as plt\n",
    "import numpy as np\n",
    "\n",
    "if not os.path.exists(save_directory+\"/labels/test\"):\n",
    "    os.makedirs(save_directory+\"/labels/test\")\n",
    "    \n",
    "for i in range(len(dataset_test)):\n",
    "    mask_name = df_test.iloc[i]['mask']\n",
    "    if mask_name.endswith('.png'):\n",
    "        mask_path = os.path.join(masks_directory, mask_name)\n",
    "        mask = plt.imread(mask_path, format='grayscale')\n",
    "        if mask.ndim > 2:\n",
    "            mask = mask[..., 0]\n",
    "\n",
    "        mask = (mask.round() > 0).astype(np.uint8)  # Asegurarse de que la máscara sea binaria\n",
    "        \n",
    "        labeled_mask = measure.label(mask)\n",
    "        regions = measure.regionprops(labeled_mask)\n",
    "\n",
    "        height, width = mask.shape\n",
    "        label_path = os.path.join(save_directory+\"/labels/test\", mask_name.replace('.png', '.txt'))\n",
    "        with open(label_path, 'w') as f:\n",
    "            for region in regions:\n",
    "                minr, minc, maxr, maxc = region.bbox\n",
    "                x_center = (minc + maxc) / 2 / width\n",
    "                y_center = (minr + maxr) / 2 / height\n",
    "                w_norm = (maxc - minc) / width\n",
    "                h_norm = (maxr - minr) / height\n",
    "                f.write(f\"0 {x_center} {y_center} {w_norm} {h_norm}\\n\")"
   ]
  },
  {
   "cell_type": "markdown",
   "metadata": {},
   "source": [
    "Copiamos los .png referentes a la máscara en sus carpetas correspondientes en labels"
   ]
  },
  {
   "cell_type": "code",
   "execution_count": 101,
   "metadata": {},
   "outputs": [],
   "source": [
    "import shutil\n",
    "\n",
    "if not os.path.exists(save_directory+\"/labels/train\"):\n",
    "    os.makedirs(save_directory+\"/labels/train\")\n",
    "\n",
    "source_path = masks_directory\n",
    "destination_path = save_directory+\"/labels/train\"\n",
    "\n",
    "for i in range(len(dataset_train)):\n",
    "    file_name = df_train.iloc[i]['mask']\n",
    "    shutil.copy(source_path+\"/\"+file_name, destination_path+\"/\"+file_name)"
   ]
  },
  {
   "cell_type": "code",
   "execution_count": 102,
   "metadata": {},
   "outputs": [],
   "source": [
    "if not os.path.exists(save_directory+\"/labels/test\"):\n",
    "    os.makedirs(save_directory+\"/labels/test\")\n",
    "\n",
    "source_path = masks_directory\n",
    "destination_path = save_directory+\"/labels/test\"\n",
    "\n",
    "for i in range(len(dataset_test)):\n",
    "    file_name = df_test.iloc[i]['mask']\n",
    "    shutil.copy(source_path+\"/\"+file_name, destination_path+\"/\"+file_name)"
   ]
  },
  {
   "cell_type": "code",
   "execution_count": 104,
   "metadata": {},
   "outputs": [
    {
     "name": "stdout",
     "output_type": "stream",
     "text": [
      "Cantidad de archivos en la carpeta: 192\n"
     ]
    }
   ],
   "source": [
    "destination_path = save_directory+\"/labels/train\"\n",
    "\n",
    "# Contar la cantidad de archivos\n",
    "file_count = len([name for name in os.listdir(destination_path) if os.path.isfile(os.path.join(destination_path, name))])\n",
    "\n",
    "print(f\"Cantidad de archivos en la carpeta: {file_count}\")"
   ]
  },
  {
   "cell_type": "code",
   "execution_count": 174,
   "metadata": {},
   "outputs": [
    {
     "name": "stdout",
     "output_type": "stream",
     "text": [
      "(246, 246)\n"
     ]
    }
   ],
   "source": [
    "from PIL import Image\n",
    "import numpy as np\n",
    "\n",
    "# Ruta de la imagen de máscara\n",
    "mask_path = save_directory+\"/segment/labels/train_converted/Pe1_14_contour.png\"\n",
    "\n",
    "# Cargar la imagen con PIL\n",
    "image = Image.open(mask_path)\n",
    "\n",
    "# Convertir la imagen a un array de numpy\n",
    "image_array = np.array(image)\n",
    "\n",
    "# Ver los valores del array de numpy\n",
    "print(image_array.shape)\n"
   ]
  },
  {
   "cell_type": "code",
   "execution_count": 175,
   "metadata": {},
   "outputs": [
    {
     "data": {
      "image/jpeg": "[encoded data removed]",
      "image/png": "[encoded data removed]",
      "text/plain": [
       "<PIL.PngImagePlugin.PngImageFile image mode=L size=246x246>"
      ]
     },
     "metadata": {},
     "output_type": "display_data"
    }
   ],
   "source": [
    "image.show()"
   ]
  },
  {
   "cell_type": "code",
   "execution_count": 147,
   "metadata": {},
   "outputs": [
    {
     "name": "stdout",
     "output_type": "stream",
     "text": [
      "Conversión completada.\n"
     ]
    }
   ],
   "source": [
    "mask_path = os.path.join(save_directory, \"segment/labels/val\")\n",
    "\n",
    "# Crear directorio para guardar las imágenes convertidas\n",
    "converted_path = os.path.join(save_directory, \"segment/labels/val_converted\")\n",
    "if not os.path.exists(converted_path):\n",
    "    os.makedirs(converted_path)\n",
    "\n",
    "for mask_name in os.listdir(mask_path):\n",
    "    if mask_name.endswith('.png'):\n",
    "        mask_full_path = os.path.join(mask_path, mask_name)\n",
    "        \n",
    "        # Cargar la imagen\n",
    "        mask = Image.open(mask_full_path)\n",
    "        \n",
    "        # Convertir a escala de grises\n",
    "        mask_gray = mask.convert('L')\n",
    "        \n",
    "        # Guardar la imagen convertida\n",
    "        mask_gray.save(os.path.join(converted_path, mask_name))\n",
    "\n",
    "print(\"Conversión completada.\")"
   ]
  },
  {
   "cell_type": "code",
   "execution_count": 173,
   "metadata": {},
   "outputs": [
    {
     "name": "stdout",
     "output_type": "stream",
     "text": [
      "Conversión completada.\n"
     ]
    }
   ],
   "source": [
    "import os\n",
    "from PIL import Image\n",
    "import numpy as np\n",
    "\n",
    "mask_path = os.path.join(save_directory, \"segment/labels/val\")\n",
    "\n",
    "# Crear directorio para guardar las imágenes convertidas\n",
    "converted_path = os.path.join(save_directory, \"segment/labels/val_converted\")\n",
    "if not os.path.exists(converted_path):\n",
    "    os.makedirs(converted_path)\n",
    "\n",
    "for mask_name in os.listdir(mask_path):\n",
    "    if mask_name.endswith('.png'):\n",
    "        mask_full_path = os.path.join(mask_path, mask_name)\n",
    "        \n",
    "        # Cargar la imagen\n",
    "        mask = Image.open(mask_full_path)\n",
    "        \n",
    "        # Convertir la imagen a un array de numpy\n",
    "        mask_array = np.array(mask)\n",
    "        \n",
    "        # Ajustar los píxeles con valor 1 a 0\n",
    "        mask_array[mask_array == 1] = 0\n",
    "        \n",
    "        # Convertir el array de numpy de nuevo a imagen\n",
    "        mask_gray_corrected = Image.fromarray(mask_array)\n",
    "        \n",
    "        # Guardar la imagen convertida\n",
    "        mask_gray_corrected.save(os.path.join(converted_path, mask_name))\n",
    "\n",
    "print(\"Conversión completada.\")"
   ]
  }
 ],
 "metadata": {
  "kernelspec": {
   "display_name": "Python 3 (ipykernel)",
   "language": "python",
   "name": "python3"
  },
  "language_info": {
   "codemirror_mode": {
    "name": "ipython",
    "version": 3
   },
   "file_extension": ".py",
   "mimetype": "text/x-python",
   "name": "python",
   "nbconvert_exporter": "python",
   "pygments_lexer": "ipython3",
   "version": "3.10.12"
  }
 },
 "nbformat": 4,
 "nbformat_minor": 2
}
